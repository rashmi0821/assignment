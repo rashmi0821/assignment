{
 "cells": [
  {
   "cell_type": "markdown",
   "id": "cdd69ad1-4333-48cf-82d0-45efd9a79717",
   "metadata": {},
   "source": [
    "Q.1 What is Exception in python? write the difference between Exception and syntax error. "
   ]
  },
  {
   "cell_type": "markdown",
   "id": "a63f8025-bfa9-453e-bb26-5c1c624a8cc2",
   "metadata": {},
   "source": [
    "An Exception is an event that occures during the programs execution and disrupts the normal\n",
    "flow of the programs execution."
   ]
  },
  {
   "cell_type": "markdown",
   "id": "77036025-3e67-4d5a-8c9b-f5d202e69ff5",
   "metadata": {},
   "source": [
    "The syntax error indicates trouble that primarily occures due to the scarcity of system resources.\n",
    "The excemption are the issue that can appear at run time and compile time."
   ]
  },
  {
   "cell_type": "markdown",
   "id": "781dc8e8-30af-4b34-9604-cea8596c647f",
   "metadata": {},
   "source": [
    "Q.2 What happen when an Exception is not hendled? Explain with Example."
   ]
  },
  {
   "cell_type": "code",
   "execution_count": null,
   "id": "7388a764-366c-4a43-b7b0-15ea65a90473",
   "metadata": {},
   "outputs": [],
   "source": [
    "The program terminates abruptly and the code past the line that caused the exception will not\n",
    "get executed."
   ]
  },
  {
   "cell_type": "code",
   "execution_count": null,
   "id": "9ca09b11-2ff1-44d7-8fcf-7efbd0fe110b",
   "metadata": {},
   "outputs": [],
   "source": []
  },
  {
   "cell_type": "markdown",
   "id": "618056e3-33c4-4439-83be-a3d4a62d2c53",
   "metadata": {},
   "source": [
    "Q.3 Which python statements are used to catch and handle exception? explain with an example."
   ]
  },
  {
   "cell_type": "markdown",
   "id": "f9a5fa88-d26a-4bf8-bfcb-1e42cf085d4f",
   "metadata": {},
   "source": [
    "The try and except block in python is used to handle exception."
   ]
  },
  {
   "cell_type": "code",
   "execution_count": 2,
   "id": "23ce10c4-c398-419f-9c5e-afd86ff0ff76",
   "metadata": {},
   "outputs": [
    {
     "data": {
      "text/plain": [
       "12"
      ]
     },
     "execution_count": 2,
     "metadata": {},
     "output_type": "execute_result"
    }
   ],
   "source": [
    "try :\n",
    "    f =open(\"test.txt\", 'r')\n",
    "except Exception as e :\n",
    "    print(\"this is try and except block\" , e)\n",
    "a = 6+6\n",
    "a"
   ]
  },
  {
   "cell_type": "markdown",
   "id": "0169bc19-1d77-4e87-8490-45899ca6bf97",
   "metadata": {},
   "source": [
    "Q.4 Explain with an example\n",
    "   a. try and else\n",
    "   b. finally\n",
    "   c. raise"
   ]
  },
  {
   "cell_type": "code",
   "execution_count": 1,
   "id": "26cd2a32-588b-419f-b237-f3e52d66699f",
   "metadata": {},
   "outputs": [
    {
     "name": "stdout",
     "output_type": "stream",
     "text": [
      "this is my first try and else assignment\n"
     ]
    }
   ],
   "source": [
    "try :\n",
    "    f =open(\"test.txt\", 'w')\n",
    "    f.write(\"write my work\")\n",
    "    \n",
    "except Exception as e :\n",
    "    print(\"this is try block\" , e)\n",
    "    \n",
    "else :\n",
    "    f.close()\n",
    "    print(\"this is my first try and else assignment\")"
   ]
  },
  {
   "cell_type": "code",
   "execution_count": 2,
   "id": "c16a2931-5c28-4bfc-ac17-996642e8f718",
   "metadata": {},
   "outputs": [
    {
     "name": "stdout",
     "output_type": "stream",
     "text": [
      "finally my assignment completed\n"
     ]
    }
   ],
   "source": [
    "try :\n",
    "    f = open(\"test3.txt\" , 'w')\n",
    "    f.write(\"write notebook\")\n",
    "finally:\n",
    "    print(\"finally my assignment completed\")\n",
    "    \n",
    "  "
   ]
  },
  {
   "cell_type": "code",
   "execution_count": 10,
   "id": "e27e578d-0903-4442-9e98-f8a003c12f14",
   "metadata": {},
   "outputs": [],
   "source": [
    "class  validateage(Exception):\n",
    "    def __init__(self , msg):\n",
    "        self.msg = msg\n",
    "    \n"
   ]
  },
  {
   "cell_type": "code",
   "execution_count": 11,
   "id": "11ec693e-e7d4-4b25-9214-4bbb38aaec42",
   "metadata": {},
   "outputs": [],
   "source": [
    "def validateage(nums):\n",
    "    if nums < 0:\n",
    "        raise validateage(\"enter nums is nagitive\")\n",
    "    elif nums > 500:\n",
    "        raise validateage (\"enter nums is very high\")\n",
    "    else :\n",
    "        print(\"nums is valid\")\n",
    "    "
   ]
  },
  {
   "cell_type": "code",
   "execution_count": 15,
   "id": "ac4c1754-2af8-4b79-9728-a04cac461549",
   "metadata": {},
   "outputs": [
    {
     "name": "stdin",
     "output_type": "stream",
     "text": [
      "enter your nums 450\n"
     ]
    },
    {
     "name": "stdout",
     "output_type": "stream",
     "text": [
      "nums is valid\n"
     ]
    }
   ],
   "source": [
    "try :\n",
    "    nums = int(input(\"enter your nums\"))\n",
    "    validateage(nums)\n",
    "except validateage as e:\n",
    "    print(e)"
   ]
  },
  {
   "cell_type": "markdown",
   "id": "db2b37ef-9b68-48e1-9520-e5cb546e09b2",
   "metadata": {},
   "source": [
    "Q.5 What are custom exception in python? why do we need custom exception? explain with an example."
   ]
  },
  {
   "cell_type": "markdown",
   "id": "535b6eca-432d-475e-b055-69bd7db265b5",
   "metadata": {},
   "source": [
    "Custom exception provide you the flexibility to add attributes and method "
   ]
  },
  {
   "cell_type": "markdown",
   "id": "6e66ea98-9501-4fb3-ae02-e8a08e6eb5a1",
   "metadata": {},
   "source": [
    "We can define custom exception by creating a new class that is derived from the built in exceptin class, And \n",
    "custom exception will add information about project related problems. "
   ]
  },
  {
   "cell_type": "markdown",
   "id": "59318e21-0462-46cc-801b-56751e3950d2",
   "metadata": {},
   "source": [
    "Q.6 Create a custom exception class. use this class to handle an exception."
   ]
  },
  {
   "cell_type": "code",
   "execution_count": 3,
   "id": "5f6eec64-16ed-4b39-a7c2-3e6d3613c787",
   "metadata": {},
   "outputs": [],
   "source": [
    "class  validateage(Exception):\n",
    "    def __init__(self , msg):\n",
    "        self.msg = msg\n",
    "    \n"
   ]
  },
  {
   "cell_type": "code",
   "execution_count": 4,
   "id": "983449db-b873-419e-8b0b-0e2e972b08cc",
   "metadata": {},
   "outputs": [],
   "source": [
    "def validateage(age):\n",
    "    if age < 0:\n",
    "        raise validateage(\"enter age is nagitive\")\n",
    "    elif age > 100:\n",
    "        raise validateage (\"enter age is very high\")\n",
    "    else :\n",
    "        print(\"age is valid\")\n",
    "    "
   ]
  },
  {
   "cell_type": "code",
   "execution_count": 9,
   "id": "83346d63-7b0e-4ad0-bff2-7836554831e4",
   "metadata": {},
   "outputs": [
    {
     "name": "stdin",
     "output_type": "stream",
     "text": [
      "enter your age 60\n"
     ]
    },
    {
     "name": "stdout",
     "output_type": "stream",
     "text": [
      "age is valid\n"
     ]
    }
   ],
   "source": [
    "try :\n",
    "    age = int(input(\"enter your age\"))\n",
    "    validateage(age)\n",
    "except validateage as e:\n",
    "              print(e)"
   ]
  },
  {
   "cell_type": "code",
   "execution_count": null,
   "id": "17cbb093-090c-479f-bb21-1fde932910ad",
   "metadata": {},
   "outputs": [],
   "source": []
  }
 ],
 "metadata": {
  "kernelspec": {
   "display_name": "Python 3 (ipykernel)",
   "language": "python",
   "name": "python3"
  },
  "language_info": {
   "codemirror_mode": {
    "name": "ipython",
    "version": 3
   },
   "file_extension": ".py",
   "mimetype": "text/x-python",
   "name": "python",
   "nbconvert_exporter": "python",
   "pygments_lexer": "ipython3",
   "version": "3.10.8"
  }
 },
 "nbformat": 4,
 "nbformat_minor": 5
}
