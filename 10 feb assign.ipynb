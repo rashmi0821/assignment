{
 "cells": [
  {
   "cell_type": "markdown",
   "id": "6d9969d6-998d-4f06-9c25-c4048fd92357",
   "metadata": {},
   "source": [
    "Q.1 Which function is used to open a file? What are the different modes of opeaning file?\n",
    "explain each mode of file opeaning."
   ]
  },
  {
   "cell_type": "markdown",
   "id": "2de0ce54-7282-4fe5-bb1d-61e81eec7e96",
   "metadata": {},
   "source": [
    "the fopen(). funtion is used to create a file. there are \"a\" appending at the end of the file.\n",
    "\"t\" open in text mode, 'b' open an binary mode,"
   ]
  },
  {
   "cell_type": "code",
   "execution_count": null,
   "id": "0833b5ae-2a81-4aa3-8b80-182906297f64",
   "metadata": {},
   "outputs": [],
   "source": []
  },
  {
   "cell_type": "markdown",
   "id": "285da45c-4a9e-4149-bc1c-067aac72d51d",
   "metadata": {},
   "source": [
    "Q.2 Why close() function is used? why is it important to close a file?"
   ]
  },
  {
   "cell_type": "markdown",
   "id": "34b30636-a453-4af6-9764-1b3b38947297",
   "metadata": {},
   "source": [
    "The close() function shall deallocate the file descriptor indicated by filde,\n",
    "closing a file is important because it frees up system resources that are being used by the file."
   ]
  },
  {
   "cell_type": "code",
   "execution_count": null,
   "id": "0c457bd0-6132-4770-94cc-ccaa056489e4",
   "metadata": {},
   "outputs": [],
   "source": []
  },
  {
   "cell_type": "markdown",
   "id": "b46bcbd0-c44c-4613-be5d-b614a8b96630",
   "metadata": {},
   "source": [
    "Q.3 Write python program to creat a text file. Write 'i want to become a data scientist' in \n",
    "that file. Than close the file and read the content of the file."
   ]
  },
  {
   "cell_type": "code",
   "execution_count": 2,
   "id": "752fcb39-c41d-4e07-af7e-b8bb47d9eb6a",
   "metadata": {},
   "outputs": [],
   "source": [
    "f = open(\"test.txt\" , \"w\")"
   ]
  },
  {
   "cell_type": "code",
   "execution_count": 3,
   "id": "5123b7c9-68d7-45ae-b115-f5bca56ecbce",
   "metadata": {},
   "outputs": [
    {
     "data": {
      "text/plain": [
       "33"
      ]
     },
     "execution_count": 3,
     "metadata": {},
     "output_type": "execute_result"
    }
   ],
   "source": [
    "f.write(\"i want to become a data scientist\")"
   ]
  },
  {
   "cell_type": "code",
   "execution_count": 4,
   "id": "219b4231-9ef2-427c-9a0b-955581305be4",
   "metadata": {},
   "outputs": [],
   "source": [
    "f.close()"
   ]
  },
  {
   "cell_type": "code",
   "execution_count": 9,
   "id": "22116daa-71a0-4597-8afb-8d3432a7fc9b",
   "metadata": {},
   "outputs": [
    {
     "name": "stdout",
     "output_type": "stream",
     "text": [
      "i want to become a data scientist\n"
     ]
    }
   ],
   "source": [
    "with open(\"test.txt\" , \"r\") as f:\n",
    "    print(f.read())"
   ]
  },
  {
   "cell_type": "markdown",
   "id": "d9f5c193-9fbf-4ab9-b3ad-8b67669899f3",
   "metadata": {},
   "source": [
    "Q.4 Explain the following with python code: read() , readline() ,and readlines()."
   ]
  },
  {
   "cell_type": "code",
   "execution_count": 13,
   "id": "0e32d88e-c9e6-4eaf-9b05-39a191795bf4",
   "metadata": {},
   "outputs": [],
   "source": [
    "file = open(\"simple.txt\" , \"w\")"
   ]
  },
  {
   "cell_type": "code",
   "execution_count": 15,
   "id": "a07b5fb2-fd08-46cf-b715-fe80dfcbd04f",
   "metadata": {},
   "outputs": [
    {
     "data": {
      "text/plain": [
       "20"
      ]
     },
     "execution_count": 15,
     "metadata": {},
     "output_type": "execute_result"
    }
   ],
   "source": [
    "file.write(\"this is my read file\")"
   ]
  },
  {
   "cell_type": "code",
   "execution_count": 16,
   "id": "25da2ac7-f21d-4404-90e8-9bd61c9f3b5b",
   "metadata": {},
   "outputs": [],
   "source": [
    "file.close()"
   ]
  },
  {
   "cell_type": "code",
   "execution_count": 17,
   "id": "99cfb0a9-3045-4928-ada9-1bcfc419865a",
   "metadata": {},
   "outputs": [
    {
     "name": "stdout",
     "output_type": "stream",
     "text": [
      "this is my read file\n"
     ]
    }
   ],
   "source": [
    "with open(\"simple.txt\" , \"r\") as file:\n",
    "    print(file.read())"
   ]
  },
  {
   "cell_type": "code",
   "execution_count": 20,
   "id": "98999830-5f81-4893-a918-a99c7f838494",
   "metadata": {},
   "outputs": [
    {
     "name": "stdout",
     "output_type": "stream",
     "text": [
      "this is my read file\n"
     ]
    }
   ],
   "source": [
    "with open(\"simple.txt\" , \"r\") as file:\n",
    "    print(file.readline())"
   ]
  },
  {
   "cell_type": "code",
   "execution_count": 21,
   "id": "043b85aa-99ad-4ba2-a60f-79ffc91590ef",
   "metadata": {},
   "outputs": [
    {
     "name": "stdout",
     "output_type": "stream",
     "text": [
      "['this is my read file']\n"
     ]
    }
   ],
   "source": [
    "with open(\"simple.txt\" , \"r\") as file:\n",
    "    print(file.readlines())"
   ]
  },
  {
   "cell_type": "markdown",
   "id": "0482a50f-3b07-4045-889e-64a97a4fe667",
   "metadata": {},
   "source": [
    "Q.5 Explain with statement is used with open(). What is advantages of using with statement and\n",
    "open together?"
   ]
  },
  {
   "cell_type": "markdown",
   "id": "b6961954-4f81-448b-be1f-95d83e93500c",
   "metadata": {},
   "source": [
    "\n",
    "The with statement work with the open() function to open a file.unlike open where you have to close the file\n",
    "with the close() method, the with statement closes the file for you without you telling it too."
   ]
  },
  {
   "cell_type": "markdown",
   "id": "0558f507-f221-4fd7-a7bd-8fd09850c3b9",
   "metadata": {},
   "source": [
    "Q.6 Explain the write() and writelines() functions. give a suitable example."
   ]
  },
  {
   "cell_type": "code",
   "execution_count": 22,
   "id": "1d1c3b25-4a22-4b78-ae8f-75850ac3fc8f",
   "metadata": {},
   "outputs": [],
   "source": [
    "f = open(\"test1.txt\" , \"w\")"
   ]
  },
  {
   "cell_type": "code",
   "execution_count": 23,
   "id": "774e8871-1371-4da8-96f7-c457eb306a64",
   "metadata": {},
   "outputs": [
    {
     "data": {
      "text/plain": [
       "23"
      ]
     },
     "execution_count": 23,
     "metadata": {},
     "output_type": "execute_result"
    }
   ],
   "source": [
    "f.write(\"this is my writing file\")"
   ]
  },
  {
   "cell_type": "code",
   "execution_count": 24,
   "id": "867537ad-2d5c-4d14-97ff-5f9b4ef3c97c",
   "metadata": {},
   "outputs": [],
   "source": [
    "f.close()"
   ]
  },
  {
   "cell_type": "code",
   "execution_count": 29,
   "id": "47d3131a-bbb8-47e3-af82-b75d63b97b35",
   "metadata": {},
   "outputs": [
    {
     "ename": "TypeError",
     "evalue": "_IOBase.writelines() takes exactly one argument (0 given)",
     "output_type": "error",
     "traceback": [
      "\u001b[0;31m---------------------------------------------------------------------------\u001b[0m",
      "\u001b[0;31mTypeError\u001b[0m                                 Traceback (most recent call last)",
      "Cell \u001b[0;32mIn[29], line 2\u001b[0m\n\u001b[1;32m      1\u001b[0m \u001b[38;5;28;01mwith\u001b[39;00m \u001b[38;5;28mopen\u001b[39m(\u001b[38;5;124m\"\u001b[39m\u001b[38;5;124msimple.txt\u001b[39m\u001b[38;5;124m\"\u001b[39m , \u001b[38;5;124m\"\u001b[39m\u001b[38;5;124mw\u001b[39m\u001b[38;5;124m\"\u001b[39m) \u001b[38;5;28;01mas\u001b[39;00m f:\n\u001b[0;32m----> 2\u001b[0m     \u001b[38;5;28mprint\u001b[39m(\u001b[43mf\u001b[49m\u001b[38;5;241;43m.\u001b[39;49m\u001b[43mwritelines\u001b[49m\u001b[43m(\u001b[49m\u001b[43m)\u001b[49m)\n",
      "\u001b[0;31mTypeError\u001b[0m: _IOBase.writelines() takes exactly one argument (0 given)"
     ]
    }
   ],
   "source": [
    "with open(\"simple.txt\" , \"w\") as f:\n",
    "    print(f.writelines())"
   ]
  },
  {
   "cell_type": "code",
   "execution_count": null,
   "id": "e7e0cead-5628-455b-b0d7-38a84f90acc1",
   "metadata": {},
   "outputs": [],
   "source": []
  }
 ],
 "metadata": {
  "kernelspec": {
   "display_name": "Python 3 (ipykernel)",
   "language": "python",
   "name": "python3"
  },
  "language_info": {
   "codemirror_mode": {
    "name": "ipython",
    "version": 3
   },
   "file_extension": ".py",
   "mimetype": "text/x-python",
   "name": "python",
   "nbconvert_exporter": "python",
   "pygments_lexer": "ipython3",
   "version": "3.10.8"
  }
 },
 "nbformat": 4,
 "nbformat_minor": 5
}
