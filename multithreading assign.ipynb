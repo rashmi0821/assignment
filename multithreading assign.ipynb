{
 "cells": [
  {
   "cell_type": "markdown",
   "id": "592e96b7-4561-4612-8721-b05456b17abe",
   "metadata": {},
   "source": [
    "Q.1 What is multithreading in python? why is it use? name thr module used to handle threads in python. "
   ]
  },
  {
   "cell_type": "markdown",
   "id": "58464143-da67-4161-8efa-3d69635dde37",
   "metadata": {},
   "source": [
    "Multithreading is the ability of the program or an operation system to enable more than one user at a\n",
    "time without requiring multiple copies of the program running on the computer. \n",
    "And threading module is used to handle threads in python."
   ]
  },
  {
   "cell_type": "raw",
   "id": "66721ccc-9a13-4109-a04d-eafd1c6c7260",
   "metadata": {},
   "source": [
    "Q.2 Why threading module used? write the use of the following function.\n",
    "1. activecount()\n",
    "2. current thread()\n",
    "3. enumerate()"
   ]
  },
  {
   "cell_type": "markdown",
   "id": "1e63cf19-ed2b-4458-9381-3bba287de1ee",
   "metadata": {},
   "source": [
    "Threading module is used for creating, controlling and managing threads in python."
   ]
  },
  {
   "cell_type": "markdown",
   "id": "0e70ca4f-df96-4d60-b2db-081b8f1f2fce",
   "metadata": {},
   "source": [
    "Activecount() returns an estimate of the number of active threads in this threads group and\n",
    "its subgroups.\n",
    "Current thread() is used to return the current thread object, which corresponds to the caller's thread of\n",
    "controll\n",
    "Enumerate() enumerate is a built in function in python that allows  you to keep track of the number\n",
    "of iteration in loop."
   ]
  },
  {
   "cell_type": "markdown",
   "id": "bdb2d0dd-7b55-4f6e-b0f5-529fa8b68e1f",
   "metadata": {},
   "source": [
    "Q.3 Explain the following function.\n",
    "1. run()\n",
    "2. start()\n",
    "3. join()\n",
    "4. isAlive()"
   ]
  },
  {
   "cell_type": "code",
   "execution_count": 3,
   "id": "131122fc-9f6d-48ed-9d49-9f7f357c8f6e",
   "metadata": {},
   "outputs": [],
   "source": [
    "import multiprocessing"
   ]
  },
  {
   "cell_type": "code",
   "execution_count": 4,
   "id": "37de1aaf-ea1e-48dd-8b06-9804395b5d6f",
   "metadata": {},
   "outputs": [
    {
     "name": "stdout",
     "output_type": "stream",
     "text": [
      "this is my first multiprocessing program\n",
      "this is multiprocessing\n"
     ]
    }
   ],
   "source": [
    "def test():\n",
    "    print(\"this is multiprocessing\")\n",
    "    \n",
    "if __name__ == '__main__' :\n",
    "    m = multiprocessing.Process(target=test)\n",
    "    print(\"this is my first multiprocessing program\")\n",
    "    m.start()\n",
    "    m.join()"
   ]
  },
  {
   "cell_type": "code",
   "execution_count": 4,
   "id": "059026e5-b772-4539-b0e0-a919dde08c24",
   "metadata": {},
   "outputs": [
    {
     "name": "stdout",
     "output_type": "stream",
     "text": [
      "this is multiprocessing\n"
     ]
    }
   ],
   "source": [
    "test()"
   ]
  },
  {
   "cell_type": "code",
   "execution_count": null,
   "id": "f10d85d7-7e06-4cd4-867c-dde0119d8a98",
   "metadata": {},
   "outputs": [],
   "source": [
    "Q.4  Write a python program to create two thread "
   ]
  },
  {
   "cell_type": "code",
   "execution_count": 5,
   "id": "fc30de44-2ee7-4250-ae59-401cd520900a",
   "metadata": {},
   "outputs": [],
   "source": [
    "import threading"
   ]
  },
  {
   "cell_type": "code",
   "execution_count": 12,
   "id": "641a1cda-e12c-42ea-a3a6-a3de41fc8588",
   "metadata": {},
   "outputs": [],
   "source": [
    "def test(id) :\n",
    "    print(\"prog start %d\" %id)"
   ]
  },
  {
   "cell_type": "code",
   "execution_count": 13,
   "id": "4b14aa85-2fd4-4390-be81-ce598aa90770",
   "metadata": {},
   "outputs": [
    {
     "name": "stdout",
     "output_type": "stream",
     "text": [
      "prog start 45\n"
     ]
    }
   ],
   "source": [
    "test(45)"
   ]
  },
  {
   "cell_type": "code",
   "execution_count": 14,
   "id": "dee97768-4a17-4cea-a80f-4d229a76d5a4",
   "metadata": {},
   "outputs": [],
   "source": [
    "thread =[threading. Thread(target=test , args=(i,))for i in range(15)]"
   ]
  },
  {
   "cell_type": "code",
   "execution_count": 15,
   "id": "2fe2df84-ff5a-4952-9c70-6735db7b0ffb",
   "metadata": {},
   "outputs": [
    {
     "name": "stdout",
     "output_type": "stream",
     "text": [
      "prog start 0\n",
      "prog start 1\n",
      "prog start 2\n",
      "prog start 3\n",
      "prog start 4\n",
      "prog start 5\n",
      "prog start 6\n",
      "prog start 7\n",
      "prog start 8\n",
      "prog start 9\n",
      "prog start 10\n",
      "prog start 11\n",
      "prog start 12\n",
      "prog start 13\n",
      "prog start 14\n"
     ]
    }
   ],
   "source": [
    "for t in thread :\n",
    "    t.start()"
   ]
  },
  {
   "cell_type": "code",
   "execution_count": 16,
   "id": "c309a0c3-8fe8-4bfb-b65b-ba05739097c9",
   "metadata": {},
   "outputs": [],
   "source": [
    "import threading\n",
    "import time"
   ]
  },
  {
   "cell_type": "code",
   "execution_count": 17,
   "id": "b0891e53-5cf9-4cb3-92f1-ec086973bf77",
   "metadata": {},
   "outputs": [],
   "source": [
    "def test1(id) :\n",
    "    for i in range(10) :\n",
    "        print(\"test1 %d printing %d\" %(id , i))\n",
    "        time.sleep(i)"
   ]
  },
  {
   "cell_type": "code",
   "execution_count": 18,
   "id": "1e1b495a-2b59-42a6-8545-896da0f26ce6",
   "metadata": {},
   "outputs": [
    {
     "name": "stdout",
     "output_type": "stream",
     "text": [
      "test1 1 printing 0\n",
      "test1 1 printing 1\n",
      "test1 1 printing 2\n",
      "test1 1 printing 3\n",
      "test1 1 printing 4\n",
      "test1 1 printing 5\n",
      "test1 1 printing 6\n",
      "test1 1 printing 7\n",
      "test1 1 printing 8\n",
      "test1 1 printing 9\n"
     ]
    }
   ],
   "source": [
    "test1(1)"
   ]
  },
  {
   "cell_type": "code",
   "execution_count": null,
   "id": "a3f1edfd-d55f-4274-8a46-c06fcf02f677",
   "metadata": {},
   "outputs": [],
   "source": []
  },
  {
   "cell_type": "markdown",
   "id": "34551a67-9178-46f4-a54d-048293632150",
   "metadata": {},
   "source": [
    "Q.4 Write a python program to create two thread. Thread one must print the list of square and thread two \n",
    "must print the list of cubes."
   ]
  },
  {
   "cell_type": "code",
   "execution_count": 19,
   "id": "0df13aec-db05-4dd9-9be3-fa477bfd2971",
   "metadata": {},
   "outputs": [],
   "source": [
    "import multiprocessing"
   ]
  },
  {
   "cell_type": "code",
   "execution_count": 23,
   "id": "9dec3ef0-5fc5-4b5b-9de5-ec800235d560",
   "metadata": {},
   "outputs": [
    {
     "name": "stdout",
     "output_type": "stream",
     "text": [
      "[1, 4, 9, 16, 25, 36, 49, 64, 81]\n"
     ]
    }
   ],
   "source": [
    "def square(n):\n",
    "    return n**2\n",
    "\n",
    "if __name__ == '__main__' :\n",
    "    with multiprocessing.Pool(processes=4) as pool:\n",
    "        out = pool.map(square ,[1,2,3,4,5,6,7,8,9])\n",
    "        print(out)"
   ]
  },
  {
   "cell_type": "code",
   "execution_count": null,
   "id": "f99f9b8b-d952-460b-a062-e32be56d4e87",
   "metadata": {},
   "outputs": [],
   "source": []
  },
  {
   "cell_type": "code",
   "execution_count": 26,
   "id": "35e93475-91b7-46d2-96f4-5e1662dcc59b",
   "metadata": {},
   "outputs": [
    {
     "name": "stdout",
     "output_type": "stream",
     "text": [
      "[1, 4, 9, 16, 25, 36, 49, 64, 81]\n"
     ]
    }
   ],
   "source": [
    "def cubes(n):\n",
    "    return n**2\n",
    "\n",
    "if __name__ == '__main__' :\n",
    "    with multiprocessing.Pool(processes=2) as pool:\n",
    "        out = pool.map(cubes ,[1,2,3,4,5,6,7,8,9])\n",
    "        print(out)"
   ]
  },
  {
   "cell_type": "markdown",
   "id": "4e073eed-07d2-4ec7-8ccc-37a860f02477",
   "metadata": {},
   "source": [
    "Q.5 State advantages and disadvantages of multithreading."
   ]
  },
  {
   "cell_type": "code",
   "execution_count": null,
   "id": "3d54f772-2b20-46c8-b9a6-9148eb4420b4",
   "metadata": {},
   "outputs": [],
   "source": [
    "Advantages of multithreading\n",
    "Aplication responsibilities can be shared, main thread run UI, and slow task are sent to the background\n",
    "threads.\n",
    "Threading provide an usefull abstraction of concurrent executation\n"
   ]
  },
  {
   "cell_type": "code",
   "execution_count": null,
   "id": "8a782e64-62dc-46ee-b482-7f4a44630aba",
   "metadata": {},
   "outputs": [],
   "source": [
    "Disadvantages of multithreading\n",
    "Requires support for threads or processes. Requires more careful synchronization, Imposes\n",
    "context switching overhead."
   ]
  },
  {
   "cell_type": "markdown",
   "id": "46c458df-db39-45d7-b928-9eafdef6578f",
   "metadata": {},
   "source": [
    "Q.6 Explain deadlocks and raceconditions."
   ]
  },
  {
   "cell_type": "code",
   "execution_count": null,
   "id": "fe275c29-9f05-492e-84a3-b792c170b9b7",
   "metadata": {},
   "outputs": [],
   "source": [
    "A rece condition occures  when two threads use the same variable at a given time.\n",
    "Deadlock exists when two thread seek one lock simultaneously."
   ]
  },
  {
   "cell_type": "markdown",
   "id": "78f14638-efea-4dc3-b06f-2341478fe561",
   "metadata": {},
   "source": []
  }
 ],
 "metadata": {
  "kernelspec": {
   "display_name": "Python 3 (ipykernel)",
   "language": "python",
   "name": "python3"
  },
  "language_info": {
   "codemirror_mode": {
    "name": "ipython",
    "version": 3
   },
   "file_extension": ".py",
   "mimetype": "text/x-python",
   "name": "python",
   "nbconvert_exporter": "python",
   "pygments_lexer": "ipython3",
   "version": "3.10.8"
  }
 },
 "nbformat": 4,
 "nbformat_minor": 5
}
