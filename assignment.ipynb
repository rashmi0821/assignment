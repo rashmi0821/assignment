{
 "cells": [
  {
   "cell_type": "markdown",
   "id": "756688a2-89a0-4d3e-9020-eb1bffbf0435",
   "metadata": {},
   "source": [
    "Q1,#explain with an exemple each when to use a for loop and a while loop."
   ]
  },
  {
   "cell_type": "markdown",
   "id": "758ee14f-a905-4a9b-9b6f-a1434bf8c3ef",
   "metadata": {},
   "source": [
    "Any repeated task more than one time is called loop."
   ]
  },
  {
   "cell_type": "code",
   "execution_count": 2,
   "id": "421ddcbb-ce43-4149-ba32-2c6c6cffc202",
   "metadata": {},
   "outputs": [],
   "source": [
    "l = [\"jan\" , \"feb\" , \"march\" , \"april\"]"
   ]
  },
  {
   "cell_type": "code",
   "execution_count": 3,
   "id": "04af8225-9716-4065-ac76-c696a7f35da8",
   "metadata": {},
   "outputs": [
    {
     "data": {
      "text/plain": [
       "['jan', 'feb', 'march', 'april']"
      ]
     },
     "execution_count": 3,
     "metadata": {},
     "output_type": "execute_result"
    }
   ],
   "source": [
    "l"
   ]
  },
  {
   "cell_type": "code",
   "execution_count": 4,
   "id": "562ea45e-68b5-4f7b-8f1b-988134c318c8",
   "metadata": {},
   "outputs": [
    {
     "name": "stdout",
     "output_type": "stream",
     "text": [
      "jan\n",
      "feb\n",
      "march\n",
      "april\n"
     ]
    }
   ],
   "source": [
    "for i in l:\n",
    "    print(i)"
   ]
  },
  {
   "cell_type": "code",
   "execution_count": 5,
   "id": "7ab05212-79cb-4254-b126-eadb79f0827d",
   "metadata": {},
   "outputs": [
    {
     "data": {
      "text/plain": [
       "['jan', 'feb', 'march', 'april']"
      ]
     },
     "execution_count": 5,
     "metadata": {},
     "output_type": "execute_result"
    }
   ],
   "source": [
    "l"
   ]
  },
  {
   "cell_type": "code",
   "execution_count": 8,
   "id": "92553e5b-d46a-4d75-b0ca-97f786344004",
   "metadata": {},
   "outputs": [
    {
     "name": "stdout",
     "output_type": "stream",
     "text": [
      "jan\n",
      "feb\n"
     ]
    }
   ],
   "source": [
    "for i in l:\n",
    "    if i == \"march\":\n",
    "        break\n",
    "    print(i)"
   ]
  },
  {
   "cell_type": "markdown",
   "id": "26813254-0244-415f-9281-7d0c4122e2a5",
   "metadata": {},
   "source": [
    "A while loop will always first check the condition before running.\n",
    "if the condition evaluates to True then the loop will run the code within the loop body.\n"
   ]
  },
  {
   "cell_type": "code",
   "execution_count": 11,
   "id": "090b0a0c-b083-4bee-a345-02098c2c5ad1",
   "metadata": {},
   "outputs": [
    {
     "name": "stdout",
     "output_type": "stream",
     "text": [
      "1\n",
      "2\n",
      "3\n",
      "4\n",
      "5\n",
      "6\n",
      "7\n",
      "8\n",
      "9\n",
      "10\n",
      "11\n",
      "12\n",
      "13\n",
      "14\n",
      "15\n"
     ]
    }
   ],
   "source": [
    "a = 1\n",
    "\n",
    "while a <= 15 :\n",
    "    print(a)\n",
    "    a = a +1\n",
    "   "
   ]
  },
  {
   "cell_type": "markdown",
   "id": "f0df297b-4c5c-4170-a886-b082e212dc80",
   "metadata": {},
   "source": [
    "Q.2 Write a python program to print the sum and  of the frist 10 natural numbers using for and and while loop."
   ]
  },
  {
   "cell_type": "code",
   "execution_count": 12,
   "id": "ee247d43-8119-41d7-82c2-92b4d06b8989",
   "metadata": {},
   "outputs": [],
   "source": [
    "l = [ 1,2,3,4,5,6,7,8,9,10]"
   ]
  },
  {
   "cell_type": "code",
   "execution_count": 13,
   "id": "e62c2007-8889-45fb-a06d-dd6a4d4a1c21",
   "metadata": {},
   "outputs": [
    {
     "data": {
      "text/plain": [
       "55"
      ]
     },
     "execution_count": 13,
     "metadata": {},
     "output_type": "execute_result"
    }
   ],
   "source": [
    "sum(l)"
   ]
  },
  {
   "cell_type": "code",
   "execution_count": 16,
   "id": "ecd79d78-cb00-4d31-86b8-d402a598a5cd",
   "metadata": {},
   "outputs": [
    {
     "data": {
      "text/plain": [
       "55"
      ]
     },
     "execution_count": 16,
     "metadata": {},
     "output_type": "execute_result"
    }
   ],
   "source": [
    "result = 0 \n",
    "for i in l :\n",
    "    result = result + i\n",
    "result"
   ]
  },
  {
   "cell_type": "code",
   "execution_count": 17,
   "id": "ee8a7e11-60d7-4914-b4c8-4789c79f2e16",
   "metadata": {},
   "outputs": [
    {
     "data": {
      "text/plain": [
       "[1, 2, 3, 4, 5, 6, 7, 8, 9, 10]"
      ]
     },
     "execution_count": 17,
     "metadata": {},
     "output_type": "execute_result"
    }
   ],
   "source": [
    "l"
   ]
  },
  {
   "cell_type": "code",
   "execution_count": 18,
   "id": "1329d854-2fdd-42ca-a1b4-9c1b34901dbf",
   "metadata": {},
   "outputs": [
    {
     "name": "stdout",
     "output_type": "stream",
     "text": [
      "1\n",
      "2\n",
      "3\n",
      "4\n",
      "5\n",
      "6\n",
      "7\n",
      "8\n",
      "9\n",
      "10\n"
     ]
    }
   ],
   "source": [
    "a = 1\n",
    "\n",
    "while a <= 10:\n",
    "    print(a)\n",
    "    a = a + 1\n",
    "\n"
   ]
  },
  {
   "cell_type": "markdown",
   "id": "53bbb543-d6c4-4a36-bcee-c2cb3feabfaa",
   "metadata": {},
   "source": [
    "Q,3 Creat a python program to compute the electricity bill for a household.\n",
    "The per-unit Charge in rupees are as follow: for the first unit, the user will be charged Rs. 4.5 per unit, \n",
    "for the next 100 unit, the user will be charged Rs.6 per unit, and for the next 100 units, the user will be \n",
    "charged Rs.10 per unit, After 300 units and above the user will be charged Rs. 20 per unit.\n",
    "\n",
    "\n",
    "You are required to take the units of electricity consumed in a month from the user as input.\n",
    "\n",
    "\n",
    "Your program must pass this test case: when the unit of electricity consumed by the user in a month is 310, the total electricity bill should be 2250."
   ]
  },
  {
   "cell_type": "code",
   "execution_count": 11,
   "id": "b224cf25-75d9-4797-9ed6-7bb0178472cf",
   "metadata": {},
   "outputs": [
    {
     "name": "stdin",
     "output_type": "stream",
     "text": [
      "enter price 310\n"
     ]
    }
   ],
   "source": [
    "unit =int(input(\"enter price\"))\n",
    "if unit <= 100 :\n",
    "    print(4.5)\n",
    "if unit <= 100 :\n",
    "    print (6)\n",
    "if unit <= 100 :\n",
    "    print(10)\n",
    "if unit <= 300 :\n",
    "    print(20)"
   ]
  },
  {
   "cell_type": "markdown",
   "id": "c59627ef-08ea-42f6-93dc-f758e8e68d2d",
   "metadata": {},
   "source": [
    "Q,4 creat a list of number from 1 to 100. use for loop and while loop to calculate the cube of each number and if the cube \n",
    "of that number is divisible by 4 or 5 then append that number in a list and print that list."
   ]
  },
  {
   "cell_type": "code",
   "execution_count": 22,
   "id": "b2530133-46e1-49f1-934f-0852e961d978",
   "metadata": {},
   "outputs": [
    {
     "name": "stdout",
     "output_type": "stream",
     "text": [
      "1\n",
      "2\n",
      "3\n",
      "4\n",
      "5\n",
      "6\n",
      "7\n",
      "8\n",
      "9\n",
      "10\n",
      "11\n",
      "12\n",
      "13\n",
      "14\n",
      "15\n",
      "16\n",
      "17\n",
      "18\n",
      "19\n",
      "20\n",
      "21\n",
      "22\n",
      "23\n",
      "24\n",
      "25\n",
      "26\n",
      "27\n",
      "28\n",
      "29\n",
      "30\n",
      "31\n",
      "32\n",
      "33\n",
      "34\n",
      "35\n",
      "36\n",
      "37\n",
      "38\n",
      "39\n",
      "40\n",
      "41\n",
      "42\n",
      "43\n",
      "44\n",
      "45\n",
      "46\n",
      "47\n",
      "48\n",
      "49\n",
      "50\n",
      "51\n",
      "52\n",
      "53\n",
      "54\n",
      "55\n",
      "56\n",
      "57\n",
      "58\n",
      "59\n",
      "60\n",
      "61\n",
      "62\n",
      "63\n",
      "64\n",
      "65\n",
      "66\n",
      "67\n",
      "68\n",
      "69\n",
      "70\n",
      "71\n",
      "72\n",
      "73\n",
      "74\n",
      "75\n",
      "76\n",
      "77\n",
      "78\n",
      "79\n",
      "80\n",
      "81\n",
      "82\n",
      "83\n",
      "84\n",
      "85\n",
      "86\n",
      "87\n",
      "88\n",
      "89\n",
      "90\n",
      "91\n",
      "92\n",
      "93\n",
      "94\n",
      "95\n",
      "96\n",
      "97\n",
      "98\n",
      "99\n",
      "this will be excuted once you while\n"
     ]
    }
   ],
   "source": [
    "n = 100\n",
    "i = 1\n",
    "while i < n:\n",
    "    print(i)\n",
    "    i = i+1\n",
    "        \n",
    "else :\n",
    "    print(\"this will be excuted once you while\" )"
   ]
  },
  {
   "cell_type": "code",
   "execution_count": 23,
   "id": "7718311c-ef0e-433f-bdf2-cb08af38824c",
   "metadata": {},
   "outputs": [
    {
     "name": "stdout",
     "output_type": "stream",
     "text": [
      "1\n",
      "2\n",
      "3\n",
      "4\n",
      "5\n",
      "6\n",
      "7\n",
      "8\n",
      "9\n",
      "10\n",
      "11\n",
      "12\n",
      "13\n",
      "14\n"
     ]
    }
   ],
   "source": [
    "n = 100 \n",
    "i = 1\n",
    "while i < n:\n",
    "    if i == 15:\n",
    "        break\n",
    "    print(i)\n",
    "    i = i + 1\n",
    "    \n",
    "else :\n",
    "    print (\"this will be excuted once you while will complete it\")\n"
   ]
  },
  {
   "cell_type": "code",
   "execution_count": 25,
   "id": "74d059e7-3051-48ae-8734-505d3b5d423f",
   "metadata": {},
   "outputs": [],
   "source": [
    "l = [ 1,2,3,4,5]\n",
    "l1 = []\n",
    "for i in l:\n",
    "    l1.append(i**4)"
   ]
  },
  {
   "cell_type": "code",
   "execution_count": 26,
   "id": "cad15eef-53f0-4d66-931b-1714230e2027",
   "metadata": {},
   "outputs": [
    {
     "data": {
      "text/plain": [
       "[1, 16, 81, 256, 625]"
      ]
     },
     "execution_count": 26,
     "metadata": {},
     "output_type": "execute_result"
    }
   ],
   "source": [
    "l1"
   ]
  },
  {
   "cell_type": "code",
   "execution_count": 27,
   "id": "bea06821-4a5b-4b8b-9d68-561128a4bf8d",
   "metadata": {},
   "outputs": [],
   "source": [
    "l = [ 1,2,3,4,5]\n",
    "l1 = []\n",
    "for i in l:\n",
    "    l1.append(i**5)"
   ]
  },
  {
   "cell_type": "code",
   "execution_count": 28,
   "id": "73a71ed4-09ca-4874-bff9-b17554eb87c7",
   "metadata": {},
   "outputs": [
    {
     "data": {
      "text/plain": [
       "[1, 32, 243, 1024, 3125]"
      ]
     },
     "execution_count": 28,
     "metadata": {},
     "output_type": "execute_result"
    }
   ],
   "source": [
    "l1"
   ]
  },
  {
   "cell_type": "code",
   "execution_count": 29,
   "id": "14ab1559-9b5a-4088-807f-f0e361e1dc7e",
   "metadata": {},
   "outputs": [
    {
     "data": {
      "text/plain": [
       "[4]"
      ]
     },
     "execution_count": 29,
     "metadata": {},
     "output_type": "execute_result"
    }
   ],
   "source": [
    "[ i for i in l if i % 4 == 0]"
   ]
  },
  {
   "cell_type": "code",
   "execution_count": 30,
   "id": "c4a3cf51-f7c0-4f57-9e68-13fb2c66dc50",
   "metadata": {},
   "outputs": [
    {
     "data": {
      "text/plain": [
       "[5]"
      ]
     },
     "execution_count": 30,
     "metadata": {},
     "output_type": "execute_result"
    }
   ],
   "source": [
    "[ i for i in l if i % 5 == 0]"
   ]
  },
  {
   "cell_type": "markdown",
   "id": "125027c3-f9ec-46b1-839d-94e269640f87",
   "metadata": {},
   "source": [
    "Q.5 Write a program to filter count vowels in the below-given string.\n",
    "string = \"i want to become a data scientist\""
   ]
  },
  {
   "cell_type": "code",
   "execution_count": 32,
   "id": "35d94406-c7b3-4dd2-9df3-d11cd232e913",
   "metadata": {},
   "outputs": [],
   "source": [
    "s = \"i want to become a data scientist\""
   ]
  },
  {
   "cell_type": "code",
   "execution_count": 33,
   "id": "42215671-0359-40cd-998a-5be4e5790bf8",
   "metadata": {},
   "outputs": [
    {
     "data": {
      "text/plain": [
       "'i want to become a data scientist'"
      ]
     },
     "execution_count": 33,
     "metadata": {},
     "output_type": "execute_result"
    }
   ],
   "source": [
    "s"
   ]
  },
  {
   "cell_type": "code",
   "execution_count": 40,
   "id": "154f3606-67a7-40a2-a679-c0dface930fb",
   "metadata": {},
   "outputs": [
    {
     "data": {
      "text/plain": [
       "['i',\n",
       " ' ',\n",
       " 'w',\n",
       " 'a',\n",
       " 'n',\n",
       " 't',\n",
       " ' ',\n",
       " 't',\n",
       " 'o',\n",
       " ' ',\n",
       " 'b',\n",
       " 'e',\n",
       " 'c',\n",
       " 'o',\n",
       " 'm',\n",
       " 'e',\n",
       " ' ',\n",
       " 'a',\n",
       " ' ',\n",
       " 'd',\n",
       " 'a',\n",
       " 't',\n",
       " 'a',\n",
       " ' ',\n",
       " 's',\n",
       " 'c',\n",
       " 'i',\n",
       " 'e',\n",
       " 'n',\n",
       " 't',\n",
       " 'i',\n",
       " 's',\n",
       " 't']"
      ]
     },
     "execution_count": 40,
     "metadata": {},
     "output_type": "execute_result"
    }
   ],
   "source": [
    "list(s)"
   ]
  },
  {
   "cell_type": "code",
   "execution_count": 41,
   "id": "2bf24d92-27d3-401a-9c2f-a0001efe5770",
   "metadata": {},
   "outputs": [
    {
     "data": {
      "text/plain": [
       "1"
      ]
     },
     "execution_count": 41,
     "metadata": {},
     "output_type": "execute_result"
    }
   ],
   "source": [
    "s.count(\"i want to become a data scientist\")"
   ]
  },
  {
   "cell_type": "code",
   "execution_count": null,
   "id": "6d68a054-8633-41a6-9622-cf188e3ff3a3",
   "metadata": {},
   "outputs": [],
   "source": []
  }
 ],
 "metadata": {
  "kernelspec": {
   "display_name": "Python 3 (ipykernel)",
   "language": "python",
   "name": "python3"
  },
  "language_info": {
   "codemirror_mode": {
    "name": "ipython",
    "version": 3
   },
   "file_extension": ".py",
   "mimetype": "text/x-python",
   "name": "python",
   "nbconvert_exporter": "python",
   "pygments_lexer": "ipython3",
   "version": "3.10.8"
  }
 },
 "nbformat": 4,
 "nbformat_minor": 5
}
