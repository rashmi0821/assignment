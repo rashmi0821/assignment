{
 "cells": [
  {
   "cell_type": "code",
   "execution_count": null,
   "id": "e32e5e53-d0f5-4745-8259-28ac1f4f3bac",
   "metadata": {},
   "outputs": [],
   "source": [
    "Q.1 "
   ]
  },
  {
   "cell_type": "markdown",
   "id": "fceed615-0830-450a-9685-da7d410d24b8",
   "metadata": {},
   "source": [
    "ans num.1"
   ]
  },
  {
   "cell_type": "code",
   "execution_count": 2,
   "id": "b35d9016-18e3-45cf-92f3-7415b9ca1e2c",
   "metadata": {},
   "outputs": [
    {
     "name": "stdout",
     "output_type": "stream",
     "text": [
      "invalid password\n"
     ]
    }
   ],
   "source": [
    "def check_password(password):\n",
    "    if len(password) != 10:\n",
    "        return \"invalid password\"\n",
    "    num_uppercase = 0\n",
    "    num_lowercase = 0\n",
    "    for d in password :\n",
    "        if d.isupper():\n",
    "            num_uppercase += 1\n",
    "        elif d.isupper():\n",
    "            num_lowercase += 1\n",
    "    if num_uppercase <2 or num_lowercase <2 :\n",
    "        return \"invalid password\"\n",
    "    num_digit = 0\n",
    "    num_special = 0\n",
    "    for d in password:\n",
    "        if d.isdigit():\n",
    "            num_digit += 1\n",
    "        elif d.isalnum():\n",
    "            num_special += 1\n",
    "    if num_digit < 1 or num_special < 3:\n",
    "        return \" invalid message\"\n",
    "    return \"valid password\"\n",
    "print(check_password(\"rashmij284#\"))"
   ]
  },
  {
   "cell_type": "code",
   "execution_count": null,
   "id": "c1d4c2ae-022e-417e-9a23-dc4e0c75ad73",
   "metadata": {},
   "outputs": [],
   "source": []
  },
  {
   "cell_type": "markdown",
   "id": "e59bdba4-8932-43f1-a7cc-e1a4618d1469",
   "metadata": {},
   "source": [
    "Q.2 Solve the below given question using at least one of the following.\n",
    "1.lambda function\n",
    "2.Filter function\n",
    "3.map function\n",
    "4.list comprehension"
   ]
  },
  {
   "cell_type": "code",
   "execution_count": null,
   "id": "4f6a47c3-3b28-444e-bc78-ff06ad3ebfb4",
   "metadata": {},
   "outputs": [],
   "source": [
    "#check if the string starts with a particular latter."
   ]
  },
  {
   "cell_type": "code",
   "execution_count": 1,
   "id": "3b2291e7-eb68-45bb-917c-2eba0617c3c5",
   "metadata": {},
   "outputs": [
    {
     "name": "stdout",
     "output_type": "stream",
     "text": [
      "['apple']\n"
     ]
    }
   ],
   "source": [
    "strings = [\"mango\" , \"banna\" , \"apple\" , \"grapes\" , ]\n",
    "letter = 'a'\n",
    "## using lambda function\n",
    "result = list(filter(lambda x: x.startswith(letter), strings))\n",
    "print(result)"
   ]
  },
  {
   "cell_type": "code",
   "execution_count": null,
   "id": "5d741e06-ec6a-4a55-a9ad-ec73e5e5eb33",
   "metadata": {},
   "outputs": [],
   "source": []
  },
  {
   "cell_type": "code",
   "execution_count": null,
   "id": "8c3f4d6a-beef-43da-8f7d-01f7143097df",
   "metadata": {},
   "outputs": [],
   "source": [
    "#check if the string is numeric."
   ]
  },
  {
   "cell_type": "code",
   "execution_count": 2,
   "id": "34fa99f7-5a28-477a-9761-58405500ae45",
   "metadata": {},
   "outputs": [
    {
     "name": "stdout",
     "output_type": "stream",
     "text": [
      "True\n"
     ]
    }
   ],
   "source": [
    "string = '456'\n",
    "check_numeric = lambda x: x.isdigit()\n",
    "print(check_numeric(string))"
   ]
  },
  {
   "cell_type": "code",
   "execution_count": null,
   "id": "4783faeb-ef6d-4690-8a3b-27efc1ce6f0c",
   "metadata": {},
   "outputs": [],
   "source": []
  },
  {
   "cell_type": "code",
   "execution_count": null,
   "id": "ff0d25b0-f205-488d-bdc1-11a262043427",
   "metadata": {},
   "outputs": [],
   "source": [
    "#short a list of tuples having fruits name and their quintity.[(\"mango\" ,90) ,(\"orange\" ,80)\n",
    ",(\"grapes\",1000)]"
   ]
  },
  {
   "cell_type": "code",
   "execution_count": 3,
   "id": "a53c771d-fc49-453e-8294-e0bc36a66dbe",
   "metadata": {},
   "outputs": [],
   "source": [
    "fruits = [(\"mango\",90) ,(\"orange\" ,80) ,(\"grapes\" ,1000)]"
   ]
  },
  {
   "cell_type": "code",
   "execution_count": 4,
   "id": "cec01200-cfea-49b8-9454-8f01980a7666",
   "metadata": {},
   "outputs": [],
   "source": [
    "sorted_fruits = sorted(fruits,key = lambda x: x[1])"
   ]
  },
  {
   "cell_type": "code",
   "execution_count": 5,
   "id": "84742ea9-0c77-46c4-99e2-3b5c5acdf072",
   "metadata": {},
   "outputs": [
    {
     "name": "stdout",
     "output_type": "stream",
     "text": [
      "[('orange', 80), ('mango', 90), ('grapes', 1000)]\n"
     ]
    }
   ],
   "source": [
    "print(sorted_fruits)"
   ]
  },
  {
   "cell_type": "code",
   "execution_count": null,
   "id": "846bd3f3-c8b2-44d1-9a2f-929f66a05074",
   "metadata": {},
   "outputs": [],
   "source": []
  },
  {
   "cell_type": "code",
   "execution_count": null,
   "id": "ff937129-fbbc-48b3-9fc5-5457a09a1ab9",
   "metadata": {},
   "outputs": [],
   "source": [
    "#find the squares of numbers from 1 to 10."
   ]
  },
  {
   "cell_type": "code",
   "execution_count": 1,
   "id": "a3bb0a01-8433-4abb-866a-6c159f1c478c",
   "metadata": {},
   "outputs": [],
   "source": [
    "l = [1,2,3,4,5,6,7,8,9,10]"
   ]
  },
  {
   "cell_type": "code",
   "execution_count": 2,
   "id": "7a39d714-ba1a-4514-ba3c-8a24beaf6345",
   "metadata": {},
   "outputs": [
    {
     "data": {
      "text/plain": [
       "[1, 4, 9, 16, 25, 36, 49, 64, 81, 100]"
      ]
     },
     "execution_count": 2,
     "metadata": {},
     "output_type": "execute_result"
    }
   ],
   "source": [
    "list(map(lambda x : x**2 , l))"
   ]
  },
  {
   "cell_type": "code",
   "execution_count": null,
   "id": "1263b639-aab2-451a-9aaf-f46c4f45e56d",
   "metadata": {},
   "outputs": [],
   "source": [
    "#find the cube root of number from 1 to 10."
   ]
  },
  {
   "cell_type": "code",
   "execution_count": 7,
   "id": "9bd815d5-0226-4414-982d-8506c137deca",
   "metadata": {},
   "outputs": [],
   "source": [
    "l = [1,2,3,4,5,6,7,8,9,10]"
   ]
  },
  {
   "cell_type": "code",
   "execution_count": 8,
   "id": "fd4a01c7-10dd-48ec-96e2-75744c3c8347",
   "metadata": {},
   "outputs": [
    {
     "data": {
      "text/plain": [
       "[1, 4, 9, 16, 25, 36, 49, 64, 81, 100]"
      ]
     },
     "execution_count": 8,
     "metadata": {},
     "output_type": "execute_result"
    }
   ],
   "source": [
    "list(map(lambda x : x**2 , l))"
   ]
  },
  {
   "cell_type": "code",
   "execution_count": null,
   "id": "4702b9cd-94d7-42b4-9061-babdf2fe3c7b",
   "metadata": {},
   "outputs": [],
   "source": [
    "#check if a given number is even"
   ]
  },
  {
   "cell_type": "code",
   "execution_count": 3,
   "id": "9b39f3d8-cb9b-449e-95fc-9384f78b6af9",
   "metadata": {},
   "outputs": [
    {
     "data": {
      "text/plain": [
       "[1, 2, 3, 4, 5, 6, 7, 8, 9, 10]"
      ]
     },
     "execution_count": 3,
     "metadata": {},
     "output_type": "execute_result"
    }
   ],
   "source": [
    "l"
   ]
  },
  {
   "cell_type": "code",
   "execution_count": 11,
   "id": "ae6df699-dddb-466a-b500-0c56ce2dd927",
   "metadata": {},
   "outputs": [
    {
     "data": {
      "text/plain": [
       "[2, 4, 6, 8, 10]"
      ]
     },
     "execution_count": 11,
     "metadata": {},
     "output_type": "execute_result"
    }
   ],
   "source": [
    "list(filter(lambda x : x%2 == 0 , l))"
   ]
  },
  {
   "cell_type": "code",
   "execution_count": 20,
   "id": "735fbaaf-b165-4d25-8c18-3831b5046735",
   "metadata": {},
   "outputs": [
    {
     "data": {
      "text/plain": [
       "[2, 4, 6, 8, 10]"
      ]
     },
     "execution_count": 20,
     "metadata": {},
     "output_type": "execute_result"
    }
   ],
   "source": [
    "[x for x in l if x % 2 == 0]"
   ]
  },
  {
   "cell_type": "code",
   "execution_count": null,
   "id": "60a51143-ca03-4f75-ad07-b1c8f7bde20b",
   "metadata": {},
   "outputs": [],
   "source": []
  },
  {
   "cell_type": "code",
   "execution_count": null,
   "id": "fd67536a-2bc1-44bd-ade5-7a0e774f8d99",
   "metadata": {},
   "outputs": [],
   "source": [
    "#fillter odd number from the given list.[1,2,3,4,5,6,7,8,9,10]"
   ]
  },
  {
   "cell_type": "code",
   "execution_count": 13,
   "id": "88f58126-a112-492f-87b9-4aa68152ba0d",
   "metadata": {},
   "outputs": [],
   "source": [
    "l = [1,2,3,4,5,6,7,8,9,10]"
   ]
  },
  {
   "cell_type": "code",
   "execution_count": 14,
   "id": "d9a69b4a-9e6d-4bca-93eb-92bfc02cadff",
   "metadata": {},
   "outputs": [
    {
     "data": {
      "text/plain": [
       "[1, 3, 5, 7, 9]"
      ]
     },
     "execution_count": 14,
     "metadata": {},
     "output_type": "execute_result"
    }
   ],
   "source": [
    "list(filter(lambda x : x%2 != 0,l))"
   ]
  },
  {
   "cell_type": "code",
   "execution_count": null,
   "id": "bfe2210c-8849-4885-b436-9b6b0aae0cbd",
   "metadata": {},
   "outputs": [],
   "source": [
    "#short a list of integers into positive and nagivite integers lists.\n",
    "[1,2,3,4,5,6,-1,-2,-3,-4,-5,-6,0]"
   ]
  },
  {
   "cell_type": "code",
   "execution_count": 15,
   "id": "a47378c8-4a49-4338-b23d-be7b56091323",
   "metadata": {},
   "outputs": [],
   "source": [
    "l1 = [1,2,3,4,5,6,-1,-2,-3,-4,-5,-6,0]"
   ]
  },
  {
   "cell_type": "code",
   "execution_count": 17,
   "id": "2a2e452b-037f-4ec1-b116-9870b81e4036",
   "metadata": {},
   "outputs": [
    {
     "data": {
      "text/plain": [
       "[-1, -2, -3, -4, -5, -6]"
      ]
     },
     "execution_count": 17,
     "metadata": {},
     "output_type": "execute_result"
    }
   ],
   "source": [
    "list(filter(lambda x: x<0 , l1))"
   ]
  },
  {
   "cell_type": "code",
   "execution_count": 18,
   "id": "5d847aa0-dc64-48dd-8a77-885f872cc5c4",
   "metadata": {},
   "outputs": [
    {
     "data": {
      "text/plain": [
       "[1, 2, 3, 4, 5, 6]"
      ]
     },
     "execution_count": 18,
     "metadata": {},
     "output_type": "execute_result"
    }
   ],
   "source": [
    "list(filter(lambda x : x > 0 ,l1))"
   ]
  },
  {
   "cell_type": "code",
   "execution_count": null,
   "id": "52b2876b-38c6-4499-87ea-9392bdb3d9a9",
   "metadata": {},
   "outputs": [],
   "source": []
  }
 ],
 "metadata": {
  "kernelspec": {
   "display_name": "Python 3 (ipykernel)",
   "language": "python",
   "name": "python3"
  },
  "language_info": {
   "codemirror_mode": {
    "name": "ipython",
    "version": 3
   },
   "file_extension": ".py",
   "mimetype": "text/x-python",
   "name": "python",
   "nbconvert_exporter": "python",
   "pygments_lexer": "ipython3",
   "version": "3.10.8"
  }
 },
 "nbformat": 4,
 "nbformat_minor": 5
}
