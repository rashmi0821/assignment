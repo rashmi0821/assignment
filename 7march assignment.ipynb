{
 "cells": [
  {
   "cell_type": "markdown",
   "id": "02ce439c-92eb-47fa-9d38-503eb93cdb84",
   "metadata": {},
   "source": [
    "Q1. What are the three measures of central tendency?"
   ]
  },
  {
   "cell_type": "markdown",
   "id": "e75317d1-2416-43da-a6be-7f242c1aa917",
   "metadata": {},
   "source": [
    "There are three main measures of central tendency: mode. median. mean."
   ]
  },
  {
   "cell_type": "markdown",
   "id": "0c7be30a-3ff6-4a8b-8f6a-15f8e30fcefc",
   "metadata": {},
   "source": [
    "Q2. What is the difference between the mean, median, and mode? How are they used to measure the\n",
    "central tendency of a dataset?"
   ]
  },
  {
   "cell_type": "markdown",
   "id": "03e56f61-41e2-45eb-973a-485f2ba33dd8",
   "metadata": {},
   "source": [
    "The difference between mean, median and mode are: \n",
    "Mean is the average value of the given observations. \n",
    "Median is the middle value of the given observations. \n",
    "Mode is the most repeated value in the given observation.\n",
    "\n",
    "The mean is the sum of the value of each observation in a dataset divided by the number of observations. \n",
    "This is also known as the arithmetic average."
   ]
  },
  {
   "cell_type": "code",
   "execution_count": null,
   "id": "85f4abcd-5217-484c-bf89-4f889d29ae5a",
   "metadata": {},
   "outputs": [],
   "source": [
    "Q3. Measure the three measures of central tendency for the given height data:"
   ]
  },
  {
   "cell_type": "code",
   "execution_count": 2,
   "id": "8c6d5107-c24a-440b-887d-5ef95c38aa1b",
   "metadata": {},
   "outputs": [],
   "source": [
    "height = [178,177,176,177,178.2,178,175,179,180,175,178.9,176.2,177,172.5,178,176.5]"
   ]
  },
  {
   "cell_type": "code",
   "execution_count": 3,
   "id": "3d1bed1c-9dcf-4d73-b6da-f0045003a73d",
   "metadata": {},
   "outputs": [],
   "source": [
    "import numpy as np"
   ]
  },
  {
   "cell_type": "code",
   "execution_count": 4,
   "id": "3950a87c-bc94-4e8a-91dd-5828489e147e",
   "metadata": {},
   "outputs": [
    {
     "data": {
      "text/plain": [
       "177.01875"
      ]
     },
     "execution_count": 4,
     "metadata": {},
     "output_type": "execute_result"
    }
   ],
   "source": [
    "np.mean(height)"
   ]
  },
  {
   "cell_type": "code",
   "execution_count": 5,
   "id": "d3cc5655-8536-490c-9ef8-d3f57a485416",
   "metadata": {},
   "outputs": [
    {
     "data": {
      "text/plain": [
       "177.0"
      ]
     },
     "execution_count": 5,
     "metadata": {},
     "output_type": "execute_result"
    }
   ],
   "source": [
    "np.median(height)"
   ]
  },
  {
   "cell_type": "code",
   "execution_count": 6,
   "id": "41719063-a0c0-44ca-b139-908fc59d9df8",
   "metadata": {},
   "outputs": [
    {
     "ename": "AttributeError",
     "evalue": "module 'numpy' has no attribute 'mode'",
     "output_type": "error",
     "traceback": [
      "\u001b[0;31m---------------------------------------------------------------------------\u001b[0m",
      "\u001b[0;31mAttributeError\u001b[0m                            Traceback (most recent call last)",
      "Cell \u001b[0;32mIn[6], line 1\u001b[0m\n\u001b[0;32m----> 1\u001b[0m \u001b[43mnp\u001b[49m\u001b[38;5;241;43m.\u001b[39;49m\u001b[43mmode\u001b[49m(height)\n",
      "File \u001b[0;32m/opt/conda/lib/python3.10/site-packages/numpy/__init__.py:311\u001b[0m, in \u001b[0;36m__getattr__\u001b[0;34m(attr)\u001b[0m\n\u001b[1;32m    308\u001b[0m     \u001b[38;5;28;01mfrom\u001b[39;00m \u001b[38;5;21;01m.\u001b[39;00m\u001b[38;5;21;01mtesting\u001b[39;00m \u001b[38;5;28;01mimport\u001b[39;00m Tester\n\u001b[1;32m    309\u001b[0m     \u001b[38;5;28;01mreturn\u001b[39;00m Tester\n\u001b[0;32m--> 311\u001b[0m \u001b[38;5;28;01mraise\u001b[39;00m \u001b[38;5;167;01mAttributeError\u001b[39;00m(\u001b[38;5;124m\"\u001b[39m\u001b[38;5;124mmodule \u001b[39m\u001b[38;5;132;01m{!r}\u001b[39;00m\u001b[38;5;124m has no attribute \u001b[39m\u001b[38;5;124m\"\u001b[39m\n\u001b[1;32m    312\u001b[0m                      \u001b[38;5;124m\"\u001b[39m\u001b[38;5;132;01m{!r}\u001b[39;00m\u001b[38;5;124m\"\u001b[39m\u001b[38;5;241m.\u001b[39mformat(\u001b[38;5;18m__name__\u001b[39m, attr))\n",
      "\u001b[0;31mAttributeError\u001b[0m: module 'numpy' has no attribute 'mode'"
     ]
    }
   ],
   "source": [
    "np.mode(height)"
   ]
  },
  {
   "cell_type": "code",
   "execution_count": null,
   "id": "63b187d7-2547-4cf3-90ea-4359e3b764d3",
   "metadata": {},
   "outputs": [],
   "source": [
    "Q4. Find the standard deviation for the given data:"
   ]
  },
  {
   "cell_type": "code",
   "execution_count": 7,
   "id": "1eaebce3-7924-4256-ba15-8e9ffece8450",
   "metadata": {},
   "outputs": [],
   "source": [
    "height = [178,177,176,177,178.2,178,175,179,180,175,178.9,176.2,177,172.5,178,176.5]"
   ]
  },
  {
   "cell_type": "code",
   "execution_count": 8,
   "id": "90587a8a-546d-4c4b-b4ed-d6e9b8536d28",
   "metadata": {},
   "outputs": [
    {
     "data": {
      "text/plain": [
       "1.7885814036548633"
      ]
     },
     "execution_count": 8,
     "metadata": {},
     "output_type": "execute_result"
    }
   ],
   "source": [
    "np.std(height)"
   ]
  },
  {
   "cell_type": "code",
   "execution_count": null,
   "id": "ce805065-f3c7-4e0c-8bbd-f980010cffb9",
   "metadata": {},
   "outputs": [],
   "source": [
    "Q5. How are measures of dispersion such as range, variance, and standard deviation used to describe\n",
    "the spread of a dataset? Provide an example."
   ]
  },
  {
   "cell_type": "code",
   "execution_count": null,
   "id": "19fe5fe1-a9c0-4d58-998b-677a59f0e10f",
   "metadata": {},
   "outputs": [],
   "source": [
    "It helps to understand the variation of data and provides a piece of information about the distribution data. \n",
    "Range, IOR, Variance, and Standard Deviation are the methods used to understand the distribution data.\n",
    "Dispersion of data helps to identify outliers in a given dataset"
   ]
  },
  {
   "cell_type": "code",
   "execution_count": null,
   "id": "5fd845db-ad6d-4ec1-9686-7d864942533a",
   "metadata": {},
   "outputs": [],
   "source": [
    "Q6. What is a Venn diagram?"
   ]
  },
  {
   "cell_type": "code",
   "execution_count": null,
   "id": "49ad3f63-1799-4727-81a0-b046c0226aad",
   "metadata": {},
   "outputs": [],
   "source": [
    "A Venn diagram illustrates the relationships between two or more data sets."
   ]
  },
  {
   "cell_type": "code",
   "execution_count": null,
   "id": "c0e8952a-f5e0-4131-843b-2f147eb0c31b",
   "metadata": {},
   "outputs": [],
   "source": []
  },
  {
   "cell_type": "code",
   "execution_count": null,
   "id": "e8dc70f6-5e09-4c6e-951e-4da71fefdea4",
   "metadata": {},
   "outputs": [],
   "source": [
    "Q7. For the two given sets A = (2,3,4,5,6,7) & B = (0,2,6,8,10). Find:\n",
    "(i) A B\n",
    "(ii) A ⋃ B"
   ]
  },
  {
   "cell_type": "code",
   "execution_count": 9,
   "id": "0a8fbee8-1bfe-496b-a2ae-213c2c5c7748",
   "metadata": {},
   "outputs": [],
   "source": [
    "A = (2,3,4,5,6,7) \n",
    "B = (0,2,6,8,10)"
   ]
  },
  {
   "cell_type": "code",
   "execution_count": 10,
   "id": "23c3da61-ff8a-446a-b703-e52c3852b996",
   "metadata": {},
   "outputs": [
    {
     "data": {
      "text/plain": [
       "(2, 6)"
      ]
     },
     "execution_count": 10,
     "metadata": {},
     "output_type": "execute_result"
    }
   ],
   "source": [
    "#intersection\n",
    "(2,6)"
   ]
  },
  {
   "cell_type": "code",
   "execution_count": 11,
   "id": "0e153ffc-f0c3-4624-9904-f18c3ed92adf",
   "metadata": {},
   "outputs": [
    {
     "data": {
      "text/plain": [
       "(0, 2, 3, 4, 5, 6, 7, 8, 10)"
      ]
     },
     "execution_count": 11,
     "metadata": {},
     "output_type": "execute_result"
    }
   ],
   "source": [
    "#UNION\n",
    "(0,2,3,4,5,6,7,8,10)"
   ]
  },
  {
   "cell_type": "code",
   "execution_count": null,
   "id": "6fb52bbf-f06b-4281-9252-1dc004ac39ce",
   "metadata": {},
   "outputs": [],
   "source": [
    "Q8. What do you understand about skewness in data?"
   ]
  },
  {
   "cell_type": "code",
   "execution_count": null,
   "id": "3de511f4-b16d-4338-a8d7-6d482836529a",
   "metadata": {},
   "outputs": [],
   "source": [
    "Skewness is a measure of the asymmetry of a distribution. A distribution is asymmetrical when its left and right \n",
    "side are not mirror images."
   ]
  },
  {
   "cell_type": "code",
   "execution_count": null,
   "id": "7538b030-02a5-423e-be41-912baca764e6",
   "metadata": {},
   "outputs": [],
   "source": [
    "Q9. If a data is right skewed then what will be the position of median with respect to mean?"
   ]
  },
  {
   "cell_type": "code",
   "execution_count": null,
   "id": "dd1b0e18-1511-4e10-8581-dd68c327e33f",
   "metadata": {},
   "outputs": [],
   "source": [
    "which is less than the mean."
   ]
  },
  {
   "cell_type": "code",
   "execution_count": null,
   "id": "76e46309-aa62-4a55-856f-087a64fd2ae3",
   "metadata": {},
   "outputs": [],
   "source": [
    "Q10. Explain the difference between covariance and correlation. How are these measures used in\n",
    "statistical analysis?"
   ]
  },
  {
   "cell_type": "code",
   "execution_count": null,
   "id": "727d508c-d2e7-4b33-bb74-a3f63534e5ed",
   "metadata": {},
   "outputs": [],
   "source": [
    "Covariance tells us the direction of the relationship between two variables, while correlation provides an \n",
    "indication as to how strong the relationship between the two variables is,\n",
    "in addition to the direction of correlated variables."
   ]
  },
  {
   "cell_type": "code",
   "execution_count": null,
   "id": "77e6e79e-735e-411c-8fdb-1d49af2e65a8",
   "metadata": {},
   "outputs": [],
   "source": [
    "Q11. What is the formula for calculating the sample mean? Provide an example calculation for a\n",
    "dataset."
   ]
  },
  {
   "cell_type": "code",
   "execution_count": null,
   "id": "98082a27-5597-4a37-99bf-b47c653ab5a9",
   "metadata": {},
   "outputs": [],
   "source": [
    "The general formula for calculating the sample mean is given by x̄ = ( Σ xi ) / n. Here,\n",
    "x̄ represents the sample mean, xi refers all X sample values \n",
    "and n stands for the number of sample terms in the data set."
   ]
  },
  {
   "cell_type": "code",
   "execution_count": null,
   "id": "c1232413-3d24-4d8f-b1d6-6969c2bcab8c",
   "metadata": {},
   "outputs": [],
   "source": [
    "Q12. For a normal distribution data what is the relationship between its measure of central tendency?"
   ]
  },
  {
   "cell_type": "code",
   "execution_count": null,
   "id": "4ffe9b3c-2e76-48ca-b28a-6e17ff20baa1",
   "metadata": {},
   "outputs": [],
   "source": [
    "Relationship between the three measures of central tendency is 2 Mean = 3 Median – Mode."
   ]
  },
  {
   "cell_type": "code",
   "execution_count": null,
   "id": "d8e7f4d7-055e-40ad-b3ae-118e34efbb61",
   "metadata": {},
   "outputs": [],
   "source": [
    "Q13. How is covariance different from correlation?"
   ]
  },
  {
   "cell_type": "code",
   "execution_count": null,
   "id": "88bc85b9-619e-425e-abfb-b18190f75a03",
   "metadata": {},
   "outputs": [],
   "source": [
    "Covariance and correlation are two terms that are opposed and are both used in statistics and regression analysis. \n",
    "Covariance shows you how the two variables differ, whereas correlation shows you how\n",
    "the two variables are related."
   ]
  },
  {
   "cell_type": "code",
   "execution_count": null,
   "id": "27169668-0f1e-4143-ac13-7644344e8ac6",
   "metadata": {},
   "outputs": [],
   "source": [
    "Q14. How do outliers affect measures of central tendency and dispersion? Provide an example."
   ]
  },
  {
   "cell_type": "code",
   "execution_count": null,
   "id": "495fcac9-497d-43f8-9722-195583c15120",
   "metadata": {},
   "outputs": [],
   "source": [
    "Outliers are numbers in a data set that are vastly larger or smaller than the other values in the set. \n",
    "Mean, median and mode are measures of central tendency. Mean is the only measure of central tendency that is \n",
    "always affected by an outlier. Mean, the average, is the most popular measure of central tendency."
   ]
  }
 ],
 "metadata": {
  "kernelspec": {
   "display_name": "Python 3 (ipykernel)",
   "language": "python",
   "name": "python3"
  },
  "language_info": {
   "codemirror_mode": {
    "name": "ipython",
    "version": 3
   },
   "file_extension": ".py",
   "mimetype": "text/x-python",
   "name": "python",
   "nbconvert_exporter": "python",
   "pygments_lexer": "ipython3",
   "version": "3.10.8"
  }
 },
 "nbformat": 4,
 "nbformat_minor": 5
}
