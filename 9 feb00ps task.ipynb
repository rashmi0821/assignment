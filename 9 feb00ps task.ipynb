{
 "cells": [
  {
   "cell_type": "markdown",
   "id": "8e58ff3b-6bbb-41aa-9e60-8ede1e06e215",
   "metadata": {},
   "source": [
    "Q.1 Create a vehical class with an init method having instance variable as name_of_vahical, max_speed\n",
    "and average_of_vahicle."
   ]
  },
  {
   "cell_type": "code",
   "execution_count": 23,
   "id": "0c2525c3-3661-456a-8b11-03038c04eb07",
   "metadata": {},
   "outputs": [],
   "source": [
    "class test:\n",
    "    def __init__(self, a,b):\n",
    "        self.a = a\n",
    "        self.b = b"
   ]
  },
  {
   "cell_type": "code",
   "execution_count": 25,
   "id": "4f6fd49c-147c-4eb7-938a-4edca408e051",
   "metadata": {},
   "outputs": [],
   "source": [
    "t = test(34,45)"
   ]
  },
  {
   "cell_type": "code",
   "execution_count": 26,
   "id": "d28d56c5-4808-46ad-83f7-8e0634fae5d4",
   "metadata": {},
   "outputs": [],
   "source": [
    "t.a = 34455"
   ]
  },
  {
   "cell_type": "code",
   "execution_count": 27,
   "id": "7e32d7e7-39d8-43ac-87e7-70046e081b9e",
   "metadata": {},
   "outputs": [
    {
     "data": {
      "text/plain": [
       "34455"
      ]
     },
     "execution_count": 27,
     "metadata": {},
     "output_type": "execute_result"
    }
   ],
   "source": [
    "t.a"
   ]
  },
  {
   "cell_type": "code",
   "execution_count": 7,
   "id": "8440d2cd-d901-40a9-b945-d002df1a61e0",
   "metadata": {},
   "outputs": [],
   "source": [
    "class  car:\n",
    "    def __init__(self, name , Speed ,average):\n",
    "        self.__name_of_vahical = name\n",
    "        self.__max_speed       = 0\n",
    "        self.__average_of_vahical = average\n",
    "        \n",
    "        \n",
    "        def set_speed(self ,speed):\n",
    "                self.__speed = 0 if speed < 0 else speed\n",
    "        \n",
    "        \n",
    "        def get_speed(self):\n",
    "                 return self.__speed\n",
    "        "
   ]
  },
  {
   "cell_type": "code",
   "execution_count": 8,
   "id": "6de55170-e642-4908-8bca-89a1ad966f39",
   "metadata": {},
   "outputs": [],
   "source": [
    "c= car(\"ford\" , 45 , 19.7)"
   ]
  },
  {
   "cell_type": "code",
   "execution_count": 10,
   "id": "1bc00d99-068a-451c-8bf9-e3e5def13178",
   "metadata": {},
   "outputs": [
    {
     "data": {
      "text/plain": [
       "'ford'"
      ]
     },
     "execution_count": 10,
     "metadata": {},
     "output_type": "execute_result"
    }
   ],
   "source": [
    "c._car__name_of_vahical"
   ]
  },
  {
   "cell_type": "code",
   "execution_count": 12,
   "id": "375988e6-405a-4f98-8028-93acb610708c",
   "metadata": {},
   "outputs": [
    {
     "data": {
      "text/plain": [
       "19.7"
      ]
     },
     "execution_count": 12,
     "metadata": {},
     "output_type": "execute_result"
    }
   ],
   "source": [
    "c._car__average_of_vahical"
   ]
  },
  {
   "cell_type": "code",
   "execution_count": 15,
   "id": "b044c8a5-cd4e-493a-83b2-3737d5560db3",
   "metadata": {},
   "outputs": [
    {
     "data": {
      "text/plain": [
       "0"
      ]
     },
     "execution_count": 15,
     "metadata": {},
     "output_type": "execute_result"
    }
   ],
   "source": [
    "c._car__max_speed"
   ]
  },
  {
   "cell_type": "markdown",
   "id": "01bccc1b-28d6-4dd1-bc17-3aa33cd58083",
   "metadata": {},
   "source": [
    "Q.2 Create a child class car from the vahical class created in q.1 which will inherit class.\n",
    "create a method named seating_capacity which take capacity as  an argument and return the name of\n",
    "the vahical and its seating capacity."
   ]
  },
  {
   "cell_type": "code",
   "execution_count": 1,
   "id": "0e264de0-125e-49b0-9e0e-4c6d01008cad",
   "metadata": {},
   "outputs": [],
   "source": [
    "class car():\n",
    "    \n",
    "    def seating_capacity(self):\n",
    "        return \"this is seven seater car\""
   ]
  },
  {
   "cell_type": "code",
   "execution_count": 2,
   "id": "d27f7c4f-388a-46f0-af9d-9337b25600af",
   "metadata": {},
   "outputs": [],
   "source": [
    "class child_car(car):\n",
    "    pass"
   ]
  },
  {
   "cell_type": "code",
   "execution_count": 3,
   "id": "fca6c140-e314-4a65-bd02-8f177b9265b7",
   "metadata": {},
   "outputs": [],
   "source": [
    "child_car_obj = child_car()"
   ]
  },
  {
   "cell_type": "code",
   "execution_count": 4,
   "id": "6c6d15a2-bde1-476e-9646-f281cd1ea8d1",
   "metadata": {},
   "outputs": [
    {
     "data": {
      "text/plain": [
       "'this is seven seater car'"
      ]
     },
     "execution_count": 4,
     "metadata": {},
     "output_type": "execute_result"
    }
   ],
   "source": [
    "child_car_obj.seating_capacity()"
   ]
  },
  {
   "cell_type": "markdown",
   "id": "5f813dbd-c01e-4523-8e05-10675c5b756b",
   "metadata": {},
   "source": [
    "Q.3 What is multiple inheritance? write a python code to demonstrate multiple inheritance."
   ]
  },
  {
   "cell_type": "code",
   "execution_count": null,
   "id": "81142d50-42bb-4d6a-843b-2dc704e73f24",
   "metadata": {},
   "outputs": [],
   "source": [
    "If a childe class inherit from more than one class and this childe class is derived from multiple clasess\n",
    "we call it multiple inheritance.\n"
   ]
  },
  {
   "cell_type": "code",
   "execution_count": 4,
   "id": "0abc1ef3-2388-4354-8a8e-f2b5b9cae8a8",
   "metadata": {},
   "outputs": [],
   "source": [
    "class clasess4:\n",
    "    \n",
    "     def my_clasess1(self):\n",
    "        return \"this is my class room1\""
   ]
  },
  {
   "cell_type": "code",
   "execution_count": 5,
   "id": "b06c0538-f00e-454b-bd10-0d12a1f60f19",
   "metadata": {},
   "outputs": [],
   "source": [
    "class clasess5: \n",
    "    \n",
    "      def my_clasess2(self):\n",
    "        return \"this is my class room2\""
   ]
  },
  {
   "cell_type": "code",
   "execution_count": 7,
   "id": "c5ec350d-5f26-43c3-85ae-4685a1cc864b",
   "metadata": {},
   "outputs": [],
   "source": [
    "class clasess6(clasess4 , clasess5):\n",
    "    pass"
   ]
  },
  {
   "cell_type": "code",
   "execution_count": 8,
   "id": "d0e34948-802e-498b-b6fb-1443d9f3507c",
   "metadata": {},
   "outputs": [],
   "source": [
    "clasess6_obj = clasess6"
   ]
  },
  {
   "cell_type": "code",
   "execution_count": 9,
   "id": "d91ae3f1-2418-4028-8857-545a235d1f16",
   "metadata": {},
   "outputs": [
    {
     "ename": "TypeError",
     "evalue": "clasess4.my_clasess1() missing 1 required positional argument: 'self'",
     "output_type": "error",
     "traceback": [
      "\u001b[0;31m---------------------------------------------------------------------------\u001b[0m",
      "\u001b[0;31mTypeError\u001b[0m                                 Traceback (most recent call last)",
      "Cell \u001b[0;32mIn[9], line 1\u001b[0m\n\u001b[0;32m----> 1\u001b[0m \u001b[43mclasess6_obj\u001b[49m\u001b[38;5;241;43m.\u001b[39;49m\u001b[43mmy_clasess1\u001b[49m\u001b[43m(\u001b[49m\u001b[43m)\u001b[49m\n",
      "\u001b[0;31mTypeError\u001b[0m: clasess4.my_clasess1() missing 1 required positional argument: 'self'"
     ]
    }
   ],
   "source": [
    "clasess6_obj.my_clasess1()"
   ]
  },
  {
   "cell_type": "code",
   "execution_count": 13,
   "id": "0f8666fd-21df-4270-aebb-683cc85ab2c7",
   "metadata": {},
   "outputs": [
    {
     "data": {
      "text/plain": [
       "<function __main__.clasess2.my_clasess2(self)>"
      ]
     },
     "execution_count": 13,
     "metadata": {},
     "output_type": "execute_result"
    }
   ],
   "source": [
    "clasess3_obj.my_clasess2"
   ]
  },
  {
   "cell_type": "markdown",
   "id": "cf71a2a2-f549-4552-a9d8-5afa88164a8e",
   "metadata": {},
   "source": [
    "Q.4 What is getter and setter in python? create a class and create a getter and setter in class."
   ]
  },
  {
   "cell_type": "code",
   "execution_count": null,
   "id": "892ee818-5141-4f10-a1b1-3b6c93317b17",
   "metadata": {},
   "outputs": [],
   "source": [
    "A method at allows you to access an atribute in a given class is called getter, A method that allows you to set\n",
    "or mutate the value of an atribute in a class is called setter."
   ]
  },
  {
   "cell_type": "code",
   "execution_count": 36,
   "id": "a1d3f71d-f820-4f20-9f70-da688641ce3d",
   "metadata": {},
   "outputs": [],
   "source": [
    "class person:\n",
    "    \n",
    "    def __init__(self , name , surname):\n",
    "        self.__name = name\n",
    "        self.__surname = surname\n",
    "        \n",
    "    def setter(self , name):\n",
    "        self.name = name\n",
    "            \n",
    "    def getter(self):\n",
    "        return self.__name\n",
    "        \n",
    "    \n",
    "        "
   ]
  },
  {
   "cell_type": "code",
   "execution_count": 39,
   "id": "ed5208ac-2d03-467b-8128-fdf8cc1108c2",
   "metadata": {},
   "outputs": [],
   "source": [
    "p = person(\"roshni\" , \"jha\")"
   ]
  },
  {
   "cell_type": "code",
   "execution_count": 43,
   "id": "89ff1b65-69ad-49e5-b401-504c88f0befb",
   "metadata": {},
   "outputs": [
    {
     "data": {
      "text/plain": [
       "'roshni'"
      ]
     },
     "execution_count": 43,
     "metadata": {},
     "output_type": "execute_result"
    }
   ],
   "source": [
    "p._person__name"
   ]
  },
  {
   "cell_type": "code",
   "execution_count": 44,
   "id": "a27917e8-7757-43c7-8df4-0a215d855e75",
   "metadata": {},
   "outputs": [
    {
     "data": {
      "text/plain": [
       "'jha'"
      ]
     },
     "execution_count": 44,
     "metadata": {},
     "output_type": "execute_result"
    }
   ],
   "source": [
    "p._person__surname"
   ]
  },
  {
   "cell_type": "code",
   "execution_count": 48,
   "id": "b1f4d234-e30e-4c9f-9356-f58b89fb2507",
   "metadata": {},
   "outputs": [],
   "source": [
    "p.setter(\"roshni\")"
   ]
  },
  {
   "cell_type": "code",
   "execution_count": 49,
   "id": "5ad4a1de-67bf-4e31-a392-20a99b676d2f",
   "metadata": {},
   "outputs": [
    {
     "data": {
      "text/plain": [
       "'roshni'"
      ]
     },
     "execution_count": 49,
     "metadata": {},
     "output_type": "execute_result"
    }
   ],
   "source": [
    "p.getter()"
   ]
  },
  {
   "cell_type": "markdown",
   "id": "d0adb623-f419-495a-ae3c-90bfc307bafa",
   "metadata": {},
   "source": [
    "Q.5 What is method overriding in python? write a python code to demonstrate method overriding."
   ]
  },
  {
   "cell_type": "code",
   "execution_count": null,
   "id": "d480bc23-6e72-4872-bb90-4c14ed174feb",
   "metadata": {},
   "outputs": [],
   "source": [
    "Method overriding in python is when you have two methods with the same name that each plateform \n",
    "different task."
   ]
  },
  {
   "cell_type": "code",
   "execution_count": 1,
   "id": "de7f4382-0e17-4083-98bd-21d3add5e0c5",
   "metadata": {},
   "outputs": [],
   "source": [
    "class Animal:\n",
    "    def make_sound(self):\n",
    "        print(\"the animal make a sound\")\n",
    "        \n",
    "class Cat(Animal):\n",
    "    def make_sound(self):\n",
    "        print(\"the cat meaw.\")\n",
    "        \n",
    "        "
   ]
  },
  {
   "cell_type": "code",
   "execution_count": 2,
   "id": "64e0feab-1dc5-451a-a454-89fd73c88469",
   "metadata": {},
   "outputs": [],
   "source": [
    "cat = Cat()"
   ]
  },
  {
   "cell_type": "code",
   "execution_count": 3,
   "id": "d284ad26-b3bc-43d2-9bc1-d9a9086fca64",
   "metadata": {},
   "outputs": [
    {
     "name": "stdout",
     "output_type": "stream",
     "text": [
      "the cat meaw.\n"
     ]
    }
   ],
   "source": [
    "cat.make_sound()"
   ]
  },
  {
   "cell_type": "code",
   "execution_count": null,
   "id": "957c2b4d-5a37-40e0-a749-a089cc57b36e",
   "metadata": {},
   "outputs": [],
   "source": []
  }
 ],
 "metadata": {
  "kernelspec": {
   "display_name": "Python 3 (ipykernel)",
   "language": "python",
   "name": "python3"
  },
  "language_info": {
   "codemirror_mode": {
    "name": "ipython",
    "version": 3
   },
   "file_extension": ".py",
   "mimetype": "text/x-python",
   "name": "python",
   "nbconvert_exporter": "python",
   "pygments_lexer": "ipython3",
   "version": "3.10.8"
  }
 },
 "nbformat": 4,
 "nbformat_minor": 5
}
