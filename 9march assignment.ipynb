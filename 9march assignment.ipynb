{
 "cells": [
  {
   "cell_type": "markdown",
   "id": "7f26423f-f2b1-433d-bc56-c32142bd22e1",
   "metadata": {},
   "source": [
    "Q1: What are the Probability Mass Function (PMF) and Probability Density Function (PDF)? Explain with\n",
    "an example."
   ]
  },
  {
   "cell_type": "markdown",
   "id": "c041b262-0ead-4cef-8a52-eca1d8677332",
   "metadata": {},
   "source": [
    "Probability mass functions (pmf) are used to describe discrete probability distributions. \n",
    "While probability density functions (pdf) are used to describe continuous \n",
    "probability distributions."
   ]
  },
  {
   "cell_type": "markdown",
   "id": "5c849b36-b858-47bc-b946-b963e650b6ae",
   "metadata": {},
   "source": [
    "Q2: What is Cumulative Density Function (CDF)? Explain with an example. Why CDF is used?"
   ]
  },
  {
   "cell_type": "markdown",
   "id": "6a05ddee-5d87-4a46-aa74-d4061b3f2209",
   "metadata": {},
   "source": [
    "The cumulative distribution function (CDF) of a probability distribution contains the probabilities that a \n",
    "random variable X is less than or equal to X.\n",
    "\n",
    "ex. at point x=1, the CDF jumps from 15 to 40. The size of the jump here is 40−15=25 which is equal to PX(1)."
   ]
  },
  {
   "cell_type": "markdown",
   "id": "99380748-b776-4a7e-9772-befc0e3b3580",
   "metadata": {},
   "source": [
    "Q3: What are some examples of situations where the normal distribution might be used as a model?\n",
    "Explain how the parameters of the normal distribution relate to the shape of the distribution."
   ]
  },
  {
   "cell_type": "markdown",
   "id": "29cf47e6-7f1e-403c-a9ba-72720749b84d",
   "metadata": {},
   "source": [
    "Characteristics that are the sum of many independent processes frequently follow normal distributions.\n",
    "For example, heights, blood pressure, measurement error, and IQ scores follow the normal distribution.\n",
    "\n",
    "The number of people taller and shorter than the average height people is almost equal, and a very small number \n",
    "of people are either extremely tall or extremely short.\n"
   ]
  },
  {
   "cell_type": "markdown",
   "id": "12c748c2-0a97-4846-8fd6-3efed3c13991",
   "metadata": {},
   "source": [
    "Q4: Explain the importance of Normal Distribution. Give a few real-life examples of Normal\n",
    "Distribution."
   ]
  },
  {
   "cell_type": "markdown",
   "id": "357e2c15-55c6-4753-9009-8b6ab4870f19",
   "metadata": {},
   "source": [
    "A Real-life eamples of Normal Distrubution are\n",
    "\n",
    "Technical Stock Market.\n",
    "Blood Pressure.\n",
    "Shoe Size.\n",
    "Birth Weight."
   ]
  },
  {
   "cell_type": "markdown",
   "id": "c800f9f6-f766-4db2-a302-8140e0e39ec2",
   "metadata": {},
   "source": [
    "Q5: What is Bernaulli Distribution? Give an Example. What is the difference between Bernoulli\n",
    "Distribution and Binomial Distribution?"
   ]
  },
  {
   "cell_type": "markdown",
   "id": "a698fcc8-25d8-46cb-909c-e518f51a0f9b",
   "metadata": {},
   "source": [
    "The Bernoulli distribution represents the success or failure of a single Bernoulli trial. The Binomial Distribution represents the number of successes and failures in n independent Bernoulli trials for some given value of n."
   ]
  },
  {
   "cell_type": "code",
   "execution_count": 3,
   "id": "db5b88d5-c481-4d46-8700-fb72363b9ee6",
   "metadata": {},
   "outputs": [
    {
     "ename": "ModuleNotFoundError",
     "evalue": "No module named 'scripy'",
     "output_type": "error",
     "traceback": [
      "\u001b[0;31m---------------------------------------------------------------------------\u001b[0m",
      "\u001b[0;31mModuleNotFoundError\u001b[0m                       Traceback (most recent call last)",
      "Cell \u001b[0;32mIn[3], line 1\u001b[0m\n\u001b[0;32m----> 1\u001b[0m \u001b[38;5;28;01mimport\u001b[39;00m \u001b[38;5;21;01mscripy\u001b[39;00m\u001b[38;5;21;01m.\u001b[39;00m\u001b[38;5;21;01mstats\u001b[39;00m \u001b[38;5;28;01mas\u001b[39;00m \u001b[38;5;21;01mstats\u001b[39;00m\n",
      "\u001b[0;31mModuleNotFoundError\u001b[0m: No module named 'scripy'"
     ]
    }
   ],
   "source": [
    "import scripy.stats as stats"
   ]
  },
  {
   "cell_type": "markdown",
   "id": "910e7f45-5d06-420c-9907-2adbd0cb36f5",
   "metadata": {},
   "source": [
    "Q6. Consider a dataset with a mean of 50 and a standard deviation of 10. If we assume that the dataset\n",
    "is normally distributed, what is the probability that a randomly selected observation will be greater\n",
    "than 60? Use the appropriate formula and show your calculations."
   ]
  },
  {
   "cell_type": "code",
   "execution_count": 4,
   "id": "5e434aee-7fa1-4deb-be63-dc674593c262",
   "metadata": {},
   "outputs": [
    {
     "name": "stdout",
     "output_type": "stream",
     "text": [
      "Requirement already satisfied: scipy in /opt/conda/lib/python3.10/site-packages (1.9.3)\n",
      "Requirement already satisfied: numpy<1.26.0,>=1.18.5 in /opt/conda/lib/python3.10/site-packages (from scipy) (1.23.5)\n",
      "Note: you may need to restart the kernel to use updated packages.\n"
     ]
    }
   ],
   "source": [
    "pip install scipy "
   ]
  },
  {
   "cell_type": "code",
   "execution_count": 8,
   "id": "899f49d4-91bd-4b48-8003-816b041e147f",
   "metadata": {},
   "outputs": [
    {
     "data": {
      "text/plain": [
       "0.15865525393145707"
      ]
     },
     "execution_count": 8,
     "metadata": {},
     "output_type": "execute_result"
    }
   ],
   "source": [
    "import scipy.stats as stats\n",
    "mean = 50\n",
    "std_dev = 10\n",
    "value = 60\n",
    "z_score = (value - mean) / std_dev\n",
    "probability = 1 - stats.norm.cdf(z_score)\n",
    "probability"
   ]
  },
  {
   "cell_type": "code",
   "execution_count": null,
   "id": "0b4e6c1a-a377-4edf-80e7-cdc4fc0fadc1",
   "metadata": {},
   "outputs": [],
   "source": [
    "Q7: Explain uniform Distribution with an example."
   ]
  },
  {
   "cell_type": "markdown",
   "id": "2c20754c-1efb-4179-907d-c7b78e1277d9",
   "metadata": {},
   "source": [
    "uniform distribution refers to a type of probability distribution in which all outcomes are equally likely. "
   ]
  },
  {
   "cell_type": "markdown",
   "id": "16b5c0dc-ad70-43a3-bfb9-05f65c04521c",
   "metadata": {},
   "source": [
    "Q8: What is the z score? State the importance of the z score."
   ]
  },
  {
   "cell_type": "markdown",
   "id": "8ce09b4b-bb07-46ee-a38c-b9e77439744b",
   "metadata": {},
   "source": [
    " Z-score is a statistical measurement that describes a value's relationship to the mean of a group of values.\n",
    " \n",
    " It allows researchers to calculate the probability of a score occurring within a standard normal distribution."
   ]
  },
  {
   "cell_type": "markdown",
   "id": "d71db1b0-ab0a-4c3a-97af-4b3c1feddb68",
   "metadata": {},
   "source": [
    "Q9: What is Central Limit Theorem? State the significance of the Central Limit Theorem."
   ]
  },
  {
   "cell_type": "markdown",
   "id": "8198bb5c-bfc3-4af1-be03-2f3639f9f43e",
   "metadata": {},
   "source": [
    "he central limit theorem says that the sampling distribution of the mean will always be normally distributed, \n",
    "as long as the sample size is large enough.\n",
    "\n",
    "The Central Limit Theorem is important for statistics because it allows us to safely assume that the sampling \n",
    "distribution of the mean will be normal in most cases. "
   ]
  },
  {
   "cell_type": "code",
   "execution_count": null,
   "id": "65521e41-f497-4f1a-835f-85a725b5fb97",
   "metadata": {},
   "outputs": [],
   "source": [
    "Q10: State the assumptions of the Central Limit Theorem."
   ]
  },
  {
   "cell_type": "markdown",
   "id": "c3941ad2-6066-4b31-86db-6d549b75a568",
   "metadata": {},
   "source": [
    " The samples should be unrelated to one another. One sample should not impact the others. When taking samples without replacement, the sample size should not exceed 10% of the population."
   ]
  }
 ],
 "metadata": {
  "kernelspec": {
   "display_name": "Python 3 (ipykernel)",
   "language": "python",
   "name": "python3"
  },
  "language_info": {
   "codemirror_mode": {
    "name": "ipython",
    "version": 3
   },
   "file_extension": ".py",
   "mimetype": "text/x-python",
   "name": "python",
   "nbconvert_exporter": "python",
   "pygments_lexer": "ipython3",
   "version": "3.10.8"
  }
 },
 "nbformat": 4,
 "nbformat_minor": 5
}
