{
 "cells": [
  {
   "cell_type": "markdown",
   "id": "55575727-16bd-428c-8bc5-80b8f5b37ed6",
   "metadata": {},
   "source": [
    "Q.1 Write a program to accept percentage from the user and display the grade according to the following criteria:"
   ]
  },
  {
   "cell_type": "code",
   "execution_count": 2,
   "id": "9535467f-4033-4ef7-886f-6f608ad70227",
   "metadata": {},
   "outputs": [
    {
     "name": "stdin",
     "output_type": "stream",
     "text": [
      "enter your marks 20\n"
     ]
    },
    {
     "name": "stdout",
     "output_type": "stream",
     "text": [
      "you will be D batch\n"
     ]
    }
   ],
   "source": [
    "marks = int(input(\"enter your marks\"))\n",
    "if marks >= 90:\n",
    "     print(\"you will be A batch\")\n",
    "elif marks >= 80 and marks <=90:\n",
    "     print(\"you  will be B batch\")\n",
    "elif marks >= 60 and marks <=80:\n",
    "     print(\"you will be C batch\")\n",
    "else :\n",
    "    print(\"you will be D batch\")\n",
    "    \n",
    "    "
   ]
  },
  {
   "cell_type": "code",
   "execution_count": 27,
   "id": "c66c67c6-1575-4793-b6a6-5762ad88989c",
   "metadata": {},
   "outputs": [
    {
     "data": {
      "text/plain": [
       "False"
      ]
     },
     "execution_count": 27,
     "metadata": {},
     "output_type": "execute_result"
    }
   ],
   "source": [
    "20>=90"
   ]
  },
  {
   "cell_type": "markdown",
   "id": "c26efb3f-01ed-47ee-ac7c-d0132a4da57c",
   "metadata": {},
   "source": [
    "Q.2 Write a program to accept the cost prize of a bike and display the road tax to be paid according \n",
    "to the following criteria."
   ]
  },
  {
   "cell_type": "code",
   "execution_count": 3,
   "id": "61c70fda-094a-4eaa-834c-c9bf5f6c896a",
   "metadata": {},
   "outputs": [
    {
     "name": "stdin",
     "output_type": "stream",
     "text": [
      "enter the cost price in Rs 9000\n"
     ]
    },
    {
     "name": "stdout",
     "output_type": "stream",
     "text": [
      "The road tax to be paid as Rs: 900.0\n"
     ]
    }
   ],
   "source": [
    "cost_price = int(input(\"enter the cost price in Rs\"))\n",
    "if cost_price > 100000:\n",
    "    tax_rate =  0.15\n",
    "elif cost_price > 5000 and cost_price <= 100000:\n",
    "    tax_rate = 0.10\n",
    "else:\n",
    "    tax_rate =  0.5\n",
    "road_tax = cost_price * tax_rate    \n",
    "print(\"The road tax to be paid as Rs:\" , road_tax)\n",
    "    "
   ]
  },
  {
   "cell_type": "markdown",
   "id": "8ea09701-06aa-42ac-bb8a-17b64a5106ea",
   "metadata": {},
   "source": [
    "Q.3 Accept any city from the user and display monuments of that city."
   ]
  },
  {
   "cell_type": "code",
   "execution_count": 8,
   "id": "a2bb40f0-1aaf-4cde-9b4c-b8c4b704c949",
   "metadata": {},
   "outputs": [],
   "source": [
    "d = {}"
   ]
  },
  {
   "cell_type": "code",
   "execution_count": 9,
   "id": "54b025b6-2a2e-4a6d-ada4-7979f7666743",
   "metadata": {},
   "outputs": [
    {
     "data": {
      "text/plain": [
       "dict"
      ]
     },
     "execution_count": 9,
     "metadata": {},
     "output_type": "execute_result"
    }
   ],
   "source": [
    "type(d)"
   ]
  },
  {
   "cell_type": "code",
   "execution_count": 18,
   "id": "d562ef8c-eb25-4acd-a1fc-80bb618407e4",
   "metadata": {},
   "outputs": [],
   "source": [
    "d = { \"Delhi\" : \"Redfort\" , \"Agra\" : \"Tajmahal\" , \"Jaipur\" :\"Jaimahal\"}"
   ]
  },
  {
   "cell_type": "code",
   "execution_count": 19,
   "id": "5ce29565-ef44-494c-be72-5990da6ae2c7",
   "metadata": {},
   "outputs": [
    {
     "data": {
      "text/plain": [
       "{'Delhi': 'Redfort', 'Agra': 'Tajmahal', 'Jaipur': 'Jaimahal'}"
      ]
     },
     "execution_count": 19,
     "metadata": {},
     "output_type": "execute_result"
    }
   ],
   "source": [
    "d"
   ]
  },
  {
   "cell_type": "code",
   "execution_count": 21,
   "id": "dd99392a-092b-471e-8c49-086800c16885",
   "metadata": {},
   "outputs": [
    {
     "data": {
      "text/plain": [
       "'Redfort'"
      ]
     },
     "execution_count": 21,
     "metadata": {},
     "output_type": "execute_result"
    }
   ],
   "source": [
    "d[\"Delhi\"]"
   ]
  },
  {
   "cell_type": "code",
   "execution_count": 22,
   "id": "be4ec155-5b4e-460a-a5e5-8493e2e00fa9",
   "metadata": {},
   "outputs": [
    {
     "data": {
      "text/plain": [
       "'Jaimahal'"
      ]
     },
     "execution_count": 22,
     "metadata": {},
     "output_type": "execute_result"
    }
   ],
   "source": [
    "d[\"Jaipur\"]"
   ]
  },
  {
   "cell_type": "code",
   "execution_count": null,
   "id": "de33271a-5451-4b77-8fa8-3ff36b8eb32e",
   "metadata": {},
   "outputs": [],
   "source": []
  },
  {
   "cell_type": "code",
   "execution_count": null,
   "id": "d2d20f06-ec06-4c83-a9e2-4572b7c973cb",
   "metadata": {},
   "outputs": [],
   "source": []
  },
  {
   "cell_type": "markdown",
   "id": "7b456993-f5e0-4551-877f-f8ddec7d9ec2",
   "metadata": {},
   "source": [
    "Q.4 Check how many times a given number can be divided by 3 before it is less than or equal to 10."
   ]
  },
  {
   "cell_type": "code",
   "execution_count": 5,
   "id": "7a414e37-82c6-4498-8241-eedf837c112f",
   "metadata": {},
   "outputs": [],
   "source": [
    "l = [1,2,3,4,5,6,7,8,9,10]"
   ]
  },
  {
   "cell_type": "code",
   "execution_count": 6,
   "id": "5850c944-c2d5-45be-9b1c-90e38596bf82",
   "metadata": {},
   "outputs": [
    {
     "data": {
      "text/plain": [
       "[1, 2, 3, 4, 5, 6, 7, 8, 9, 10]"
      ]
     },
     "execution_count": 6,
     "metadata": {},
     "output_type": "execute_result"
    }
   ],
   "source": [
    "l"
   ]
  },
  {
   "cell_type": "code",
   "execution_count": 7,
   "id": "3cb9b9cc-34a3-49ba-9b8c-31e78c1e28d2",
   "metadata": {},
   "outputs": [
    {
     "data": {
      "text/plain": [
       "[3, 6, 9]"
      ]
     },
     "execution_count": 7,
     "metadata": {},
     "output_type": "execute_result"
    }
   ],
   "source": [
    "[i for i in l if i % 3 == 0]"
   ]
  },
  {
   "cell_type": "markdown",
   "id": "1de48763-b75f-4043-ab16-f2b611e16128",
   "metadata": {},
   "source": [
    "Q.5 Why and when to use while loop in python give a detailed description with example."
   ]
  },
  {
   "cell_type": "code",
   "execution_count": null,
   "id": "ff7b9e20-04a0-4ab2-9a18-ec5d9208ae95",
   "metadata": {},
   "outputs": [],
   "source": [
    "A while loop evaluates the condition. if the condition evaluates to True, the code inside the while loop is executed."
   ]
  },
  {
   "cell_type": "code",
   "execution_count": 5,
   "id": "f970e3b6-d796-4415-94f7-2ec61788a9d1",
   "metadata": {},
   "outputs": [
    {
     "name": "stdout",
     "output_type": "stream",
     "text": [
      "1\n",
      "2\n",
      "3\n",
      "4\n",
      "5\n"
     ]
    }
   ],
   "source": [
    "x = 1\n",
    "while x <= 5:\n",
    "    print (x)\n",
    "    x = x+1"
   ]
  },
  {
   "cell_type": "markdown",
   "id": "cd939ebc-8527-442e-9b6c-a2c73e4346e3",
   "metadata": {},
   "source": [
    "Q.6 Use nested while loop to print 3 different pattern."
   ]
  },
  {
   "cell_type": "code",
   "execution_count": 10,
   "id": "1747222b-8b8b-40a2-9e63-af55aaf50edb",
   "metadata": {},
   "outputs": [],
   "source": [
    "for i in range(100 , 1):\n",
    "    for j in range(100 , 1):\n",
    "        print(i*j, end = \" \")"
   ]
  },
  {
   "cell_type": "code",
   "execution_count": 11,
   "id": "b733fa5b-a1ee-4a69-89e8-d98b3b161c07",
   "metadata": {},
   "outputs": [
    {
     "name": "stdout",
     "output_type": "stream",
     "text": [
      "100\n"
     ]
    }
   ],
   "source": [
    "print(j)"
   ]
  },
  {
   "cell_type": "code",
   "execution_count": 2,
   "id": "aeaef5a2-25fb-43c4-9b41-9c43f15cdf0e",
   "metadata": {},
   "outputs": [
    {
     "name": "stdout",
     "output_type": "stream",
     "text": [
      "1\t2\t3\t4\t5\t6\t7\t8\t9\t\n",
      "4\t6\t8\t10\t12\t14\t16\t18\t\n",
      "9\t12\t15\t18\t21\t24\t27\t\n",
      "16\t20\t24\t28\t32\t36\t\n",
      "25\t30\t35\t40\t45\t\n",
      "36\t42\t48\t54\t\n",
      "49\t56\t63\t\n",
      "64\t72\t\n",
      "81\t\n",
      "\n"
     ]
    }
   ],
   "source": [
    "i = 1\n",
    "##outer loops\n",
    "while i <= 10:\n",
    "    j = i\n",
    "    while j <+ 10:\n",
    "        product = i*j\n",
    "        print(product,end = \"\\t\")\n",
    "        j += 1\n",
    "    print()\n",
    "    i += 1"
   ]
  },
  {
   "cell_type": "code",
   "execution_count": 1,
   "id": "23116c05-2423-491c-910c-54705736f810",
   "metadata": {},
   "outputs": [
    {
     "name": "stdout",
     "output_type": "stream",
     "text": [
      "*\n",
      "**\n",
      "***\n",
      "****\n",
      "*****\n"
     ]
    }
   ],
   "source": [
    "i = 1\n",
    "while i <= 5:\n",
    "    j = 1\n",
    "    while j <= i:\n",
    "        print('*' , end = '')\n",
    "        j += 1\n",
    "    print()\n",
    "    i += 1"
   ]
  },
  {
   "cell_type": "code",
   "execution_count": null,
   "id": "3bfadb37-00ea-4515-a476-67bb3e9aac31",
   "metadata": {},
   "outputs": [],
   "source": []
  },
  {
   "cell_type": "code",
   "execution_count": null,
   "id": "15171ece-394a-4e1a-8fe7-44f9e175b47a",
   "metadata": {},
   "outputs": [],
   "source": []
  },
  {
   "cell_type": "code",
   "execution_count": null,
   "id": "ff27ea8b-8da2-45e7-af2d-2293aab9fbaa",
   "metadata": {},
   "outputs": [],
   "source": [
    "Q.7 Reverse a while loop to display number from 10 to 1."
   ]
  },
  {
   "cell_type": "code",
   "execution_count": 13,
   "id": "19df8c25-567f-4228-92a3-abb8c8352845",
   "metadata": {},
   "outputs": [],
   "source": [
    "l = [1,2,3,4,5,6,7,8,9,10]"
   ]
  },
  {
   "cell_type": "code",
   "execution_count": 14,
   "id": "064f0e77-b795-4938-a896-c555cd028db4",
   "metadata": {},
   "outputs": [
    {
     "data": {
      "text/plain": [
       "[1, 2, 3, 4, 5, 6, 7, 8, 9, 10]"
      ]
     },
     "execution_count": 14,
     "metadata": {},
     "output_type": "execute_result"
    }
   ],
   "source": [
    "l"
   ]
  },
  {
   "cell_type": "code",
   "execution_count": 18,
   "id": "4dbb21c5-0926-4d92-9ba0-93b8510efab7",
   "metadata": {},
   "outputs": [],
   "source": [
    "l.reverse()"
   ]
  },
  {
   "cell_type": "code",
   "execution_count": 19,
   "id": "5a4b59fc-55bc-4bae-bf1a-99445111deeb",
   "metadata": {},
   "outputs": [
    {
     "data": {
      "text/plain": [
       "[10, 9, 8, 7, 6, 5, 4, 3, 2, 1]"
      ]
     },
     "execution_count": 19,
     "metadata": {},
     "output_type": "execute_result"
    }
   ],
   "source": [
    "l"
   ]
  },
  {
   "cell_type": "code",
   "execution_count": 1,
   "id": "165dbce5-3e38-40de-84d7-749b511f2a3b",
   "metadata": {},
   "outputs": [
    {
     "name": "stdout",
     "output_type": "stream",
     "text": [
      "10\n",
      "9\n",
      "8\n",
      "7\n",
      "6\n",
      "5\n",
      "4\n",
      "3\n",
      "2\n",
      "1\n"
     ]
    }
   ],
   "source": [
    "num = 10\n",
    "while num >= 1:\n",
    "    print(num)\n",
    "    num = num - 1"
   ]
  },
  {
   "cell_type": "code",
   "execution_count": null,
   "id": "536161fa-81a9-4d27-b08b-99fd72656228",
   "metadata": {},
   "outputs": [],
   "source": []
  }
 ],
 "metadata": {
  "kernelspec": {
   "display_name": "Python 3 (ipykernel)",
   "language": "python",
   "name": "python3"
  },
  "language_info": {
   "codemirror_mode": {
    "name": "ipython",
    "version": 3
   },
   "file_extension": ".py",
   "mimetype": "text/x-python",
   "name": "python",
   "nbconvert_exporter": "python",
   "pygments_lexer": "ipython3",
   "version": "3.10.8"
  }
 },
 "nbformat": 4,
 "nbformat_minor": 5
}
