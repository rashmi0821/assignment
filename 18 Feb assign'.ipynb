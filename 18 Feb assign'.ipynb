{
 "cells": [
  {
   "cell_type": "markdown",
   "id": "a2f46dbf-7a83-4ee8-adee-bc965f9e5c8c",
   "metadata": {},
   "source": [
    "Q1. What is an API? Give an example, where an API is used in real life."
   ]
  },
  {
   "cell_type": "markdown",
   "id": "24b5d911-e4bf-4f33-a6f2-ff6c8796484f",
   "metadata": {},
   "source": [
    "Social media APIs are among the most commonly used web APIs.\n",
    "They allow developers to access data from social media platforms like Facebook and Twitter.\n",
    "\n",
    "there are three categories of API protocols or architectures: REST, RPC and SOAP"
   ]
  },
  {
   "cell_type": "markdown",
   "id": "d3654dec-f9f5-468a-ab0a-39b0985ec77a",
   "metadata": {},
   "source": [
    "Q2. Give advantages and disadvantages of using API."
   ]
  },
  {
   "cell_type": "markdown",
   "id": "b2083379-13d9-4abf-96bd-78f1554a3757",
   "metadata": {},
   "source": [
    "There are some potential disadvantages to using an API web-server interface that\n",
    "should be considered before making the decision to use one. \n",
    "These include the potential for security risks, the need for specialized knowledge, and the potential for\n",
    "compatibility issues.\n",
    "The major benefit of using an API is accessing and consuming data and services from thousands of independent sources. \n",
    "This means organizations of all sizes can access these functionalities without developing \n",
    "their own specialized applications."
   ]
  },
  {
   "cell_type": "markdown",
   "id": "7c311f49-b9a4-4747-8f95-af4dd79c71b5",
   "metadata": {},
   "source": [
    "Q3. What is a Web API? Differentiate between API and Web API.\n"
   ]
  },
  {
   "cell_type": "markdown",
   "id": "764a83fc-c99c-4999-9a72-a1715cdecc65",
   "metadata": {},
   "source": [
    "API is an interface that exposes an application's data to outside software,\n",
    "whereas web applications are one type of API with stricter requirements.\n",
    "These requirements include network communication, SOAP as the primary protocol, and less accessibility for the public."
   ]
  },
  {
   "cell_type": "markdown",
   "id": "8e301aa1-1cd9-4482-950f-fe1e8da24da8",
   "metadata": {},
   "source": [
    "Q4. Explain REST and SOAP Architecture. Mention shortcomings of SOAP."
   ]
  },
  {
   "cell_type": "markdown",
   "id": "4f82aa59-fb49-4b99-bfb2-bf181084c337",
   "metadata": {},
   "source": [
    "REST is a set of guidelines that offers flexible implementation, whereas SOAP is a protocol\n",
    "with specific requirementslike XML messaging.\n",
    "SOAP is a protocol for the exchange of information in a distributed environment. "
   ]
  },
  {
   "cell_type": "markdown",
   "id": "1cad97dc-b620-4c5c-a9e3-989917ffb9cd",
   "metadata": {},
   "source": [
    "Q5. Differentiate between REST and SOAP."
   ]
  },
  {
   "cell_type": "markdown",
   "id": "f277099a-d3aa-4d2a-832e-30b8f8d166d5",
   "metadata": {},
   "source": [
    "REST is a set of guidelines that offers flexible implementation, whereas SOAP is a protocol with\n",
    "specific requirements like XML messaging. REST APIs are lightweight, making them ideal for newer contexts like the"
   ]
  },
  {
   "cell_type": "code",
   "execution_count": null,
   "id": "40bb048a-a82e-4ea6-81a6-91234b9a363f",
   "metadata": {},
   "outputs": [],
   "source": []
  }
 ],
 "metadata": {
  "kernelspec": {
   "display_name": "Python 3 (ipykernel)",
   "language": "python",
   "name": "python3"
  },
  "language_info": {
   "codemirror_mode": {
    "name": "ipython",
    "version": 3
   },
   "file_extension": ".py",
   "mimetype": "text/x-python",
   "name": "python",
   "nbconvert_exporter": "python",
   "pygments_lexer": "ipython3",
   "version": "3.10.8"
  }
 },
 "nbformat": 4,
 "nbformat_minor": 5
}
