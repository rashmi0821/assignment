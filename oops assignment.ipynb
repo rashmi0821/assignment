{
 "cells": [
  {
   "cell_type": "markdown",
   "id": "fe206437-582d-46fc-b699-f0773cd46aea",
   "metadata": {},
   "source": [
    "Q.1 Explain class and object with respect to object-oriented programming. give a suitable example."
   ]
  },
  {
   "cell_type": "code",
   "execution_count": null,
   "id": "7162d05f-104e-4a2f-99d2-867a673c73e2",
   "metadata": {},
   "outputs": [],
   "source": [
    "Class are defines data type that act as the blueprint for individual object.\n",
    "Object can correnspond to real world object or an abstract entity."
   ]
  },
  {
   "cell_type": "code",
   "execution_count": 1,
   "id": "42e2c286-c39f-4f1e-b5ba-74c3aed79b2c",
   "metadata": {},
   "outputs": [],
   "source": [
    "b = 1"
   ]
  },
  {
   "cell_type": "code",
   "execution_count": 2,
   "id": "ea716c1c-05f4-4751-891c-6503f1a38145",
   "metadata": {},
   "outputs": [
    {
     "name": "stdout",
     "output_type": "stream",
     "text": [
      "<class 'int'>\n"
     ]
    }
   ],
   "source": [
    "print(type(b))"
   ]
  },
  {
   "cell_type": "code",
   "execution_count": 9,
   "id": "5d42cea9-c4d6-4acc-a96d-163506313c9e",
   "metadata": {},
   "outputs": [
    {
     "name": "stdout",
     "output_type": "stream",
     "text": [
      "<class 'str'>\n"
     ]
    }
   ],
   "source": [
    "print(type(\"ridhhi\"))"
   ]
  },
  {
   "cell_type": "code",
   "execution_count": 3,
   "id": "cc894440-b904-481c-b5bc-b62efba806e5",
   "metadata": {},
   "outputs": [],
   "source": [
    "class test:\n",
    "    pass"
   ]
  },
  {
   "cell_type": "code",
   "execution_count": 6,
   "id": "7ae60298-00e7-4ffe-b3a8-844a6247fc32",
   "metadata": {},
   "outputs": [],
   "source": [
    "b = test()"
   ]
  },
  {
   "cell_type": "code",
   "execution_count": 7,
   "id": "02988cd5-d0ee-4da9-bcc0-b7931b71a938",
   "metadata": {},
   "outputs": [
    {
     "data": {
      "text/plain": [
       "__main__.test"
      ]
     },
     "execution_count": 7,
     "metadata": {},
     "output_type": "execute_result"
    }
   ],
   "source": [
    "type(b)"
   ]
  },
  {
   "cell_type": "code",
   "execution_count": 8,
   "id": "184bab89-3020-4b11-af88-1f3741aab34c",
   "metadata": {},
   "outputs": [
    {
     "name": "stdout",
     "output_type": "stream",
     "text": [
      "<class '__main__.test'>\n"
     ]
    }
   ],
   "source": [
    "print(type(b))"
   ]
  },
  {
   "cell_type": "code",
   "execution_count": 10,
   "id": "707c60f4-f923-4f05-8e0a-72c95a8700d8",
   "metadata": {},
   "outputs": [],
   "source": [
    "class ridhhi:\n",
    "    \n",
    "    \n",
    "    def wellcome_msg(you):\n",
    "        print (\"wellcome to here\")\n",
    "    "
   ]
  },
  {
   "cell_type": "code",
   "execution_count": 11,
   "id": "73a5371f-3da1-4a1d-bb67-8f0829e9a114",
   "metadata": {},
   "outputs": [],
   "source": [
    "rohni = ridhhi()"
   ]
  },
  {
   "cell_type": "code",
   "execution_count": 12,
   "id": "954d4884-1cd0-451d-9466-f14a542c60ba",
   "metadata": {},
   "outputs": [
    {
     "name": "stdout",
     "output_type": "stream",
     "text": [
      "<class '__main__.ridhhi'>\n"
     ]
    }
   ],
   "source": [
    "print(type(rohni))"
   ]
  },
  {
   "cell_type": "code",
   "execution_count": 14,
   "id": "00e7c385-fddb-4cc1-a360-2d4071b19aeb",
   "metadata": {},
   "outputs": [
    {
     "name": "stdout",
     "output_type": "stream",
     "text": [
      "wellcome to here\n"
     ]
    }
   ],
   "source": [
    "rohni.wellcome_msg()"
   ]
  },
  {
   "cell_type": "code",
   "execution_count": null,
   "id": "43490cb8-75cd-4b65-abf1-4f42482ebcfa",
   "metadata": {},
   "outputs": [],
   "source": [
    "Q.2 Name the four pillars of OOPs."
   ]
  },
  {
   "cell_type": "code",
   "execution_count": null,
   "id": "fb324d03-894e-43a3-b826-fe1ed5f34322",
   "metadata": {},
   "outputs": [],
   "source": [
    "The four pillars of oops.\n",
    "  1. Abstract\n",
    "  2. Encapsulation\n",
    "  3. inheritance\n",
    "  4. polymorphism"
   ]
  },
  {
   "cell_type": "code",
   "execution_count": null,
   "id": "7e402802-14e9-4b32-a7cd-368ccb6f1e23",
   "metadata": {},
   "outputs": [],
   "source": []
  },
  {
   "cell_type": "code",
   "execution_count": null,
   "id": "4c75a268-d411-4370-a431-61ba11157410",
   "metadata": {},
   "outputs": [],
   "source": [
    "Q.3 Explain why the __init__ () function is used. Give an suitable example."
   ]
  },
  {
   "cell_type": "code",
   "execution_count": null,
   "id": "8330cc1d-14b4-45a3-a57a-2e0f600641ea",
   "metadata": {},
   "outputs": [],
   "source": [
    "The __init__ function is called initialize and object is created frome class.\n",
    "It is used only whithin class."
   ]
  },
  {
   "cell_type": "code",
   "execution_count": 25,
   "id": "96ec630d-bee8-4a59-9c6a-f2669dc4c949",
   "metadata": {},
   "outputs": [],
   "source": [
    "class school:\n",
    "     def __init__(self, phone_number, student_id):\n",
    "        self.phone_number = phone_number\n",
    "        self.student_id = student_id\n",
    "        \n",
    "        def return_student_details(self):\n",
    "                return self.student_id , self.phone_number"
   ]
  },
  {
   "cell_type": "code",
   "execution_count": 26,
   "id": "6b14f4f1-a298-4967-bad2-e6815e0bf1aa",
   "metadata": {},
   "outputs": [],
   "source": [
    "rohani = school(78999337744 , 234)"
   ]
  },
  {
   "cell_type": "code",
   "execution_count": 30,
   "id": "1164a699-edc0-45bd-949a-a9844614c636",
   "metadata": {},
   "outputs": [
    {
     "data": {
      "text/plain": [
       "234"
      ]
     },
     "execution_count": 30,
     "metadata": {},
     "output_type": "execute_result"
    }
   ],
   "source": [
    "rohani.student_id"
   ]
  },
  {
   "cell_type": "code",
   "execution_count": 32,
   "id": "54661b37-75ca-48b9-bf2d-7a79fbf0fd5f",
   "metadata": {},
   "outputs": [
    {
     "data": {
      "text/plain": [
       "78999337744"
      ]
     },
     "execution_count": 32,
     "metadata": {},
     "output_type": "execute_result"
    }
   ],
   "source": [
    "rohani.phone_number"
   ]
  },
  {
   "cell_type": "code",
   "execution_count": null,
   "id": "74a80d1d-10f5-4fdb-ae46-153bb0ed8ed5",
   "metadata": {},
   "outputs": [],
   "source": [
    "Q.4 Why self is used in OOPs."
   ]
  },
  {
   "cell_type": "code",
   "execution_count": null,
   "id": "6ef67918-a1c4-4b6b-8da0-30743b7ea182",
   "metadata": {},
   "outputs": [],
   "source": [
    "The self is used to represent the instance of the class."
   ]
  },
  {
   "cell_type": "code",
   "execution_count": null,
   "id": "b57efef8-3641-4d89-a330-bd44699312bb",
   "metadata": {},
   "outputs": [],
   "source": [
    "Q.5 What is inheritance? Give an example for each type of inheritance."
   ]
  },
  {
   "cell_type": "code",
   "execution_count": null,
   "id": "903258f0-c3f9-48dc-912f-e11a2014b479",
   "metadata": {},
   "outputs": [],
   "source": [
    "Inheritance dsfines the classes that inhert from other classes as derived, subclass ,or sub-type class.\n",
    "Five type of inheritance.\n",
    "   1. Single inheritance\n",
    "   2. Multiple inheritance\n",
    "   3. multilevel inheritance\n",
    "   4. Hierarchical inheritance\n",
    "   5. Hybird inheritance."
   ]
  }
 ],
 "metadata": {
  "kernelspec": {
   "display_name": "Python 3 (ipykernel)",
   "language": "python",
   "name": "python3"
  },
  "language_info": {
   "codemirror_mode": {
    "name": "ipython",
    "version": 3
   },
   "file_extension": ".py",
   "mimetype": "text/x-python",
   "name": "python",
   "nbconvert_exporter": "python",
   "pygments_lexer": "ipython3",
   "version": "3.10.8"
  }
 },
 "nbformat": 4,
 "nbformat_minor": 5
}
