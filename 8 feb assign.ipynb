{
 "cells": [
  {
   "cell_type": "markdown",
   "id": "e324e7e3-414f-4845-9139-d0968fff6261",
   "metadata": {},
   "source": [
    "Q.1 What is abstraction in OOps? explain with an example."
   ]
  },
  {
   "cell_type": "code",
   "execution_count": null,
   "id": "00c4d6a2-f76d-4703-b2a8-959c34d898df",
   "metadata": {},
   "outputs": [],
   "source": [
    "Abstraction which is showing only the essential information and hiding the internal details."
   ]
  },
  {
   "cell_type": "code",
   "execution_count": null,
   "id": "3b2144b4-583e-4bdb-b965-bbadd02c1737",
   "metadata": {},
   "outputs": [],
   "source": [
    "class  schools:\n",
    "    \n",
    "    @abstractmethod\n",
    "    def student_details(self):\n",
    "        pass\n",
    "    \n",
    "    @abstractmethod\n",
    "    def student_assignment(self):\n",
    "        pass\n",
    "    \n",
    "    @abstractmethod\n",
    "    def student_marks(self):\n",
    "        pass\n",
    "    "
   ]
  },
  {
   "cell_type": "code",
   "execution_count": null,
   "id": "3cbd3049-c6eb-4af2-9323-a27479ebc0c9",
   "metadata": {},
   "outputs": [],
   "source": [
    "class  student_details(schools):\n",
    "    \n",
    "    def student_details(self):\n",
    "        return \"this is my school nd my details\"\n",
    "    \n",
    "     def student_assignment(self):\n",
    "            return \"this is my school assignment\""
   ]
  },
  {
   "cell_type": "code",
   "execution_count": null,
   "id": "2f2aacca-4f11-44ec-982a-06b8f2609a72",
   "metadata": {},
   "outputs": [],
   "source": []
  },
  {
   "cell_type": "code",
   "execution_count": null,
   "id": "f6678799-ec4e-4988-8afe-9115c7b86762",
   "metadata": {},
   "outputs": [],
   "source": []
  },
  {
   "cell_type": "markdown",
   "id": "e49bdc14-f94d-4f17-8eea-de18e01af785",
   "metadata": {},
   "source": [
    "Q.2 Differentiate between Abstraction and Encapsulation? Explain with an example."
   ]
  },
  {
   "cell_type": "code",
   "execution_count": null,
   "id": "b1c740e0-76cd-484a-a3f7-e1aecdbf972d",
   "metadata": {},
   "outputs": [],
   "source": [
    "Abstraction solves the problems at the design level. It help to hide implementation details.\n",
    "Encapsulation solves the problems at the implementation level. It wraps the code and data together\n",
    "into a single units and help to hide it from the world."
   ]
  },
  {
   "cell_type": "code",
   "execution_count": null,
   "id": "f51bb8f8-a4a9-4116-bdbc-91fe94b44418",
   "metadata": {},
   "outputs": [],
   "source": [
    "Abstration hides complexity by giving you a more abstract picture , a sort of 20,000 feet view, while\n",
    "Encapsulation hides internal working that you can change it later.\n",
    "Abstraction hide details at the design level,Encapsulation hides details at impletation level."
   ]
  },
  {
   "cell_type": "markdown",
   "id": "46282102-eab8-4ed7-98fd-1c0e75a8d252",
   "metadata": {},
   "source": [
    "Q.3 What is abc method in python? why is it use?"
   ]
  },
  {
   "cell_type": "code",
   "execution_count": null,
   "id": "7057bbac-e531-4e77-a393-ff1df5a50998",
   "metadata": {},
   "outputs": [],
   "source": [
    "The abc madule in python library provides the infrastructure for hiding custom abstrat base classes.\n",
    "Abstract class cannot be instantiated in python. An Abstract method can be call by its subclass."
   ]
  },
  {
   "cell_type": "code",
   "execution_count": null,
   "id": "bacc5206-4238-4ec6-bcc8-76e97c320e98",
   "metadata": {},
   "outputs": [],
   "source": []
  },
  {
   "cell_type": "markdown",
   "id": "1f029af6-7684-46f3-8218-6ad8de11b0d8",
   "metadata": {},
   "source": [
    "Q.4 How can we achieve data abstration?"
   ]
  },
  {
   "cell_type": "code",
   "execution_count": null,
   "id": "f2b0ef2d-5e86-4083-b807-62b0a25da5e0",
   "metadata": {},
   "outputs": [],
   "source": [
    "Data Abstration in python can be achive through creating abstract classes and inheriting them later."
   ]
  },
  {
   "cell_type": "code",
   "execution_count": null,
   "id": "5f2b36e5-c1db-4bdb-a9a2-93a8db7af0a4",
   "metadata": {},
   "outputs": [],
   "source": []
  },
  {
   "cell_type": "code",
   "execution_count": null,
   "id": "86b0dc9f-8441-4ed6-9cbf-ba570c1bc8a7",
   "metadata": {},
   "outputs": [],
   "source": [
    "Q,5 Can we create an instance of an abstract class? Explain an answer."
   ]
  },
  {
   "cell_type": "code",
   "execution_count": null,
   "id": "3bb36afb-dc6d-4042-843e-5f205db3238b",
   "metadata": {},
   "outputs": [],
   "source": [
    "Abstract class cannot be instantiated, but they can be subclass.\n",
    "we can create a referance variable of an abstract class. The referance variable is used to refer to the\n",
    "object of derived classes."
   ]
  },
  {
   "cell_type": "code",
   "execution_count": null,
   "id": "b5cc282a-6ce7-4ee0-ae69-5af765d18a76",
   "metadata": {},
   "outputs": [],
   "source": []
  }
 ],
 "metadata": {
  "kernelspec": {
   "display_name": "Python 3 (ipykernel)",
   "language": "python",
   "name": "python3"
  },
  "language_info": {
   "codemirror_mode": {
    "name": "ipython",
    "version": 3
   },
   "file_extension": ".py",
   "mimetype": "text/x-python",
   "name": "python",
   "nbconvert_exporter": "python",
   "pygments_lexer": "ipython3",
   "version": "3.10.8"
  }
 },
 "nbformat": 4,
 "nbformat_minor": 5
}
