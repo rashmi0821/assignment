{
 "cells": [
  {
   "cell_type": "markdown",
   "id": "537d68a9-efe5-439b-ba07-34ef8b11bf99",
   "metadata": {},
   "source": [
    "Q1. What is statistics?"
   ]
  },
  {
   "cell_type": "markdown",
   "id": "058b7616-072d-4ab4-a56d-0dd9182c0bcb",
   "metadata": {},
   "source": [
    "Statistics is the science concerned with developing and studying methods for collecting, analyzing, \n",
    "interpreting and presenting empirical data."
   ]
  },
  {
   "cell_type": "markdown",
   "id": "6f341c1c-e5b4-44ba-a1bb-879e2d9f310f",
   "metadata": {},
   "source": [
    "Q2. Define the different types of statistics and give an example of when each type might be used."
   ]
  },
  {
   "cell_type": "markdown",
   "id": "de2ec727-293d-4f2e-be75-6e15d81e18a2",
   "metadata": {},
   "source": [
    "There are two kinds of Statistics, which are descriptive Statistics and inferential Statistics.\n",
    "\n",
    "In descriptive Statistics, the Data or Collection Data are described in a summarized way, whereas in inferential Statistics,\n",
    "we make use of it in order to explain the descriptive kind."
   ]
  },
  {
   "cell_type": "markdown",
   "id": "e6661af9-3df2-4056-986b-fbc422d1ad72",
   "metadata": {},
   "source": [
    "Q3. What are the different types of data and how do they differ from each other? Provide an example of\n",
    "each type of data."
   ]
  },
  {
   "cell_type": "markdown",
   "id": "c3e9fd42-a6d7-4f66-be3f-422027b9b29c",
   "metadata": {},
   "source": [
    "Types of data\n",
    "Qualitative and Quantitative\n",
    "\n",
    "The Qualitative data are further classified into two parts.\n",
    "Nominal Data\n",
    "Ordinal data.\n",
    "\n",
    "The Quatitative data are further classified into two parts.\n",
    "Discrete data.\n",
    "Continuous data.\n"
   ]
  },
  {
   "cell_type": "code",
   "execution_count": null,
   "id": "2bdc6c21-0b4e-4ca1-8b91-eab3b5d46091",
   "metadata": {},
   "outputs": [],
   "source": [
    "Q4. Categorise the following datasets with respect to quantitative and qualitative data types:\n"
   ]
  },
  {
   "cell_type": "code",
   "execution_count": null,
   "id": "f737c532-1aba-4796-a162-567e5d58a108",
   "metadata": {},
   "outputs": [],
   "source": [
    "    \n",
    "(i) Grading in exam: A+, A, B+, B, C+, C, D, E\n",
    "This is a Ordinal Data\n",
    "\n",
    "(ii) Colour of mangoes: yellow, green, orange, red\n",
    "This is Nominal Data\n",
    "\n",
    "(iii) Height data of a class: [178.9, 179, 179.5, 176, 177.2, 178.3, 175.8,...]\n",
    "This is Continouse Data.\n",
    "\n",
    "(iv) Number of mangoes exported by a farm: [500, 600, 478, 672, ...]\n",
    "This is Discrete Data."
   ]
  },
  {
   "cell_type": "code",
   "execution_count": null,
   "id": "b754b819-a872-49b3-bb3e-824a835b4997",
   "metadata": {},
   "outputs": [],
   "source": [
    "Q5. Explain the concept of levels of measurement and give an example of a variable for each level."
   ]
  },
  {
   "cell_type": "markdown",
   "id": "75527817-fe1f-4d90-a6c6-38a57b06b082",
   "metadata": {},
   "source": [
    "There are 4 levels of measurement:\n",
    "Nominal: the data can only be categorized.\n",
    "Ordinal: the data can be categorized and ranked.\n",
    "Interval: the data can be categorized, ranked, and evenly spaced.\n",
    "Ratio: the data can be categorized, ranked, evenly spaced, and has a natural zero."
   ]
  },
  {
   "cell_type": "markdown",
   "id": "f9af1312-e8eb-4b7e-9d13-3c3881c2dd2d",
   "metadata": {},
   "source": [
    "Q6. Why is it important to understand the level of measurement when analyzing data? Provide an\n",
    "example to illustrate your answer."
   ]
  },
  {
   "cell_type": "code",
   "execution_count": null,
   "id": "8b566ce4-4dc1-4c31-a986-8419ec6de2f0",
   "metadata": {},
   "outputs": [],
   "source": [
    "It is important to understand the level of measurement of variables in research, because the level\n",
    "of measurement determines the type of statistical analysis that can be conducted, and, therefore,\n",
    "the type of conclusions that can be drawn from the research."
   ]
  },
  {
   "cell_type": "code",
   "execution_count": null,
   "id": "92ccdfdd-d730-41cb-a689-987c9fcae762",
   "metadata": {},
   "outputs": [],
   "source": [
    "Q.7 How nominal data type is different from ordinal data type."
   ]
  },
  {
   "cell_type": "code",
   "execution_count": null,
   "id": "db423d2c-b4af-49ee-b14d-019fe74f3669",
   "metadata": {},
   "outputs": [],
   "source": [
    "Nominal values are classes where there is no apparent order. Examples of nominal values can be movie genres,\n",
    "hair colors, and religions. Ordinal values are classes where there is order. Ordinal values explain a “position” or\n",
    "“rank” among the other targets."
   ]
  },
  {
   "cell_type": "code",
   "execution_count": null,
   "id": "e877c5dd-b39d-47cd-b3bd-63fbe5209b0c",
   "metadata": {},
   "outputs": [],
   "source": [
    "Q8. Which type of plot can be used to display data in terms of range?"
   ]
  },
  {
   "cell_type": "code",
   "execution_count": null,
   "id": "304fd339-a696-4b3f-a4c9-40855987c526",
   "metadata": {},
   "outputs": [],
   "source": [
    "The groups depicted in a bar chart are actually continuous numeric ranges, \n",
    "we can push the bars together to generate a histogram."
   ]
  },
  {
   "cell_type": "code",
   "execution_count": null,
   "id": "f5ae1dc0-fd89-4729-9819-097d4237573d",
   "metadata": {},
   "outputs": [],
   "source": [
    "Q9. Describe the difference between descriptive and inferential statistics. Give an example of each\n",
    "type of statistics and explain how they are used."
   ]
  },
  {
   "cell_type": "code",
   "execution_count": null,
   "id": "44feeb0f-ff7c-4813-9ea1-94b1a172292f",
   "metadata": {},
   "outputs": [],
   "source": [
    "Descriptive statistics state facts and proven outcomes from a population, whereas inferential statistics analyze samplings to make\n",
    "predictions about larger populations."
   ]
  },
  {
   "cell_type": "code",
   "execution_count": null,
   "id": "878a563c-0789-4755-8561-d4ed3b790a27",
   "metadata": {},
   "outputs": [],
   "source": [
    "Inferential statistics example are.\n",
    "measures of central tendency, such as mean, median, and mode\n",
    "\n",
    "The 2 Main Types of Descriptive Statistics Example are\n",
    "Measures of Central Tendency (Mean, Median, and Mode).\n",
    "Measures of Dispersion or Variation (Variance, Standard Deviation, Range).\n"
   ]
  },
  {
   "cell_type": "code",
   "execution_count": null,
   "id": "9d7a4fa0-8638-442c-8488-adb8ae20502b",
   "metadata": {},
   "outputs": [],
   "source": [
    "Q10. What are some common measures of central tendency and variability used in statistics? Explain\n",
    "how each measure can be used to describe a dataset."
   ]
  },
  {
   "cell_type": "code",
   "execution_count": null,
   "id": "7c799393-f183-4592-a528-7ef88dbccd76",
   "metadata": {},
   "outputs": [],
   "source": [
    "There are three main measures of central tendency:\n",
    "mode.\n",
    "median.\n",
    "mean.\n"
   ]
  },
  {
   "cell_type": "code",
   "execution_count": null,
   "id": "ce476d31-64fc-4b55-be50-5e9fa2a05e51",
   "metadata": {},
   "outputs": [],
   "source": []
  }
 ],
 "metadata": {
  "kernelspec": {
   "display_name": "Python 3 (ipykernel)",
   "language": "python",
   "name": "python3"
  },
  "language_info": {
   "codemirror_mode": {
    "name": "ipython",
    "version": 3
   },
   "file_extension": ".py",
   "mimetype": "text/x-python",
   "name": "python",
   "nbconvert_exporter": "python",
   "pygments_lexer": "ipython3",
   "version": "3.10.8"
  }
 },
 "nbformat": 4,
 "nbformat_minor": 5
}
