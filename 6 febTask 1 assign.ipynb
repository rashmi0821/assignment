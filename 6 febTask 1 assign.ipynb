{
 "cells": [
  {
   "cell_type": "code",
   "execution_count": null,
   "id": "87ce6190-5abf-4f4c-99ff-a1d387732c46",
   "metadata": {},
   "outputs": [],
   "source": [
    "Q.1 Create a function which will take a list as an argument and return the product of all the numbers \n",
    "after creating a flat list.\n",
    "use the below-givien list as arguments"
   ]
  },
  {
   "cell_type": "code",
   "execution_count": 1,
   "id": "d5472906-3935-43e0-870c-7f7ae7c8c410",
   "metadata": {},
   "outputs": [],
   "source": [
    "list1 = [1,2,3,4,[44,55,66,True],False,(32,56,78,89,34),{1,2,3,3,2,1},{1:34, \"key2\":[55,67,78,89],\n",
    " 4:(45,22,61,34)}, [56,'data science'],'machine leaning' ]"
   ]
  },
  {
   "cell_type": "code",
   "execution_count": 21,
   "id": "ee53fe47-7e11-4c47-953c-99cb53d7fb54",
   "metadata": {},
   "outputs": [
    {
     "name": "stdout",
     "output_type": "stream",
     "text": [
      "74088407635989626880\n"
     ]
    }
   ],
   "source": [
    "def product_of_numbers(lst):\n",
    "    nums = []\n",
    "    for item in lst:\n",
    "        if type(item) == int or type(item) == float:\n",
    "            nums.append(item)\n",
    "        elif type(item) == list or type(item) == tuple or type(item) == set:\n",
    "                for sub_item in item:\n",
    "                    if type(sub_item) == int or type(sub_item) == float:\n",
    "                        nums.append(sub_item)\n",
    "        elif type(item) == dict:\n",
    "                for key, value in item.items():\n",
    "                    if type(key) == int or type(key) == float:\n",
    "                        nums.append(key)\n",
    "                    if type(value) == int or type(value) == float:\n",
    "                        nums.append(value)\n",
    "                            \n",
    "                            \n",
    "    product = 1\n",
    "    for nums in nums:\n",
    "        product *= nums\n",
    "    return product\n",
    "list1 = [1,2,3,4, [44,55,66,True],False,(32,56,78,89,34),{1,2,3,2,1},{1:34,\"key2\":[55,67,78,89],4:(45,22,61,34)}\n",
    "         , [56, 'data science'] , 'machine leaning']\n",
    "result = product_of_numbers(list1)\n",
    "print(result)\n",
    "    "
   ]
  },
  {
   "cell_type": "markdown",
   "id": "90edf2ce-7a21-41d4-b511-620293271e37",
   "metadata": {},
   "source": [
    "Q.2 write a python program for encrypting msg sent to your frnd. The logic of encrypting\n",
    "should be sach that, for a output should be z, for b the output should be y. For c the output should be x resprctively\n",
    "Also the whitespace should be replace with a dolar sigh. Keep the punctuation marks unchanged."
   ]
  },
  {
   "cell_type": "code",
   "execution_count": null,
   "id": "8f16d045-59b6-4263-9c6c-41ee6c7af16e",
   "metadata": {},
   "outputs": [],
   "source": []
  },
  {
   "cell_type": "code",
   "execution_count": 3,
   "id": "92e2a4a2-0700-411f-9d25-6630297b897e",
   "metadata": {},
   "outputs": [],
   "source": [
    "def encrypt(latter):\n",
    "    #convert latter to lowercase\n",
    "    latter = latter.lower()\n",
    "    encryption_dict = {'a':'z' , 'b':'y' ,'c':'x','d':'w' ,'e':'v' ,'f':'u','g':'t' , 'h':'s' , 'i' :'r', 'j':'q', \n",
    "                       'k':'p', 'l':'o', 'm':'n', 'n':'m' ,'o':'l','p':'k' , 'q':'j' ,'r':'i' ,'s':'h' , 't':'g' ,\n",
    "                       'u':'f' ,'v' :'e','w':'d' ,'x':'c','y':'b','z':'a'}\n",
    "    encrypt_latter= ' '.Join([encryption_dict.get(char,char) for char in latter])\n",
    "    encrypt_latter= encrypt_latter.replace(' ' , '$')\n",
    "    return encrypt_latter\n",
    "    "
   ]
  },
  {
   "cell_type": "code",
   "execution_count": null,
   "id": "58e9093b-0dbc-445d-8186-749428aba907",
   "metadata": {},
   "outputs": [],
   "source": []
  }
 ],
 "metadata": {
  "kernelspec": {
   "display_name": "Python 3 (ipykernel)",
   "language": "python",
   "name": "python3"
  },
  "language_info": {
   "codemirror_mode": {
    "name": "ipython",
    "version": 3
   },
   "file_extension": ".py",
   "mimetype": "text/x-python",
   "name": "python",
   "nbconvert_exporter": "python",
   "pygments_lexer": "ipython3",
   "version": "3.10.8"
  }
 },
 "nbformat": 4,
 "nbformat_minor": 5
}
