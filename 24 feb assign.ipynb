{
 "cells": [
  {
   "cell_type": "markdown",
   "id": "5123a805-6d73-4a60-8ccf-0575c17c5a47",
   "metadata": {},
   "source": [
    "Q1. List any five functions of the pandas library with execution."
   ]
  },
  {
   "cell_type": "code",
   "execution_count": null,
   "id": "a71755e3-3385-435f-852f-bf5979d15124",
   "metadata": {},
   "outputs": [],
   "source": [
    "Value_counts.\n",
    "groupby.\n",
    "loc and iloc.\n",
    "unique and nunique.\n",
    "Cut and qcut.\n"
   ]
  },
  {
   "cell_type": "markdown",
   "id": "35bf805b-0d28-4566-a411-1f4afb356dff",
   "metadata": {},
   "source": [
    "Q2. Given a Pandas DataFrame df with columns 'A', 'B', and 'C', write a Python function to re-index the\n",
    "DataFrame with a new index that starts from 1 and increments by 2 for each row."
   ]
  },
  {
   "cell_type": "code",
   "execution_count": 2,
   "id": "134ecac2-03a1-4fe5-9591-91a3faf0a291",
   "metadata": {},
   "outputs": [],
   "source": [
    "import pandas as pd"
   ]
  },
  {
   "cell_type": "code",
   "execution_count": 4,
   "id": "34710b37-31fc-48be-927a-cecbd60bf5a6",
   "metadata": {},
   "outputs": [],
   "source": [
    "df = {'a' : [1,2,3,4] ,\n",
    "      'b' : [5,6,7,8] , \n",
    "      'c' : [9,10,11,12]}\n",
    "df1 = pd.DataFrame(df,index = ['a','b','c','d'])"
   ]
  },
  {
   "cell_type": "code",
   "execution_count": 5,
   "id": "7c7d70a7-b3ee-4530-a966-1ee56bd78964",
   "metadata": {},
   "outputs": [
    {
     "data": {
      "text/html": [
       "<div>\n",
       "<style scoped>\n",
       "    .dataframe tbody tr th:only-of-type {\n",
       "        vertical-align: middle;\n",
       "    }\n",
       "\n",
       "    .dataframe tbody tr th {\n",
       "        vertical-align: top;\n",
       "    }\n",
       "\n",
       "    .dataframe thead th {\n",
       "        text-align: right;\n",
       "    }\n",
       "</style>\n",
       "<table border=\"1\" class=\"dataframe\">\n",
       "  <thead>\n",
       "    <tr style=\"text-align: right;\">\n",
       "      <th></th>\n",
       "      <th>a</th>\n",
       "      <th>b</th>\n",
       "      <th>c</th>\n",
       "    </tr>\n",
       "  </thead>\n",
       "  <tbody>\n",
       "    <tr>\n",
       "      <th>a</th>\n",
       "      <td>1</td>\n",
       "      <td>5</td>\n",
       "      <td>9</td>\n",
       "    </tr>\n",
       "    <tr>\n",
       "      <th>b</th>\n",
       "      <td>2</td>\n",
       "      <td>6</td>\n",
       "      <td>10</td>\n",
       "    </tr>\n",
       "    <tr>\n",
       "      <th>c</th>\n",
       "      <td>3</td>\n",
       "      <td>7</td>\n",
       "      <td>11</td>\n",
       "    </tr>\n",
       "    <tr>\n",
       "      <th>d</th>\n",
       "      <td>4</td>\n",
       "      <td>8</td>\n",
       "      <td>12</td>\n",
       "    </tr>\n",
       "  </tbody>\n",
       "</table>\n",
       "</div>"
      ],
      "text/plain": [
       "   a  b   c\n",
       "a  1  5   9\n",
       "b  2  6  10\n",
       "c  3  7  11\n",
       "d  4  8  12"
      ]
     },
     "execution_count": 5,
     "metadata": {},
     "output_type": "execute_result"
    }
   ],
   "source": [
    "pd.DataFrame(df1)"
   ]
  },
  {
   "cell_type": "code",
   "execution_count": 6,
   "id": "d28fd61f-e21f-44be-a1ca-141a6e805ee6",
   "metadata": {},
   "outputs": [
    {
     "data": {
      "text/html": [
       "<div>\n",
       "<style scoped>\n",
       "    .dataframe tbody tr th:only-of-type {\n",
       "        vertical-align: middle;\n",
       "    }\n",
       "\n",
       "    .dataframe tbody tr th {\n",
       "        vertical-align: top;\n",
       "    }\n",
       "\n",
       "    .dataframe thead th {\n",
       "        text-align: right;\n",
       "    }\n",
       "</style>\n",
       "<table border=\"1\" class=\"dataframe\">\n",
       "  <thead>\n",
       "    <tr style=\"text-align: right;\">\n",
       "      <th></th>\n",
       "      <th>a</th>\n",
       "      <th>b</th>\n",
       "      <th>c</th>\n",
       "    </tr>\n",
       "  </thead>\n",
       "  <tbody>\n",
       "    <tr>\n",
       "      <th>b</th>\n",
       "      <td>2</td>\n",
       "      <td>6</td>\n",
       "      <td>10</td>\n",
       "    </tr>\n",
       "    <tr>\n",
       "      <th>d</th>\n",
       "      <td>4</td>\n",
       "      <td>8</td>\n",
       "      <td>12</td>\n",
       "    </tr>\n",
       "    <tr>\n",
       "      <th>c</th>\n",
       "      <td>3</td>\n",
       "      <td>7</td>\n",
       "      <td>11</td>\n",
       "    </tr>\n",
       "    <tr>\n",
       "      <th>a</th>\n",
       "      <td>1</td>\n",
       "      <td>5</td>\n",
       "      <td>9</td>\n",
       "    </tr>\n",
       "  </tbody>\n",
       "</table>\n",
       "</div>"
      ],
      "text/plain": [
       "   a  b   c\n",
       "b  2  6  10\n",
       "d  4  8  12\n",
       "c  3  7  11\n",
       "a  1  5   9"
      ]
     },
     "execution_count": 6,
     "metadata": {},
     "output_type": "execute_result"
    }
   ],
   "source": [
    "df1.reindex(['b','d','c','a'])"
   ]
  },
  {
   "cell_type": "code",
   "execution_count": 7,
   "id": "4a279cca-bcdb-47e9-bb9a-da59a4a29e7a",
   "metadata": {},
   "outputs": [
    {
     "data": {
      "text/html": [
       "<div>\n",
       "<style scoped>\n",
       "    .dataframe tbody tr th:only-of-type {\n",
       "        vertical-align: middle;\n",
       "    }\n",
       "\n",
       "    .dataframe tbody tr th {\n",
       "        vertical-align: top;\n",
       "    }\n",
       "\n",
       "    .dataframe thead th {\n",
       "        text-align: right;\n",
       "    }\n",
       "</style>\n",
       "<table border=\"1\" class=\"dataframe\">\n",
       "  <thead>\n",
       "    <tr style=\"text-align: right;\">\n",
       "      <th></th>\n",
       "      <th>a</th>\n",
       "      <th>b</th>\n",
       "      <th>c</th>\n",
       "    </tr>\n",
       "  </thead>\n",
       "  <tbody>\n",
       "    <tr>\n",
       "      <th>a</th>\n",
       "      <td>1</td>\n",
       "      <td>5</td>\n",
       "      <td>9</td>\n",
       "    </tr>\n",
       "    <tr>\n",
       "      <th>b</th>\n",
       "      <td>2</td>\n",
       "      <td>6</td>\n",
       "      <td>10</td>\n",
       "    </tr>\n",
       "    <tr>\n",
       "      <th>c</th>\n",
       "      <td>3</td>\n",
       "      <td>7</td>\n",
       "      <td>11</td>\n",
       "    </tr>\n",
       "    <tr>\n",
       "      <th>d</th>\n",
       "      <td>4</td>\n",
       "      <td>8</td>\n",
       "      <td>12</td>\n",
       "    </tr>\n",
       "  </tbody>\n",
       "</table>\n",
       "</div>"
      ],
      "text/plain": [
       "   a  b   c\n",
       "a  1  5   9\n",
       "b  2  6  10\n",
       "c  3  7  11\n",
       "d  4  8  12"
      ]
     },
     "execution_count": 7,
     "metadata": {},
     "output_type": "execute_result"
    }
   ],
   "source": [
    "df1"
   ]
  },
  {
   "cell_type": "markdown",
   "id": "6e6948e8-db10-4051-8208-b60f32c7b6c8",
   "metadata": {},
   "source": [
    "Q3. You have a Pandas DataFrame df with a column named 'Values'. Write a Python function that\n",
    "iterates over the DataFrame and calculates the sum of the first three values in the 'Values' column. The\n",
    "function should print the sum to the console.\n",
    "\n",
    "For example, if the 'Values' column of df contains the values [10, 20, 30, 40, 50], your function should\n",
    "calculate and print the sum of the first three values, which is 60."
   ]
  },
  {
   "cell_type": "code",
   "execution_count": 88,
   "id": "c73ecf3f-33a7-477c-9a0c-d8655c78b6c1",
   "metadata": {},
   "outputs": [
    {
     "name": "stdout",
     "output_type": "stream",
     "text": [
      "The sum of first three values is the 'values' column is: {60}\n"
     ]
    }
   ],
   "source": [
    "def calculate_sum_of_first_three_values(df):\n",
    "    first_three_values= df['values'][:3]\n",
    "    sum_of_first_three_values = sum(first_three_values)\n",
    "    print(\"The sum of first three values is the 'values' column is: {60}\")\n",
    "df = pd.DataFrame({'values' : [10,20,30,40,50]})\n",
    "calculate_sum_of_first_three_values(df)"
   ]
  },
  {
   "cell_type": "code",
   "execution_count": null,
   "id": "b90acbdd-2e85-40fc-ba7f-471795e4f688",
   "metadata": {},
   "outputs": [],
   "source": []
  },
  {
   "cell_type": "markdown",
   "id": "eeb15814-2910-4c03-af9d-f5dbf7f2ba1f",
   "metadata": {},
   "source": [
    "Q4. Given a Pandas DataFrame df with a column 'Text', write a Python function to create a new column\n",
    "'Word_Count' that contains the number of words in each row of the 'Text' column."
   ]
  },
  {
   "cell_type": "code",
   "execution_count": 14,
   "id": "5d7cb4bc-0419-4a96-b3c7-c77dbe0fafff",
   "metadata": {},
   "outputs": [],
   "source": [
    "data = {\n",
    "'colors' : ['red', 'blue', 'yellow', 'pink', 'blue', 'black', 'white', 'red', 'pink'],\n",
    "'animals' : ['dog', 'cat', 'rabbit', 'cow', 'lion', 'cat', 'cow', 'lion', 'dog']\n",
    "}"
   ]
  },
  {
   "cell_type": "code",
   "execution_count": 17,
   "id": "45ea4ada-ccff-4118-9db0-623b98dff04e",
   "metadata": {},
   "outputs": [],
   "source": [
    "df = pd.DataFrame(data)"
   ]
  },
  {
   "cell_type": "code",
   "execution_count": 18,
   "id": "3ef13113-2e35-4b45-ab7b-b1c83e5a85db",
   "metadata": {},
   "outputs": [
    {
     "data": {
      "text/html": [
       "<div>\n",
       "<style scoped>\n",
       "    .dataframe tbody tr th:only-of-type {\n",
       "        vertical-align: middle;\n",
       "    }\n",
       "\n",
       "    .dataframe tbody tr th {\n",
       "        vertical-align: top;\n",
       "    }\n",
       "\n",
       "    .dataframe thead th {\n",
       "        text-align: right;\n",
       "    }\n",
       "</style>\n",
       "<table border=\"1\" class=\"dataframe\">\n",
       "  <thead>\n",
       "    <tr style=\"text-align: right;\">\n",
       "      <th></th>\n",
       "      <th>colors</th>\n",
       "      <th>animals</th>\n",
       "    </tr>\n",
       "  </thead>\n",
       "  <tbody>\n",
       "    <tr>\n",
       "      <th>0</th>\n",
       "      <td>red</td>\n",
       "      <td>dog</td>\n",
       "    </tr>\n",
       "    <tr>\n",
       "      <th>1</th>\n",
       "      <td>blue</td>\n",
       "      <td>cat</td>\n",
       "    </tr>\n",
       "    <tr>\n",
       "      <th>2</th>\n",
       "      <td>yellow</td>\n",
       "      <td>rabbit</td>\n",
       "    </tr>\n",
       "    <tr>\n",
       "      <th>3</th>\n",
       "      <td>pink</td>\n",
       "      <td>cow</td>\n",
       "    </tr>\n",
       "    <tr>\n",
       "      <th>4</th>\n",
       "      <td>blue</td>\n",
       "      <td>lion</td>\n",
       "    </tr>\n",
       "    <tr>\n",
       "      <th>5</th>\n",
       "      <td>black</td>\n",
       "      <td>cat</td>\n",
       "    </tr>\n",
       "    <tr>\n",
       "      <th>6</th>\n",
       "      <td>white</td>\n",
       "      <td>cow</td>\n",
       "    </tr>\n",
       "    <tr>\n",
       "      <th>7</th>\n",
       "      <td>red</td>\n",
       "      <td>lion</td>\n",
       "    </tr>\n",
       "    <tr>\n",
       "      <th>8</th>\n",
       "      <td>pink</td>\n",
       "      <td>dog</td>\n",
       "    </tr>\n",
       "  </tbody>\n",
       "</table>\n",
       "</div>"
      ],
      "text/plain": [
       "   colors animals\n",
       "0     red     dog\n",
       "1    blue     cat\n",
       "2  yellow  rabbit\n",
       "3    pink     cow\n",
       "4    blue    lion\n",
       "5   black     cat\n",
       "6   white     cow\n",
       "7     red    lion\n",
       "8    pink     dog"
      ]
     },
     "execution_count": 18,
     "metadata": {},
     "output_type": "execute_result"
    }
   ],
   "source": [
    "df"
   ]
  },
  {
   "cell_type": "code",
   "execution_count": 19,
   "id": "6acc52c1-766e-44cc-80ad-645eeda41f4c",
   "metadata": {},
   "outputs": [],
   "source": [
    "df['World_Count'] = 0"
   ]
  },
  {
   "cell_type": "code",
   "execution_count": 20,
   "id": "23391153-6439-4406-988e-cfe64d4cf144",
   "metadata": {},
   "outputs": [
    {
     "data": {
      "text/html": [
       "<div>\n",
       "<style scoped>\n",
       "    .dataframe tbody tr th:only-of-type {\n",
       "        vertical-align: middle;\n",
       "    }\n",
       "\n",
       "    .dataframe tbody tr th {\n",
       "        vertical-align: top;\n",
       "    }\n",
       "\n",
       "    .dataframe thead th {\n",
       "        text-align: right;\n",
       "    }\n",
       "</style>\n",
       "<table border=\"1\" class=\"dataframe\">\n",
       "  <thead>\n",
       "    <tr style=\"text-align: right;\">\n",
       "      <th></th>\n",
       "      <th>colors</th>\n",
       "      <th>animals</th>\n",
       "      <th>World_Count</th>\n",
       "    </tr>\n",
       "  </thead>\n",
       "  <tbody>\n",
       "    <tr>\n",
       "      <th>0</th>\n",
       "      <td>red</td>\n",
       "      <td>dog</td>\n",
       "      <td>0</td>\n",
       "    </tr>\n",
       "    <tr>\n",
       "      <th>1</th>\n",
       "      <td>blue</td>\n",
       "      <td>cat</td>\n",
       "      <td>0</td>\n",
       "    </tr>\n",
       "    <tr>\n",
       "      <th>2</th>\n",
       "      <td>yellow</td>\n",
       "      <td>rabbit</td>\n",
       "      <td>0</td>\n",
       "    </tr>\n",
       "    <tr>\n",
       "      <th>3</th>\n",
       "      <td>pink</td>\n",
       "      <td>cow</td>\n",
       "      <td>0</td>\n",
       "    </tr>\n",
       "    <tr>\n",
       "      <th>4</th>\n",
       "      <td>blue</td>\n",
       "      <td>lion</td>\n",
       "      <td>0</td>\n",
       "    </tr>\n",
       "    <tr>\n",
       "      <th>5</th>\n",
       "      <td>black</td>\n",
       "      <td>cat</td>\n",
       "      <td>0</td>\n",
       "    </tr>\n",
       "    <tr>\n",
       "      <th>6</th>\n",
       "      <td>white</td>\n",
       "      <td>cow</td>\n",
       "      <td>0</td>\n",
       "    </tr>\n",
       "    <tr>\n",
       "      <th>7</th>\n",
       "      <td>red</td>\n",
       "      <td>lion</td>\n",
       "      <td>0</td>\n",
       "    </tr>\n",
       "    <tr>\n",
       "      <th>8</th>\n",
       "      <td>pink</td>\n",
       "      <td>dog</td>\n",
       "      <td>0</td>\n",
       "    </tr>\n",
       "  </tbody>\n",
       "</table>\n",
       "</div>"
      ],
      "text/plain": [
       "   colors animals  World_Count\n",
       "0     red     dog            0\n",
       "1    blue     cat            0\n",
       "2  yellow  rabbit            0\n",
       "3    pink     cow            0\n",
       "4    blue    lion            0\n",
       "5   black     cat            0\n",
       "6   white     cow            0\n",
       "7     red    lion            0\n",
       "8    pink     dog            0"
      ]
     },
     "execution_count": 20,
     "metadata": {},
     "output_type": "execute_result"
    }
   ],
   "source": [
    "df"
   ]
  },
  {
   "cell_type": "code",
   "execution_count": null,
   "id": "3b25e6dd-dd16-4b5d-9590-43f3c8f838c9",
   "metadata": {},
   "outputs": [],
   "source": []
  },
  {
   "cell_type": "markdown",
   "id": "b18c7156-24f4-497a-a563-fb9daa1903e9",
   "metadata": {},
   "source": [
    "Q5. How are DataFrame.size() and DataFrame.shape() different?"
   ]
  },
  {
   "cell_type": "markdown",
   "id": "266f46d0-aab6-48a4-966e-5711cc5fd715",
   "metadata": {},
   "source": [
    "The size property is used to get an int representing the number of elements in this object and Return the number of rows \n",
    "if Series.\n",
    "The shape property is used to get a tuple representing the dimensionality of the Pandas DataFrame.\n"
   ]
  },
  {
   "cell_type": "code",
   "execution_count": null,
   "id": "0e313f1c-5776-4d02-b7c3-24a6bb8a3d3c",
   "metadata": {},
   "outputs": [],
   "source": []
  },
  {
   "cell_type": "markdown",
   "id": "20bf45e6-52ac-43c3-8d72-2470ed52c838",
   "metadata": {},
   "source": [
    "Q6. Which function of pandas do we use to read an excel file?"
   ]
  },
  {
   "cell_type": "markdown",
   "id": "e1e7b61b-96dd-4ace-a25e-bb301a01666a",
   "metadata": {},
   "source": [
    "We can use the pandas module read_excel() function to read the excel file data into a DataFrame object. "
   ]
  },
  {
   "cell_type": "code",
   "execution_count": 1,
   "id": "88403e7f-8eae-435f-9c2e-6c3651d3cae5",
   "metadata": {},
   "outputs": [],
   "source": [
    "import pandas as pd"
   ]
  },
  {
   "cell_type": "code",
   "execution_count": 3,
   "id": "411306a0-38ae-425e-adae-ef621c23a6b6",
   "metadata": {},
   "outputs": [],
   "source": [
    "df = pd.read_excel(\"DayBook.xlsx\")"
   ]
  },
  {
   "cell_type": "code",
   "execution_count": 4,
   "id": "5febbdc5-e1d1-4649-aa5e-66531d909258",
   "metadata": {},
   "outputs": [
    {
     "data": {
      "text/html": [
       "<div>\n",
       "<style scoped>\n",
       "    .dataframe tbody tr th:only-of-type {\n",
       "        vertical-align: middle;\n",
       "    }\n",
       "\n",
       "    .dataframe tbody tr th {\n",
       "        vertical-align: top;\n",
       "    }\n",
       "\n",
       "    .dataframe thead th {\n",
       "        text-align: right;\n",
       "    }\n",
       "</style>\n",
       "<table border=\"1\" class=\"dataframe\">\n",
       "  <thead>\n",
       "    <tr style=\"text-align: right;\">\n",
       "      <th></th>\n",
       "      <th>Xyz</th>\n",
       "      <th>Unnamed: 1</th>\n",
       "      <th>Unnamed: 2</th>\n",
       "      <th>Unnamed: 3</th>\n",
       "      <th>Unnamed: 4</th>\n",
       "      <th>Unnamed: 5</th>\n",
       "    </tr>\n",
       "  </thead>\n",
       "  <tbody>\n",
       "    <tr>\n",
       "      <th>0</th>\n",
       "      <td>Day Book</td>\n",
       "      <td>NaN</td>\n",
       "      <td>NaN</td>\n",
       "      <td>NaN</td>\n",
       "      <td>NaN</td>\n",
       "      <td>NaN</td>\n",
       "    </tr>\n",
       "    <tr>\n",
       "      <th>1</th>\n",
       "      <td>For 1-Apr-22</td>\n",
       "      <td>NaN</td>\n",
       "      <td>NaN</td>\n",
       "      <td>NaN</td>\n",
       "      <td>NaN</td>\n",
       "      <td>NaN</td>\n",
       "    </tr>\n",
       "    <tr>\n",
       "      <th>2</th>\n",
       "      <td>Date</td>\n",
       "      <td>Particulars</td>\n",
       "      <td>Vch Type</td>\n",
       "      <td>Vch No.</td>\n",
       "      <td>Debit</td>\n",
       "      <td>Credit</td>\n",
       "    </tr>\n",
       "    <tr>\n",
       "      <th>3</th>\n",
       "      <td>NaN</td>\n",
       "      <td>NaN</td>\n",
       "      <td>NaN</td>\n",
       "      <td>NaN</td>\n",
       "      <td>Amount</td>\n",
       "      <td>Amount</td>\n",
       "    </tr>\n",
       "    <tr>\n",
       "      <th>4</th>\n",
       "      <td>2022-04-01 00:00:00</td>\n",
       "      <td>Cash</td>\n",
       "      <td>Contra</td>\n",
       "      <td>1</td>\n",
       "      <td>NaN</td>\n",
       "      <td>100000</td>\n",
       "    </tr>\n",
       "    <tr>\n",
       "      <th>5</th>\n",
       "      <td>2022-04-01 00:00:00</td>\n",
       "      <td>Cash</td>\n",
       "      <td>Contra</td>\n",
       "      <td>2</td>\n",
       "      <td>NaN</td>\n",
       "      <td>50000</td>\n",
       "    </tr>\n",
       "    <tr>\n",
       "      <th>6</th>\n",
       "      <td>2022-04-01 00:00:00</td>\n",
       "      <td>Computer Ac</td>\n",
       "      <td>Payment</td>\n",
       "      <td>1</td>\n",
       "      <td>22500</td>\n",
       "      <td>NaN</td>\n",
       "    </tr>\n",
       "    <tr>\n",
       "      <th>7</th>\n",
       "      <td>2022-04-01 00:00:00</td>\n",
       "      <td>Security Deposit Office</td>\n",
       "      <td>Payment</td>\n",
       "      <td>2</td>\n",
       "      <td>25000</td>\n",
       "      <td>NaN</td>\n",
       "    </tr>\n",
       "    <tr>\n",
       "      <th>8</th>\n",
       "      <td>2022-04-01 00:00:00</td>\n",
       "      <td>Cell Phone</td>\n",
       "      <td>Payment</td>\n",
       "      <td>3</td>\n",
       "      <td>6000</td>\n",
       "      <td>NaN</td>\n",
       "    </tr>\n",
       "    <tr>\n",
       "      <th>9</th>\n",
       "      <td>2022-04-01 00:00:00</td>\n",
       "      <td>Security Deposit Mobile</td>\n",
       "      <td>Payment</td>\n",
       "      <td>4</td>\n",
       "      <td>3000</td>\n",
       "      <td>NaN</td>\n",
       "    </tr>\n",
       "    <tr>\n",
       "      <th>10</th>\n",
       "      <td>2022-04-01 00:00:00</td>\n",
       "      <td>Withdrawl</td>\n",
       "      <td>Payment</td>\n",
       "      <td>5</td>\n",
       "      <td>7500</td>\n",
       "      <td>NaN</td>\n",
       "    </tr>\n",
       "    <tr>\n",
       "      <th>11</th>\n",
       "      <td>2022-04-01 00:00:00</td>\n",
       "      <td>Office Maintance</td>\n",
       "      <td>Payment</td>\n",
       "      <td>6</td>\n",
       "      <td>750</td>\n",
       "      <td>NaN</td>\n",
       "    </tr>\n",
       "    <tr>\n",
       "      <th>12</th>\n",
       "      <td>2022-04-01 00:00:00</td>\n",
       "      <td>Arpit Kumar Verma</td>\n",
       "      <td>Receipt</td>\n",
       "      <td>1</td>\n",
       "      <td>NaN</td>\n",
       "      <td>300000</td>\n",
       "    </tr>\n",
       "    <tr>\n",
       "      <th>13</th>\n",
       "      <td>2022-04-01 00:00:00</td>\n",
       "      <td>Adv Consultancy Sevice</td>\n",
       "      <td>Receipt</td>\n",
       "      <td>2</td>\n",
       "      <td>NaN</td>\n",
       "      <td>25000</td>\n",
       "    </tr>\n",
       "    <tr>\n",
       "      <th>14</th>\n",
       "      <td>2022-04-01 00:00:00</td>\n",
       "      <td>Stationary Expns</td>\n",
       "      <td>Journal</td>\n",
       "      <td>1</td>\n",
       "      <td>12500</td>\n",
       "      <td>NaN</td>\n",
       "    </tr>\n",
       "    <tr>\n",
       "      <th>15</th>\n",
       "      <td>2022-04-01 00:00:00</td>\n",
       "      <td>Stationary Expns</td>\n",
       "      <td>Journal</td>\n",
       "      <td>2</td>\n",
       "      <td>6000</td>\n",
       "      <td>NaN</td>\n",
       "    </tr>\n",
       "  </tbody>\n",
       "</table>\n",
       "</div>"
      ],
      "text/plain": [
       "                    Xyz               Unnamed: 1 Unnamed: 2 Unnamed: 3  \\\n",
       "0              Day Book                      NaN        NaN        NaN   \n",
       "1          For 1-Apr-22                      NaN        NaN        NaN   \n",
       "2                  Date              Particulars   Vch Type    Vch No.   \n",
       "3                   NaN                      NaN        NaN        NaN   \n",
       "4   2022-04-01 00:00:00                     Cash     Contra          1   \n",
       "5   2022-04-01 00:00:00                     Cash     Contra          2   \n",
       "6   2022-04-01 00:00:00              Computer Ac    Payment          1   \n",
       "7   2022-04-01 00:00:00  Security Deposit Office    Payment          2   \n",
       "8   2022-04-01 00:00:00               Cell Phone    Payment          3   \n",
       "9   2022-04-01 00:00:00  Security Deposit Mobile    Payment          4   \n",
       "10  2022-04-01 00:00:00                Withdrawl    Payment          5   \n",
       "11  2022-04-01 00:00:00         Office Maintance    Payment          6   \n",
       "12  2022-04-01 00:00:00        Arpit Kumar Verma    Receipt          1   \n",
       "13  2022-04-01 00:00:00   Adv Consultancy Sevice    Receipt          2   \n",
       "14  2022-04-01 00:00:00         Stationary Expns    Journal          1   \n",
       "15  2022-04-01 00:00:00         Stationary Expns    Journal          2   \n",
       "\n",
       "   Unnamed: 4 Unnamed: 5  \n",
       "0         NaN        NaN  \n",
       "1         NaN        NaN  \n",
       "2       Debit     Credit  \n",
       "3      Amount     Amount  \n",
       "4         NaN     100000  \n",
       "5         NaN      50000  \n",
       "6       22500        NaN  \n",
       "7       25000        NaN  \n",
       "8        6000        NaN  \n",
       "9        3000        NaN  \n",
       "10       7500        NaN  \n",
       "11        750        NaN  \n",
       "12        NaN     300000  \n",
       "13        NaN      25000  \n",
       "14      12500        NaN  \n",
       "15       6000        NaN  "
      ]
     },
     "execution_count": 4,
     "metadata": {},
     "output_type": "execute_result"
    }
   ],
   "source": [
    "df"
   ]
  },
  {
   "cell_type": "markdown",
   "id": "6ac320d0-d8d0-4ff4-9332-6e83db372981",
   "metadata": {},
   "source": [
    "Q7. You have a Pandas DataFrame df that contains a column named 'Email' that contains email\n",
    "addresses in the format 'username@domain.com'. Write a Python function that creates a new column\n",
    "'Username' in df that contains only the username part of each email address.\n",
    "\n",
    "The username is the part of the email address that appears before the '@' symbol. For example, if the\n",
    "email address is 'john.doe@example.com', the 'Username' column should contain 'john.doe'. Your\n",
    "function should extract the username from each email address and store it in the new 'Username'\n",
    "column."
   ]
  },
  {
   "cell_type": "code",
   "execution_count": 64,
   "id": "1ab2213b-846e-4957-b75c-901349e28f63",
   "metadata": {},
   "outputs": [],
   "source": [
    "data = { 'Email_adds' : ['username@domain.com']\n",
    "       }"
   ]
  },
  {
   "cell_type": "code",
   "execution_count": 66,
   "id": "1cd06053-a9e1-43ea-bb2b-d9eea34bfdc3",
   "metadata": {},
   "outputs": [],
   "source": [
    "df =pd.DataFrame(data)"
   ]
  },
  {
   "cell_type": "code",
   "execution_count": 67,
   "id": "c4ff6c97-853a-4597-a0d4-1619abca7299",
   "metadata": {},
   "outputs": [],
   "source": [
    "df['username'] = 'john.doe@example.com'"
   ]
  },
  {
   "cell_type": "code",
   "execution_count": 68,
   "id": "aca42a48-c609-43fd-90a9-d84b7b8d84ec",
   "metadata": {},
   "outputs": [
    {
     "data": {
      "text/html": [
       "<div>\n",
       "<style scoped>\n",
       "    .dataframe tbody tr th:only-of-type {\n",
       "        vertical-align: middle;\n",
       "    }\n",
       "\n",
       "    .dataframe tbody tr th {\n",
       "        vertical-align: top;\n",
       "    }\n",
       "\n",
       "    .dataframe thead th {\n",
       "        text-align: right;\n",
       "    }\n",
       "</style>\n",
       "<table border=\"1\" class=\"dataframe\">\n",
       "  <thead>\n",
       "    <tr style=\"text-align: right;\">\n",
       "      <th></th>\n",
       "      <th>Email_adds</th>\n",
       "      <th>username</th>\n",
       "    </tr>\n",
       "  </thead>\n",
       "  <tbody>\n",
       "    <tr>\n",
       "      <th>0</th>\n",
       "      <td>username@domain.com</td>\n",
       "      <td>john.doe@example.com</td>\n",
       "    </tr>\n",
       "  </tbody>\n",
       "</table>\n",
       "</div>"
      ],
      "text/plain": [
       "            Email_adds              username\n",
       "0  username@domain.com  john.doe@example.com"
      ]
     },
     "execution_count": 68,
     "metadata": {},
     "output_type": "execute_result"
    }
   ],
   "source": [
    "df"
   ]
  },
  {
   "cell_type": "markdown",
   "id": "7f5ce915-8244-42b4-88ab-50ca0662674a",
   "metadata": {},
   "source": [
    "Q8. You have a Pandas DataFrame df with columns 'A', 'B', and 'C'. Write a Python function that selects\n",
    "all rows where the value in column 'A' is greater than 5 and the value in column 'B' is less than 10. The\n",
    "function should return a new DataFrame that contains only the selected rows.\n",
    "For example, if df contains the following values:\n",
    "A B C\n",
    "0 3 5 1\n",
    "1 8 2 7\n",
    "2 6 9 4\n",
    "3 2 3 5\n",
    "4 9 1 2\n",
    "Your function should select the following rows: A B C\n",
    "1 8 2 7\n",
    "4 9 1 2\n",
    "The function should return a new DataFrame that contains only the selected rows."
   ]
  },
  {
   "cell_type": "code",
   "execution_count": 61,
   "id": "1d8263f0-0385-4be4-9419-b0bb76050ad7",
   "metadata": {},
   "outputs": [
    {
     "name": "stdout",
     "output_type": "stream",
     "text": [
      "   A  B  C\n",
      "1  8  2  2\n",
      "2  6  9  8\n"
     ]
    }
   ],
   "source": [
    "import pandas as pd\n",
    "def rows(df):\n",
    "    mask = (df['A'] > 5) & (df['B'] <10)\n",
    "    row = df[mask]\n",
    "    return row\n",
    "df = pd.DataFrame({'A' :[3,8,6,2,4,9], 'B' :[5,2,9,11,15,10], 'C' :[1,2,8,2,9,8] })\n",
    "row = rows(df)\n",
    "print(row)"
   ]
  },
  {
   "cell_type": "markdown",
   "id": "00da6999-a803-419c-8401-66a25fabfa58",
   "metadata": {},
   "source": [
    "Q9. Given a Pandas DataFrame df with a column 'Values', write a Python function to calculate the mean,\n",
    "median, and standard deviation of the values in the 'Values' column."
   ]
  },
  {
   "cell_type": "code",
   "execution_count": 15,
   "id": "9876fb75-f036-48c1-824b-b4ce3ef97fc8",
   "metadata": {},
   "outputs": [],
   "source": [
    "data = {'Name': ['mrs' , 'mr' , 'malhotra' , 'jha'],\n",
    "        'Age' :[20 , 40 ,30 , 35],\n",
    "        'Grade': [88 , 90 ,95, 55]\n",
    "       }"
   ]
  },
  {
   "cell_type": "code",
   "execution_count": 16,
   "id": "871c45b4-8110-4175-9a14-2125a0f9bfbf",
   "metadata": {},
   "outputs": [],
   "source": [
    "df =pd.DataFrame(data , index =['mrs' , 'mr' , 'malhotra' , 'jha'] )"
   ]
  },
  {
   "cell_type": "code",
   "execution_count": 17,
   "id": "7338580d-ed9f-488c-a209-8dd7ab6bce5b",
   "metadata": {},
   "outputs": [
    {
     "data": {
      "text/html": [
       "<div>\n",
       "<style scoped>\n",
       "    .dataframe tbody tr th:only-of-type {\n",
       "        vertical-align: middle;\n",
       "    }\n",
       "\n",
       "    .dataframe tbody tr th {\n",
       "        vertical-align: top;\n",
       "    }\n",
       "\n",
       "    .dataframe thead th {\n",
       "        text-align: right;\n",
       "    }\n",
       "</style>\n",
       "<table border=\"1\" class=\"dataframe\">\n",
       "  <thead>\n",
       "    <tr style=\"text-align: right;\">\n",
       "      <th></th>\n",
       "      <th>Name</th>\n",
       "      <th>Age</th>\n",
       "      <th>Grade</th>\n",
       "    </tr>\n",
       "  </thead>\n",
       "  <tbody>\n",
       "    <tr>\n",
       "      <th>mrs</th>\n",
       "      <td>mrs</td>\n",
       "      <td>20</td>\n",
       "      <td>88</td>\n",
       "    </tr>\n",
       "    <tr>\n",
       "      <th>mr</th>\n",
       "      <td>mr</td>\n",
       "      <td>40</td>\n",
       "      <td>90</td>\n",
       "    </tr>\n",
       "    <tr>\n",
       "      <th>malhotra</th>\n",
       "      <td>malhotra</td>\n",
       "      <td>30</td>\n",
       "      <td>95</td>\n",
       "    </tr>\n",
       "    <tr>\n",
       "      <th>jha</th>\n",
       "      <td>jha</td>\n",
       "      <td>35</td>\n",
       "      <td>55</td>\n",
       "    </tr>\n",
       "  </tbody>\n",
       "</table>\n",
       "</div>"
      ],
      "text/plain": [
       "              Name  Age  Grade\n",
       "mrs            mrs   20     88\n",
       "mr              mr   40     90\n",
       "malhotra  malhotra   30     95\n",
       "jha            jha   35     55"
      ]
     },
     "execution_count": 17,
     "metadata": {},
     "output_type": "execute_result"
    }
   ],
   "source": [
    "df"
   ]
  },
  {
   "cell_type": "code",
   "execution_count": 18,
   "id": "3b82bbc2-eb0a-41e5-bff1-987b23716c22",
   "metadata": {},
   "outputs": [
    {
     "data": {
      "text/plain": [
       "82.0"
      ]
     },
     "execution_count": 18,
     "metadata": {},
     "output_type": "execute_result"
    }
   ],
   "source": [
    "df['Grade'].mean()"
   ]
  },
  {
   "cell_type": "code",
   "execution_count": 19,
   "id": "8af068ed-24fd-42b5-b3d0-babe8483a797",
   "metadata": {},
   "outputs": [
    {
     "data": {
      "text/plain": [
       "89.0"
      ]
     },
     "execution_count": 19,
     "metadata": {},
     "output_type": "execute_result"
    }
   ],
   "source": [
    "df['Grade'].median()"
   ]
  },
  {
   "cell_type": "markdown",
   "id": "5b959bc3-aa3f-47c6-bd2b-a47c808f0d08",
   "metadata": {},
   "source": [
    "Q10. Given a Pandas DataFrame df with a column 'Sales' and a column 'Date', write a Python function to\n",
    "create a new column 'MovingAverage' that contains the moving average of the sales for the past 7 days\n",
    "for each row in the DataFrame. The moving average should be calculated using a window of size 7 and\n",
    "should include the current day."
   ]
  },
  {
   "cell_type": "code",
   "execution_count": 53,
   "id": "bd8d4c1b-d2ac-41f0-a63a-e1dfb436485f",
   "metadata": {},
   "outputs": [],
   "source": [
    "import pandas as pd"
   ]
  },
  {
   "cell_type": "code",
   "execution_count": 54,
   "id": "5cf6b99a-55e8-45d3-b9f7-ba1a713d5bda",
   "metadata": {},
   "outputs": [
    {
     "name": "stdout",
     "output_type": "stream",
     "text": [
      "        Date  sales  Moving Average\n",
      "0 2023-04-01     10       10.000000\n",
      "1 2023-04-02     20       15.000000\n",
      "2 2023-04-03     30       20.000000\n",
      "3 2023-04-04     40       25.000000\n",
      "4 2023-04-05     50       30.000000\n",
      "5 2023-04-06     70       36.666667\n",
      "6 2023-04-07     80       42.857143\n",
      "7 2023-04-08     90       54.285714\n",
      "8 2023-04-09    100       65.714286\n",
      "9 2023-04-10    110       77.142857\n"
     ]
    }
   ],
   "source": [
    "def moving_average(df):\n",
    "    df['Moving Average'] = df['sales'].rolling(window=7 , min_periods =1).mean()\n",
    "    return df\n",
    "df = pd.DataFrame({'Date' : pd.date_range('20230401' , periods=10),\n",
    "                   'sales' : [10,20,30,40,50,70,80,90,100,110]})\n",
    "df = moving_average(df)\n",
    "print(df)"
   ]
  },
  {
   "cell_type": "code",
   "execution_count": null,
   "id": "da493a7e-9925-4faf-87c3-e0532b211f5a",
   "metadata": {},
   "outputs": [],
   "source": []
  },
  {
   "cell_type": "markdown",
   "id": "08722a8f-973d-40a1-bc17-c0b927220eb5",
   "metadata": {},
   "source": [
    "Q11. You have a Pandas DataFrame df with a column 'Date'. Write a Python function that creates a new\n",
    "column 'Weekday' in the DataFrame. The 'Weekday' column should contain the weekday name (e.g.\n",
    "Monday, Tuesday) corresponding to each date in the 'Date' column.\n",
    "For example, if df contains the following values:\n",
    "Date\n",
    "0 2023-01-01\n",
    "1 2023-01-02\n",
    "2 2023-01-03\n",
    "3 2023-01-04\n",
    "4 2023-01-05\n",
    "Your function should create the following DataFrame:\n",
    "    Date Weekday\n",
    "0 2023-01-01 Sunday\n",
    "1 2023-01-02 Monday\n",
    "2 2023-01-03 Tuesday\n",
    "3 2023-01-04 Wednesday\n",
    "4 2023-01-05 Thursday\n",
    "The function should return the modified DataFrame."
   ]
  },
  {
   "cell_type": "code",
   "execution_count": 44,
   "id": "24ec6270-ff07-41ce-ad9c-1d38600e5641",
   "metadata": {},
   "outputs": [],
   "source": [
    "data1 = {\"Date\" :[2023-1-1 , 2023-1-2 , 2023-1-3 , 2023-1-4 , 2023-1-5]\n",
    "        }\n",
    "         "
   ]
  },
  {
   "cell_type": "code",
   "execution_count": 45,
   "id": "f0aa6bf6-e285-4708-a193-088bf2b3e210",
   "metadata": {},
   "outputs": [],
   "source": [
    "df = pd.DataFrame(data1)"
   ]
  },
  {
   "cell_type": "code",
   "execution_count": 40,
   "id": "952686a2-16fc-403b-9501-48e8f481f525",
   "metadata": {},
   "outputs": [],
   "source": [
    "df['Weekday'] = 0"
   ]
  },
  {
   "cell_type": "code",
   "execution_count": 46,
   "id": "f17a28a5-2b3c-4e10-9f02-f0218306629b",
   "metadata": {},
   "outputs": [],
   "source": [
    "df['Weekday'] = ['Sunday' , 'Monday' ,'Tuesday' ,'Wednesday' ,'Thursday']"
   ]
  },
  {
   "cell_type": "code",
   "execution_count": 47,
   "id": "a9bfe560-14d1-4608-9372-3384e89ac33c",
   "metadata": {},
   "outputs": [
    {
     "data": {
      "text/html": [
       "<div>\n",
       "<style scoped>\n",
       "    .dataframe tbody tr th:only-of-type {\n",
       "        vertical-align: middle;\n",
       "    }\n",
       "\n",
       "    .dataframe tbody tr th {\n",
       "        vertical-align: top;\n",
       "    }\n",
       "\n",
       "    .dataframe thead th {\n",
       "        text-align: right;\n",
       "    }\n",
       "</style>\n",
       "<table border=\"1\" class=\"dataframe\">\n",
       "  <thead>\n",
       "    <tr style=\"text-align: right;\">\n",
       "      <th></th>\n",
       "      <th>Date</th>\n",
       "      <th>Weekday</th>\n",
       "    </tr>\n",
       "  </thead>\n",
       "  <tbody>\n",
       "    <tr>\n",
       "      <th>0</th>\n",
       "      <td>2021</td>\n",
       "      <td>Sunday</td>\n",
       "    </tr>\n",
       "    <tr>\n",
       "      <th>1</th>\n",
       "      <td>2020</td>\n",
       "      <td>Monday</td>\n",
       "    </tr>\n",
       "    <tr>\n",
       "      <th>2</th>\n",
       "      <td>2019</td>\n",
       "      <td>Tuesday</td>\n",
       "    </tr>\n",
       "    <tr>\n",
       "      <th>3</th>\n",
       "      <td>2018</td>\n",
       "      <td>Wednesday</td>\n",
       "    </tr>\n",
       "    <tr>\n",
       "      <th>4</th>\n",
       "      <td>2017</td>\n",
       "      <td>Thursday</td>\n",
       "    </tr>\n",
       "  </tbody>\n",
       "</table>\n",
       "</div>"
      ],
      "text/plain": [
       "   Date    Weekday\n",
       "0  2021     Sunday\n",
       "1  2020     Monday\n",
       "2  2019    Tuesday\n",
       "3  2018  Wednesday\n",
       "4  2017   Thursday"
      ]
     },
     "execution_count": 47,
     "metadata": {},
     "output_type": "execute_result"
    }
   ],
   "source": [
    "df"
   ]
  },
  {
   "cell_type": "code",
   "execution_count": null,
   "id": "bf83a12c-63a2-4188-819e-e3f0bfb867bd",
   "metadata": {},
   "outputs": [],
   "source": []
  },
  {
   "cell_type": "markdown",
   "id": "c179e067-d5e3-4428-929c-3aca428f2aaa",
   "metadata": {},
   "source": [
    "Q12. Given a Pandas DataFrame df with a column 'Date' that contains timestamps, write a Python\n",
    "function to select all rows where the date is between '2023-01-01' and '2023-01-31'."
   ]
  },
  {
   "cell_type": "code",
   "execution_count": 48,
   "id": "b9e31f2e-a29d-46f5-9eee-6846e9d9d52b",
   "metadata": {},
   "outputs": [],
   "source": [
    "date = pd.date_range(start='2023-01-01' , end = '2023-01-31')"
   ]
  },
  {
   "cell_type": "code",
   "execution_count": 49,
   "id": "c65fce02-3c41-4665-9397-44431b39db14",
   "metadata": {},
   "outputs": [
    {
     "data": {
      "text/plain": [
       "DatetimeIndex(['2023-01-01', '2023-01-02', '2023-01-03', '2023-01-04',\n",
       "               '2023-01-05', '2023-01-06', '2023-01-07', '2023-01-08',\n",
       "               '2023-01-09', '2023-01-10', '2023-01-11', '2023-01-12',\n",
       "               '2023-01-13', '2023-01-14', '2023-01-15', '2023-01-16',\n",
       "               '2023-01-17', '2023-01-18', '2023-01-19', '2023-01-20',\n",
       "               '2023-01-21', '2023-01-22', '2023-01-23', '2023-01-24',\n",
       "               '2023-01-25', '2023-01-26', '2023-01-27', '2023-01-28',\n",
       "               '2023-01-29', '2023-01-30', '2023-01-31'],\n",
       "              dtype='datetime64[ns]', freq='D')"
      ]
     },
     "execution_count": 49,
     "metadata": {},
     "output_type": "execute_result"
    }
   ],
   "source": [
    "date"
   ]
  },
  {
   "cell_type": "markdown",
   "id": "570baf69-6342-4f85-9862-c58ce609729e",
   "metadata": {},
   "source": [
    "Q13. To use the basic functions of pandas, what is the first and foremost necessary library that needs to\n",
    "be imported?"
   ]
  },
  {
   "cell_type": "markdown",
   "id": "6da9318f-2baa-4c1c-a152-fa631624f73c",
   "metadata": {},
   "source": [
    "The first() method returns the first n rows, based on the specified value,\n",
    "Pandas is built on top of two core Python libraries—matplotlib for data visualization and NumPy \n",
    "for mathematical operations. "
   ]
  },
  {
   "cell_type": "code",
   "execution_count": null,
   "id": "b2f2e6cd-4e16-4ee6-b72c-d72113300c16",
   "metadata": {},
   "outputs": [],
   "source": []
  }
 ],
 "metadata": {
  "kernelspec": {
   "display_name": "Python 3 (ipykernel)",
   "language": "python",
   "name": "python3"
  },
  "language_info": {
   "codemirror_mode": {
    "name": "ipython",
    "version": 3
   },
   "file_extension": ".py",
   "mimetype": "text/x-python",
   "name": "python",
   "nbconvert_exporter": "python",
   "pygments_lexer": "ipython3",
   "version": "3.10.8"
  }
 },
 "nbformat": 4,
 "nbformat_minor": 5
}
