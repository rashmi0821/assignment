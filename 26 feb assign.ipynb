{
 "cells": [
  {
   "cell_type": "markdown",
   "id": "6aa4ef6f-c4a6-4069-ac60-ec8cd7790213",
   "metadata": {},
   "source": [
    "Q1. Is there any difference in the data type of variables list_ and array_list? If there is then write a code\n",
    "to print the data types of both the variables."
   ]
  },
  {
   "cell_type": "code",
   "execution_count": 3,
   "id": "168f28e7-41f1-4744-b825-37483557b2f6",
   "metadata": {},
   "outputs": [],
   "source": [
    "import numpy as np\n",
    "list_ = ['1','2','3','4','5' ]"
   ]
  },
  {
   "cell_type": "code",
   "execution_count": 4,
   "id": "7a577f4f-74d2-44aa-86dc-9630cf0db089",
   "metadata": {},
   "outputs": [],
   "source": [
    "array_list = np.array(object = list_)"
   ]
  },
  {
   "cell_type": "code",
   "execution_count": 5,
   "id": "5344c66c-7500-4c30-82fb-05a04e08f761",
   "metadata": {},
   "outputs": [
    {
     "name": "stdout",
     "output_type": "stream",
     "text": [
      "data type of list_: <class 'str'>\n",
      "data type of array_list: <U1\n"
     ]
    }
   ],
   "source": [
    "print(\"data type of list_:\" ,type(list_[0]))\n",
    "print(\"data type of array_list:\", array_list.dtype)"
   ]
  },
  {
   "cell_type": "markdown",
   "id": "73c4963f-16ad-4c2a-addd-f05eba6a1134",
   "metadata": {},
   "source": [
    "Q2. Write a code to print the data type of each and every element of both the variables list_ and\n",
    "arra_list."
   ]
  },
  {
   "cell_type": "code",
   "execution_count": 6,
   "id": "19437cce-52d5-4ad3-9401-b27cf43125a6",
   "metadata": {},
   "outputs": [
    {
     "name": "stdout",
     "output_type": "stream",
     "text": [
      "data type of element in lit_:\n",
      "<class 'str'>\n",
      "<class 'str'>\n",
      "<class 'str'>\n",
      "<class 'str'>\n",
      "<class 'str'>\n",
      "data type of element in list\n",
      "<class 'numpy.str_'>\n",
      "<class 'numpy.str_'>\n",
      "<class 'numpy.str_'>\n",
      "<class 'numpy.str_'>\n",
      "<class 'numpy.str_'>\n"
     ]
    }
   ],
   "source": [
    "import numpy as np\n",
    "list_ = ['1','2','3','4','5' ]\n",
    "array_list = np.array(object = list_)\n",
    "print(\"data type of element in lit_:\")\n",
    "for element in list_:\n",
    "    print(type(element)) \n",
    "print(\"data type of element in list\")\n",
    "for element in array_list:\n",
    "    print(type(element))"
   ]
  },
  {
   "cell_type": "markdown",
   "id": "f64424c3-ad3c-45d7-8a8b-cecfc783aada",
   "metadata": {},
   "source": [
    "Q3. Considering the following changes in the variable, array_list:\n",
    "array_list = np.array(object = list_, dtype = int)\n",
    "\n",
    "Will there be any difference in the data type of the elements present in both the variables, list_ and\n",
    "arra_list? If so then print the data types of each and every element present in both the variables, list_\n",
    "and arra_list.\n",
    "Consider the below code to answer further questions:\n",
    "import numpy as np\n",
    "num_list = [ [ 1 , 2 , 3 ] , [ 4 , 5 , 6 ] ]\n",
    "num_array = np.array(object = num_list)"
   ]
  },
  {
   "cell_type": "code",
   "execution_count": 7,
   "id": "96e96bb8-50ca-4675-9b6d-e40697886eba",
   "metadata": {},
   "outputs": [],
   "source": [
    "array_list = np.array(object = list_, dtype = int)"
   ]
  },
  {
   "cell_type": "code",
   "execution_count": 8,
   "id": "b54f0415-0ac0-4018-912a-56128c58583f",
   "metadata": {},
   "outputs": [],
   "source": [
    "list_ = ['1' ,'2' ,'3' ,'4' ,'5']\n",
    "array_list = np.array(object=list_, dtype=int)"
   ]
  },
  {
   "cell_type": "code",
   "execution_count": 9,
   "id": "aaef068e-f365-4f86-adbc-409a32128f23",
   "metadata": {},
   "outputs": [
    {
     "name": "stdout",
     "output_type": "stream",
     "text": [
      "data type of element in list_:\n",
      "<class 'str'>\n",
      "<class 'str'>\n",
      "<class 'str'>\n",
      "<class 'str'>\n",
      "<class 'str'>\n",
      "data type of element in list\n",
      "<class 'numpy.int64'>\n",
      "<class 'numpy.int64'>\n",
      "<class 'numpy.int64'>\n",
      "<class 'numpy.int64'>\n",
      "<class 'numpy.int64'>\n"
     ]
    }
   ],
   "source": [
    "print(\"data type of element in list_:\")\n",
    "for element in list_:\n",
    "    print(type(element))\n",
    "print(\"data type of element in list\")\n",
    "for element in array_list:\n",
    "    print(type(element))"
   ]
  },
  {
   "cell_type": "markdown",
   "id": "3d9d2f5d-f25a-41eb-aa76-d9a688c0fa4f",
   "metadata": {},
   "source": [
    "Q4. Write a code to find the following characteristics of variable, num_array:\n",
    "(i) shape\n",
    "(ii) size"
   ]
  },
  {
   "cell_type": "code",
   "execution_count": 10,
   "id": "894a708c-46f0-4f4b-892b-ed34e9437d18",
   "metadata": {},
   "outputs": [],
   "source": [
    "num_list = [ [ 1 , 2 , 3 ] , [ 4 , 5 , 6 ] ]"
   ]
  },
  {
   "cell_type": "code",
   "execution_count": 13,
   "id": "b800cfb3-b5dc-4429-9c36-b97a49b7acae",
   "metadata": {},
   "outputs": [],
   "source": [
    "ar = np.array(num_list)"
   ]
  },
  {
   "cell_type": "code",
   "execution_count": 14,
   "id": "68539863-c110-46fd-a66e-e1fdb8dd2e90",
   "metadata": {},
   "outputs": [
    {
     "data": {
      "text/plain": [
       "array([[1, 2, 3],\n",
       "       [4, 5, 6]])"
      ]
     },
     "execution_count": 14,
     "metadata": {},
     "output_type": "execute_result"
    }
   ],
   "source": [
    "ar"
   ]
  },
  {
   "cell_type": "code",
   "execution_count": 15,
   "id": "7115ec2f-826c-432f-aa3f-ea5f88a511ad",
   "metadata": {},
   "outputs": [
    {
     "data": {
      "text/plain": [
       "(2, 3)"
      ]
     },
     "execution_count": 15,
     "metadata": {},
     "output_type": "execute_result"
    }
   ],
   "source": [
    "ar.shape"
   ]
  },
  {
   "cell_type": "code",
   "execution_count": 16,
   "id": "be1e7154-b519-4765-b37a-e33e5da2a2a8",
   "metadata": {},
   "outputs": [
    {
     "data": {
      "text/plain": [
       "6"
      ]
     },
     "execution_count": 16,
     "metadata": {},
     "output_type": "execute_result"
    }
   ],
   "source": [
    "ar.size"
   ]
  },
  {
   "cell_type": "markdown",
   "id": "d16fb5cc-594e-47ba-8581-715194b5b352",
   "metadata": {},
   "source": [
    "Q5. Write a code to create numpy array of 3*3 matrix containing zeros only, using a numpy array\n",
    "creation function.\n",
    "[Hint: The size of the array will be 9 and the shape will be (3,3).]"
   ]
  },
  {
   "cell_type": "code",
   "execution_count": 13,
   "id": "b65664a7-c92d-435e-9b4b-356b3aee0f86",
   "metadata": {},
   "outputs": [],
   "source": [
    "import numpy as np\n",
    "import numpy.matlib as nm"
   ]
  },
  {
   "cell_type": "code",
   "execution_count": 14,
   "id": "c899673d-0402-4672-b7aa-bbe7e94a5fae",
   "metadata": {},
   "outputs": [],
   "source": [
    "a = np.matrix(3*3)"
   ]
  },
  {
   "cell_type": "code",
   "execution_count": 15,
   "id": "dbaa3583-56a3-4c3a-8632-bd7f0202ca43",
   "metadata": {},
   "outputs": [
    {
     "data": {
      "text/plain": [
       "matrix([[9]])"
      ]
     },
     "execution_count": 15,
     "metadata": {},
     "output_type": "execute_result"
    }
   ],
   "source": [
    "a"
   ]
  },
  {
   "cell_type": "code",
   "execution_count": 5,
   "id": "33d3729d-f512-44d6-8594-730ac5c7cde0",
   "metadata": {},
   "outputs": [
    {
     "data": {
      "text/plain": [
       "matrix([[9]])"
      ]
     },
     "execution_count": 5,
     "metadata": {},
     "output_type": "execute_result"
    }
   ],
   "source": [
    "np.asanyarray(a)"
   ]
  },
  {
   "cell_type": "code",
   "execution_count": 9,
   "id": "dace8508-bf5c-4824-a434-faeccad457b8",
   "metadata": {},
   "outputs": [
    {
     "data": {
      "text/plain": [
       "matrix([[0., 0., 0., 0., 0., 0., 0., 0., 0.]])"
      ]
     },
     "execution_count": 9,
     "metadata": {},
     "output_type": "execute_result"
    }
   ],
   "source": [
    "nm.zeros(3*3)"
   ]
  },
  {
   "cell_type": "code",
   "execution_count": 16,
   "id": "f9f7ac3f-7c79-4e41-9c87-319fa3c8a7ba",
   "metadata": {},
   "outputs": [
    {
     "data": {
      "text/plain": [
       "(1, 1)"
      ]
     },
     "execution_count": 16,
     "metadata": {},
     "output_type": "execute_result"
    }
   ],
   "source": [
    "a.shape"
   ]
  },
  {
   "cell_type": "code",
   "execution_count": null,
   "id": "7ba4486b-d6de-4ec5-9213-bacd5eaa49bb",
   "metadata": {},
   "outputs": [],
   "source": []
  },
  {
   "cell_type": "markdown",
   "id": "aee32aa5-fbff-4fd9-a594-8a9484f060e3",
   "metadata": {},
   "source": [
    "Q6. Create an identity matrix of shape (5,5) using numpy functions?\n",
    "[Hint: An identity matrix is a matrix containing 1 diagonally and other elements will be 0.]"
   ]
  },
  {
   "cell_type": "code",
   "execution_count": 18,
   "id": "294e426a-199f-469d-87ef-3e790ca8565a",
   "metadata": {},
   "outputs": [],
   "source": [
    "import numpy as np"
   ]
  },
  {
   "cell_type": "code",
   "execution_count": 23,
   "id": "6915ee59-6496-4ea8-bfdb-29400d16478b",
   "metadata": {},
   "outputs": [
    {
     "data": {
      "text/plain": [
       "array([[0., 0., 0., 0., 0.],\n",
       "       [0., 0., 0., 0., 0.],\n",
       "       [0., 0., 0., 0., 0.],\n",
       "       [0., 0., 0., 0., 0.],\n",
       "       [0., 0., 0., 0., 0.]])"
      ]
     },
     "execution_count": 23,
     "metadata": {},
     "output_type": "execute_result"
    }
   ],
   "source": [
    "np.zeros(shape=(5,5))"
   ]
  }
 ],
 "metadata": {
  "kernelspec": {
   "display_name": "Python 3 (ipykernel)",
   "language": "python",
   "name": "python3"
  },
  "language_info": {
   "codemirror_mode": {
    "name": "ipython",
    "version": 3
   },
   "file_extension": ".py",
   "mimetype": "text/x-python",
   "name": "python",
   "nbconvert_exporter": "python",
   "pygments_lexer": "ipython3",
   "version": "3.10.8"
  }
 },
 "nbformat": 4,
 "nbformat_minor": 5
}
