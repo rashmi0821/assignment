{
 "cells": [
  {
   "cell_type": "markdown",
   "id": "787f018d-01e8-4058-936e-6df0a1b8b3b3",
   "metadata": {},
   "source": [
    "Q.1Creat a python program to short the given list of tuple based on interger value using a lambda \n",
    "function"
   ]
  },
  {
   "cell_type": "code",
   "execution_count": 5,
   "id": "17641eee-0940-48cd-ad86-67d178666a19",
   "metadata": {},
   "outputs": [],
   "source": [
    "Name = [('Sachin Tendulkar' , 34357),('Ricky ponthig' ,27483),('jack kallis',25534),('virat kohli',24936)]"
   ]
  },
  {
   "cell_type": "code",
   "execution_count": 6,
   "id": "e5063252-dbc2-4b87-a6c2-549508e4b8ed",
   "metadata": {},
   "outputs": [],
   "source": [
    "Sorted_Name = sorted(Name , key=lambda x: x[1])"
   ]
  },
  {
   "cell_type": "code",
   "execution_count": 7,
   "id": "3365c62b-6197-47c9-8c8d-10d71af9fbc3",
   "metadata": {},
   "outputs": [
    {
     "name": "stdout",
     "output_type": "stream",
     "text": [
      "[('virat kohli', 24936), ('jack kallis', 25534), ('Ricky ponthig', 27483), ('Sachin Tendulkar', 34357)]\n"
     ]
    }
   ],
   "source": [
    "print(Sorted_Name)"
   ]
  },
  {
   "cell_type": "markdown",
   "id": "cd564e0e-f3c0-4de4-b902-946cc7452f76",
   "metadata": {},
   "source": [
    "Q,2 Write a python program to find the squares of all the numbers in the given list of integers\n",
    "using lambda and map function.\n",
    "[1,2,3,4,5,6,7,8,9,10]"
   ]
  },
  {
   "cell_type": "code",
   "execution_count": 1,
   "id": "9f466720-d156-4995-83d5-ee9c44794c0f",
   "metadata": {},
   "outputs": [],
   "source": [
    "l = [1,2,3,4,5,6,7,8,9,10]"
   ]
  },
  {
   "cell_type": "code",
   "execution_count": 2,
   "id": "57655a0c-68df-4d89-b723-63404336ca1f",
   "metadata": {},
   "outputs": [
    {
     "data": {
      "text/plain": [
       "[1, 2, 3, 4, 5, 6, 7, 8, 9, 10]"
      ]
     },
     "execution_count": 2,
     "metadata": {},
     "output_type": "execute_result"
    }
   ],
   "source": [
    "l"
   ]
  },
  {
   "cell_type": "code",
   "execution_count": 4,
   "id": "c6392bba-26df-4c79-ad10-8a7b6eecaede",
   "metadata": {},
   "outputs": [
    {
     "data": {
      "text/plain": [
       "[1, 4, 9, 16, 25, 36, 49, 64, 81, 100]"
      ]
     },
     "execution_count": 4,
     "metadata": {},
     "output_type": "execute_result"
    }
   ],
   "source": [
    "list(map(lambda x : x**2 , l))"
   ]
  },
  {
   "cell_type": "markdown",
   "id": "ffea3678-04e2-4199-8601-c49c183eb2a3",
   "metadata": {},
   "source": [
    "Q.3 Write a python program to convert the given list of intergers into a tuple of strings.\n",
    "use map and lambda function.\n",
    "given strings [1,2,3,4,5,6,7,8,9,10]"
   ]
  },
  {
   "cell_type": "code",
   "execution_count": 4,
   "id": "0e2f0bbc-8da0-466e-8713-5d428b74f606",
   "metadata": {},
   "outputs": [
    {
     "data": {
      "text/plain": [
       "['1', '2', '3', '4', '5', '6', '7', '8', '9', '10']"
      ]
     },
     "execution_count": 4,
     "metadata": {},
     "output_type": "execute_result"
    }
   ],
   "source": [
    "string = [1,2,3,4,5,6,7,8,9,10]\n",
    " \n",
    "list(map(lambda x : str(x),string))\n"
   ]
  },
  {
   "cell_type": "code",
   "execution_count": null,
   "id": "650e3db5-f749-4f66-aa77-9b3ce366f345",
   "metadata": {},
   "outputs": [],
   "source": [
    "Q.4 Write a python program using reduce function to compute the product of a list containing number\n",
    "from 1 to 25."
   ]
  },
  {
   "cell_type": "code",
   "execution_count": 7,
   "id": "6c5dabe6-a48a-490c-ae3f-d19e8bbb80c7",
   "metadata": {},
   "outputs": [],
   "source": [
    "from functools import reduce"
   ]
  },
  {
   "cell_type": "code",
   "execution_count": 8,
   "id": "8ca761f1-c660-4fe5-91cc-b0912607096c",
   "metadata": {},
   "outputs": [],
   "source": [
    "l = [1,2,3,4,5,6,7,8,9,10,11,12,13,14,15,16,17,18,19,20,21,22,23,24,25]\n"
   ]
  },
  {
   "cell_type": "code",
   "execution_count": 9,
   "id": "2554b8eb-5bc1-4f07-a75a-f5e127dbd152",
   "metadata": {},
   "outputs": [
    {
     "data": {
      "text/plain": [
       "325"
      ]
     },
     "execution_count": 9,
     "metadata": {},
     "output_type": "execute_result"
    }
   ],
   "source": [
    "reduce(lambda x,y : x+y , l)"
   ]
  },
  {
   "cell_type": "code",
   "execution_count": 10,
   "id": "dd4132c5-8fe7-4aa0-918e-d25a5b8b067c",
   "metadata": {},
   "outputs": [
    {
     "data": {
      "text/plain": [
       "15511210043330985984000000"
      ]
     },
     "execution_count": 10,
     "metadata": {},
     "output_type": "execute_result"
    }
   ],
   "source": [
    "reduce(lambda x,y : x*y , l)"
   ]
  },
  {
   "cell_type": "code",
   "execution_count": 11,
   "id": "ec07702d-6915-4e19-bf1f-cf0b383edd80",
   "metadata": {},
   "outputs": [
    {
     "data": {
      "text/plain": [
       "[1,\n",
       " 2,\n",
       " 3,\n",
       " 4,\n",
       " 5,\n",
       " 6,\n",
       " 7,\n",
       " 8,\n",
       " 9,\n",
       " 10,\n",
       " 11,\n",
       " 12,\n",
       " 13,\n",
       " 14,\n",
       " 15,\n",
       " 16,\n",
       " 17,\n",
       " 18,\n",
       " 19,\n",
       " 20,\n",
       " 21,\n",
       " 22,\n",
       " 23,\n",
       " 24,\n",
       " 25]"
      ]
     },
     "execution_count": 11,
     "metadata": {},
     "output_type": "execute_result"
    }
   ],
   "source": [
    "l"
   ]
  },
  {
   "cell_type": "code",
   "execution_count": 12,
   "id": "030ebda6-a9db-488e-8e3f-71092ff16cf2",
   "metadata": {},
   "outputs": [
    {
     "data": {
      "text/plain": [
       "25"
      ]
     },
     "execution_count": 12,
     "metadata": {},
     "output_type": "execute_result"
    }
   ],
   "source": [
    "reduce(lambda x,y: x if x>y else y , l)"
   ]
  },
  {
   "cell_type": "markdown",
   "id": "9c0f6a3a-8c51-4093-80b2-05db4e9f0a02",
   "metadata": {},
   "source": [
    "Q.5 Write a python program to filter the numbers in a given list that are divisible by 2 and 3 using the \n",
    "filter function.\n",
    "[2,3,6,9,27,60,90,120,55,46]"
   ]
  },
  {
   "cell_type": "code",
   "execution_count": 13,
   "id": "bbc3a126-cc15-4a70-80bc-aafa3df80b2c",
   "metadata": {},
   "outputs": [],
   "source": [
    "l2 = [2,3,6,9,27,60,90,120,55,46]"
   ]
  },
  {
   "cell_type": "code",
   "execution_count": 14,
   "id": "251691b8-8bb8-4c88-a581-57b23f9b5dfd",
   "metadata": {},
   "outputs": [
    {
     "data": {
      "text/plain": [
       "[2, 6, 60, 90, 120, 46]"
      ]
     },
     "execution_count": 14,
     "metadata": {},
     "output_type": "execute_result"
    }
   ],
   "source": [
    "list(filter(lambda x : x % 2 == 0 , l2))"
   ]
  },
  {
   "cell_type": "code",
   "execution_count": 15,
   "id": "310c4ac5-53a1-4386-b50d-2b49f1820d74",
   "metadata": {},
   "outputs": [
    {
     "data": {
      "text/plain": [
       "[2, 3, 6, 9, 27, 60, 90, 120, 55, 46]"
      ]
     },
     "execution_count": 15,
     "metadata": {},
     "output_type": "execute_result"
    }
   ],
   "source": [
    "l2"
   ]
  },
  {
   "cell_type": "code",
   "execution_count": 16,
   "id": "0a38a6d6-abe5-4095-987c-e026116b1dfa",
   "metadata": {},
   "outputs": [
    {
     "data": {
      "text/plain": [
       "[3, 6, 9, 27, 60, 90, 120]"
      ]
     },
     "execution_count": 16,
     "metadata": {},
     "output_type": "execute_result"
    }
   ],
   "source": [
    "list(filter(lambda x : x% 3 == 0 , l2))"
   ]
  },
  {
   "cell_type": "markdown",
   "id": "06ba457e-6a0f-4d93-97e2-2735c8696e54",
   "metadata": {},
   "source": [
    "Q.6 Write a python program to find palindromes in the given list of strings using lambda and filter function.\n",
    "['python' , 'php' , 'aba' , 'radar' , 'level']"
   ]
  },
  {
   "cell_type": "code",
   "execution_count": 9,
   "id": "af2ef174-8e91-4769-8da9-2b01da0c71c1",
   "metadata": {},
   "outputs": [],
   "source": [
    "string = ['python' , 'php' , 'aba' , 'radar' , 'level']"
   ]
  },
  {
   "cell_type": "code",
   "execution_count": 10,
   "id": "13d3c8dd-52e0-401c-98e5-390e32fd70a4",
   "metadata": {},
   "outputs": [
    {
     "data": {
      "text/plain": [
       "['php', 'aba', 'radar', 'level']"
      ]
     },
     "execution_count": 10,
     "metadata": {},
     "output_type": "execute_result"
    }
   ],
   "source": [
    "list(filter(lambda word: word ==word[::-1], string))"
   ]
  }
 ],
 "metadata": {
  "kernelspec": {
   "display_name": "Python 3 (ipykernel)",
   "language": "python",
   "name": "python3"
  },
  "language_info": {
   "codemirror_mode": {
    "name": "ipython",
    "version": 3
   },
   "file_extension": ".py",
   "mimetype": "text/x-python",
   "name": "python",
   "nbconvert_exporter": "python",
   "pygments_lexer": "ipython3",
   "version": "3.10.8"
  }
 },
 "nbformat": 4,
 "nbformat_minor": 5
}
