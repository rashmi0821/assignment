{
 "cells": [
  {
   "cell_type": "markdown",
   "id": "cf6ed2eb-7202-435b-a1a5-e1fbdcc7aa54",
   "metadata": {},
   "source": [
    "Q1. What is Web Scraping? Why is it Used? Give three areas where Web Scraping is used to get data."
   ]
  },
  {
   "cell_type": "markdown",
   "id": "1c15877c-4f87-46fa-91c8-f58e4994641b",
   "metadata": {},
   "source": [
    "Web scraping is the process of using bots to extract content and data from a website.\n",
    "Unlike screen scraping, which only copies pixels displayed onscreen, web scraping extracts underlying\n",
    "HTML code and, with it,data stored in a database.\n",
    " \n",
    "There are thre web scraping     \n",
    "Monitoring e-commerce prices.\n",
    "Finding opportunities for investment.\n",
    "Analyzing social media web data."
   ]
  },
  {
   "cell_type": "markdown",
   "id": "477f3944-1344-43d9-a954-d1c6c1a3f6fd",
   "metadata": {},
   "source": [
    "Q2. What are the different methods used for Web Scraping?"
   ]
  },
  {
   "cell_type": "markdown",
   "id": "d0cb916b-9bfc-4cd4-8643-d58747762378",
   "metadata": {},
   "source": [
    "The simplest form of web scraping is manually copying and pasting data from a web page into a text file or \n",
    "spreadsheet. ...\n",
    "Text pattern matching. ...\n",
    "HTTP programming. ...\n",
    "HTML parsing. ...\n",
    "DOM parsing. ...\n",
    "Vertical aggregation. ...\n",
    "Semantic annotation recognizing. ...\n",
    "Computer vision web-page analysis."
   ]
  },
  {
   "cell_type": "markdown",
   "id": "cec62d53-8c82-4e87-9a1b-d1ec2fac1fbb",
   "metadata": {},
   "source": [
    "Q3. What is Beautiful Soup? Why is it used?"
   ]
  },
  {
   "cell_type": "markdown",
   "id": "cd20f4cb-20b5-4be0-b05d-0b0c74e66ca7",
   "metadata": {},
   "source": [
    "Beautiful Soup is a Python package for parsing HTML and XML documents.\n",
    "It creates a parse tree for parsed pages that can be used to extract data from HTML, which is useful for web scraping."
   ]
  },
  {
   "cell_type": "markdown",
   "id": "f08505b6-7e6c-4867-89bc-023b7f774633",
   "metadata": {},
   "source": [
    "Q4. Why is flask used in this Web Scraping project?"
   ]
  },
  {
   "cell_type": "markdown",
   "id": "909fba03-3758-4a9f-a4fd-88f8f66ccc2c",
   "metadata": {},
   "source": [
    "Web scraping is that Python is easy to learn, clear to read, and simple to write in \n",
    "Flask is a lightweight framework to build websites. \n",
    "We'll use this to parse our collected data and display it as HTML in a new HTML file."
   ]
  },
  {
   "cell_type": "markdown",
   "id": "13dbf517-eedc-4f86-8d76-9d9faa29fb94",
   "metadata": {},
   "source": [
    "Q5. Write the names of AWS services used in this project. Also, explain the use of each service."
   ]
  },
  {
   "cell_type": "markdown",
   "id": "d7362402-a67e-4571-9301-40165b0ceeac",
   "metadata": {},
   "source": [
    "Amazon Web Services (AWS) is the world's most comprehensive and \n",
    "broadly adopted cloud, offering over 200 fully featured services from data centers globally.\n"
   ]
  }
 ],
 "metadata": {
  "kernelspec": {
   "display_name": "Python 3 (ipykernel)",
   "language": "python",
   "name": "python3"
  },
  "language_info": {
   "codemirror_mode": {
    "name": "ipython",
    "version": 3
   },
   "file_extension": ".py",
   "mimetype": "text/x-python",
   "name": "python",
   "nbconvert_exporter": "python",
   "pygments_lexer": "ipython3",
   "version": "3.10.8"
  }
 },
 "nbformat": 4,
 "nbformat_minor": 5
}
