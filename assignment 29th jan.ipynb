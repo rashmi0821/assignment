{
 "cells": [
  {
   "cell_type": "markdown",
   "id": "a35adce2-f818-4669-a03f-99d9ba9729c1",
   "metadata": {},
   "source": [
    "Q.1 Who developed python programming Language?"
   ]
  },
  {
   "cell_type": "code",
   "execution_count": null,
   "id": "8d39030f-acbf-44eb-a43e-73f4e58e833a",
   "metadata": {},
   "outputs": [],
   "source": [
    "Python was initially founded in the late 1990s by Guido van rossum."
   ]
  },
  {
   "cell_type": "markdown",
   "id": "2be98d9a-6837-40ec-be39-f182560dcef6",
   "metadata": {},
   "source": [
    "Q.2 Which type of programming does python support?"
   ]
  },
  {
   "cell_type": "code",
   "execution_count": null,
   "id": "ef171f18-8861-493f-99f7-f759161adc4e",
   "metadata": {},
   "outputs": [],
   "source": [
    "Object-oriented programming and structured programming are suppoted in python."
   ]
  },
  {
   "cell_type": "markdown",
   "id": "82ec971f-16c4-4a9d-9382-455f281f83f6",
   "metadata": {},
   "source": [
    "q.3 Is python case senstive when dealing with identifiears?"
   ]
  },
  {
   "cell_type": "code",
   "execution_count": null,
   "id": "46a248ba-0516-4068-8d1b-24b805d007e2",
   "metadata": {},
   "outputs": [],
   "source": [
    "yes, python case senstive when dealing with identifiears."
   ]
  },
  {
   "cell_type": "markdown",
   "id": "21293e2e-201f-4d3d-abd9-1a1e0c77a06f",
   "metadata": {},
   "source": [
    "Q.4 What is the correct extension of the python file?"
   ]
  },
  {
   "cell_type": "code",
   "execution_count": null,
   "id": "bd335627-9da3-41a6-b317-09d0eaf6be35",
   "metadata": {},
   "outputs": [],
   "source": [
    "Then extension for python file are .py,.pyi,."
   ]
  },
  {
   "cell_type": "markdown",
   "id": "31d82057-b141-4364-907d-6332d03652d4",
   "metadata": {},
   "source": [
    "Q.5 Is python code compiled or interpreted?"
   ]
  },
  {
   "cell_type": "code",
   "execution_count": null,
   "id": "60fdb9a8-1bd2-4225-8770-f7aadb27002e",
   "metadata": {},
   "outputs": [],
   "source": [
    "python is a interpreted language."
   ]
  },
  {
   "cell_type": "markdown",
   "id": "a967c57e-9c30-4ecd-905b-8f0489d29b94",
   "metadata": {},
   "source": [
    "Q.6 Name a few blocks of code used to difine in python language?"
   ]
  },
  {
   "cell_type": "code",
   "execution_count": null,
   "id": "f848ad3d-3e95-41cd-bee8-75b1cd1a48e4",
   "metadata": {},
   "outputs": [],
   "source": [
    "A module, a function body , and a class definition. Each command typed interactively is a block, a script file is code block."
   ]
  },
  {
   "cell_type": "markdown",
   "id": "c5ce58c2-8b4d-4bdf-8570-c4a165ccb703",
   "metadata": {},
   "source": [
    "Q.7 State a character used to give single - line comments in python?"
   ]
  },
  {
   "cell_type": "code",
   "execution_count": null,
   "id": "f768f619-8213-4104-85c7-2801093f9dc7",
   "metadata": {},
   "outputs": [],
   "source": [
    "in python, we use the hash  sympol # to write a single comment. "
   ]
  },
  {
   "cell_type": "markdown",
   "id": "c70ec3e7-205b-4fc8-acc0-42ca10fd8254",
   "metadata": {},
   "source": [
    "Q.8 Mention functions which can help use to find the version of python that we are currently working on?"
   ]
  },
  {
   "cell_type": "code",
   "execution_count": null,
   "id": "88af9cae-3a79-408e-9ca8-da1a3fd25085",
   "metadata": {},
   "outputs": [],
   "source": [
    "The function sys.version can help us to find the version of python that we are currently working on."
   ]
  },
  {
   "cell_type": "code",
   "execution_count": null,
   "id": "87cb263e-a261-4540-a668-61bf83cb1c45",
   "metadata": {},
   "outputs": [],
   "source": [
    "Q.9 Python support the creation of anonymouse functions at run time, using a construct called\n",
    "---------"
   ]
  },
  {
   "cell_type": "code",
   "execution_count": null,
   "id": "7bc3d921-517a-424e-af67-dd93c50f7852",
   "metadata": {},
   "outputs": [],
   "source": [
    "Anonymouse function in python are also know as lambda function"
   ]
  },
  {
   "cell_type": "markdown",
   "id": "d5af3c29-6772-4355-96ae-f5ec68dbda9d",
   "metadata": {},
   "source": [
    "Q.10 What does pip stand of python?"
   ]
  },
  {
   "cell_type": "code",
   "execution_count": null,
   "id": "ef17516c-3e3d-4760-92c8-da452390193f",
   "metadata": {},
   "outputs": [],
   "source": [
    "pip install packages."
   ]
  },
  {
   "cell_type": "markdown",
   "id": "f844c529-0a55-4a11-9b55-31dd3b9821b0",
   "metadata": {},
   "source": [
    "Q.11 Mention a few built- in finction in python"
   ]
  },
  {
   "cell_type": "code",
   "execution_count": null,
   "id": "2276ff30-33d3-4611-8a87-19a48c01046b",
   "metadata": {},
   "outputs": [],
   "source": [
    "python built - in funvtion.\n",
    "python recursion function.\n",
    "python lambda function. \n",
    "python user-defined function."
   ]
  },
  {
   "cell_type": "markdown",
   "id": "80b15435-227f-4ced-9b83-0cade7a00efb",
   "metadata": {},
   "source": [
    "Q.12 Wthat is the maximum possible length of an identifier in python."
   ]
  },
  {
   "cell_type": "code",
   "execution_count": null,
   "id": "68894c29-b552-43f2-b258-1aabbbee9908",
   "metadata": {},
   "outputs": [],
   "source": [
    "An identifier can have a maximum length of 79 character in python."
   ]
  },
  {
   "cell_type": "markdown",
   "id": "d680ddfb-7db7-4b11-a2a6-79cb2f487b4a",
   "metadata": {},
   "source": [
    "Q,13 Wthat are the benefits of using python."
   ]
  },
  {
   "cell_type": "code",
   "execution_count": null,
   "id": "92614621-0196-4e08-a9ce-044b82995926",
   "metadata": {},
   "outputs": [],
   "source": [
    "Earning potential, ease of comprehension, flexibility, used in many industries."
   ]
  },
  {
   "cell_type": "markdown",
   "id": "6c45d0de-ba63-4715-963c-7eb1a5511892",
   "metadata": {},
   "source": [
    "Q.14 How is memory mannaged in python."
   ]
  },
  {
   "cell_type": "code",
   "execution_count": null,
   "id": "d59f14b9-e97e-42f4-ba22-d972d0a2bce7",
   "metadata": {},
   "outputs": [],
   "source": [
    "Memory mannaged in python involves a private heap containin all python object and data structures."
   ]
  },
  {
   "cell_type": "markdown",
   "id": "907244d2-09f0-40c5-9218-719184df066c",
   "metadata": {},
   "source": [
    "Q.15 how to install python on windows and set path variable."
   ]
  },
  {
   "cell_type": "code",
   "execution_count": null,
   "id": "62d3e667-ab2e-451e-9d10-bd33f5251457",
   "metadata": {},
   "outputs": [],
   "source": [
    "Look for the loction where python has been installed on your pc using the\n",
    "following command on your command prompt: cmd python. then go to the advance system setting and add new variable\n",
    "and name it as python name and paste the coppied.\n"
   ]
  },
  {
   "cell_type": "markdown",
   "id": "ad8ace56-1c93-4f9e-a5f0-2f213081771a",
   "metadata": {},
   "source": [
    "Q.16 Is indentation required in python."
   ]
  },
  {
   "cell_type": "code",
   "execution_count": null,
   "id": "8006f575-2dcb-4123-bee6-75fda35d57cb",
   "metadata": {},
   "outputs": [],
   "source": [
    "The indentation in python is very important."
   ]
  }
 ],
 "metadata": {
  "kernelspec": {
   "display_name": "Python 3 (ipykernel)",
   "language": "python",
   "name": "python3"
  },
  "language_info": {
   "codemirror_mode": {
    "name": "ipython",
    "version": 3
   },
   "file_extension": ".py",
   "mimetype": "text/x-python",
   "name": "python",
   "nbconvert_exporter": "python",
   "pygments_lexer": "ipython3",
   "version": "3.10.8"
  }
 },
 "nbformat": 4,
 "nbformat_minor": 5
}
