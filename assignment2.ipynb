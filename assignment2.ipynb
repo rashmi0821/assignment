{
 "cells": [
  {
   "cell_type": "markdown",
   "id": "7c253e61-556a-44a1-99b7-ba03ccb17b4d",
   "metadata": {},
   "source": [
    "Q.1 which keyword is used to create a function? create a function to return a list of odd numbers in the range of 1to25."
   ]
  },
  {
   "cell_type": "code",
   "execution_count": null,
   "id": "7d58b818-bd1d-461e-ad16-944c7fc83688",
   "metadata": {},
   "outputs": [],
   "source": [
    "Ans.1 The def keyword is used to create a function"
   ]
  },
  {
   "cell_type": "code",
   "execution_count": 2,
   "id": "04cdd218-eaae-430f-abdb-a697e59475e1",
   "metadata": {},
   "outputs": [],
   "source": [
    "l = [1,2,3,4,5,6,7,8,9,10,11,12,13,14,15,16,17,18,19,20,21,22,23,24,25]"
   ]
  },
  {
   "cell_type": "code",
   "execution_count": 5,
   "id": "9df8e852-7a55-45d6-9ad5-fea93d921dd7",
   "metadata": {},
   "outputs": [
    {
     "data": {
      "text/plain": [
       "25"
      ]
     },
     "execution_count": 5,
     "metadata": {},
     "output_type": "execute_result"
    }
   ],
   "source": [
    "len(l)"
   ]
  },
  {
   "cell_type": "code",
   "execution_count": 6,
   "id": "2d245bdd-cb93-4931-92e5-85f2c41f30c3",
   "metadata": {},
   "outputs": [
    {
     "data": {
      "text/plain": [
       "range(0, 25)"
      ]
     },
     "execution_count": 6,
     "metadata": {},
     "output_type": "execute_result"
    }
   ],
   "source": [
    "range(25)"
   ]
  },
  {
   "cell_type": "code",
   "execution_count": 7,
   "id": "e512f49d-5445-4868-bd9c-2580ba80b1fd",
   "metadata": {},
   "outputs": [
    {
     "data": {
      "text/plain": [
       "[1,\n",
       " 2,\n",
       " 3,\n",
       " 4,\n",
       " 5,\n",
       " 6,\n",
       " 7,\n",
       " 8,\n",
       " 9,\n",
       " 10,\n",
       " 11,\n",
       " 12,\n",
       " 13,\n",
       " 14,\n",
       " 15,\n",
       " 16,\n",
       " 17,\n",
       " 18,\n",
       " 19,\n",
       " 20,\n",
       " 21,\n",
       " 22,\n",
       " 23,\n",
       " 24,\n",
       " 25]"
      ]
     },
     "execution_count": 7,
     "metadata": {},
     "output_type": "execute_result"
    }
   ],
   "source": [
    "l"
   ]
  },
  {
   "cell_type": "code",
   "execution_count": 9,
   "id": "20754016-da74-44d6-a7ca-22f0973826cb",
   "metadata": {},
   "outputs": [],
   "source": [
    "def test():\n",
    "    pass"
   ]
  },
  {
   "cell_type": "code",
   "execution_count": 11,
   "id": "fcd83eca-6b66-49b6-885b-23ef89f26c17",
   "metadata": {},
   "outputs": [],
   "source": [
    "def test1():\n",
    "    return (1,3,5,7,9,11,13,15,17,19,21,23,25)"
   ]
  },
  {
   "cell_type": "code",
   "execution_count": 12,
   "id": "f8ec3281-e64c-4ac9-8f33-c2d960204b1a",
   "metadata": {},
   "outputs": [
    {
     "data": {
      "text/plain": [
       "(1, 3, 5, 7, 9, 11, 13, 15, 17, 19, 21, 23, 25)"
      ]
     },
     "execution_count": 12,
     "metadata": {},
     "output_type": "execute_result"
    }
   ],
   "source": [
    "test1()"
   ]
  },
  {
   "cell_type": "markdown",
   "id": "adf1785a-63f3-4050-90d0-2f79ed0793ef",
   "metadata": {},
   "source": [
    "Q.2 why *args and **kwargs is used in some functions? create a function each for *args and **kwargs to demonstrate their use."
   ]
  },
  {
   "cell_type": "code",
   "execution_count": 59,
   "id": "3bd4cb78-07d6-46c5-a356-bcb1bb338264",
   "metadata": {},
   "outputs": [],
   "source": [
    "d = {\"school\" : \"primary\" , \"collage\" : \"sdmc\" , \"univercity\" : \"mumbai\"}"
   ]
  },
  {
   "cell_type": "code",
   "execution_count": 60,
   "id": "1cbf5ce1-f878-4d9a-802c-2fac01356bce",
   "metadata": {},
   "outputs": [
    {
     "data": {
      "text/plain": [
       "{'school': 'primary', 'collage': 'sdmc', 'univercity': 'mumbai'}"
      ]
     },
     "execution_count": 60,
     "metadata": {},
     "output_type": "execute_result"
    }
   ],
   "source": [
    "d"
   ]
  },
  {
   "cell_type": "code",
   "execution_count": 51,
   "id": "7ee052f9-a6d1-415a-b3be-b90b5d4a7ce1",
   "metadata": {},
   "outputs": [],
   "source": [
    "def d(*sdmc):\n",
    "    return sdmc"
   ]
  },
  {
   "cell_type": "code",
   "execution_count": 62,
   "id": "63eac840-1c4f-47ac-9d24-4235553e4924",
   "metadata": {},
   "outputs": [
    {
     "data": {
      "text/plain": [
       "{'school': 'primary', 'collage': 'sdmc', 'univercity': 'mumbai'}"
      ]
     },
     "execution_count": 62,
     "metadata": {},
     "output_type": "execute_result"
    }
   ],
   "source": [
    "d"
   ]
  },
  {
   "cell_type": "code",
   "execution_count": 65,
   "id": "4c7fa2fd-1430-4bef-9ef4-24b431945a90",
   "metadata": {},
   "outputs": [
    {
     "data": {
      "text/plain": [
       "'sdmc'"
      ]
     },
     "execution_count": 65,
     "metadata": {},
     "output_type": "execute_result"
    }
   ],
   "source": [
    "d[\"collage\"]"
   ]
  },
  {
   "cell_type": "code",
   "execution_count": 67,
   "id": "df9805c5-fdc2-4170-9798-cc450a9e28b9",
   "metadata": {},
   "outputs": [
    {
     "data": {
      "text/plain": [
       "'primary'"
      ]
     },
     "execution_count": 67,
     "metadata": {},
     "output_type": "execute_result"
    }
   ],
   "source": [
    "d[\"school\"]"
   ]
  },
  {
   "cell_type": "markdown",
   "id": "2da00349-8416-4d27-8006-b9e86b1d53d0",
   "metadata": {},
   "source": [
    "Q.3 What is an iterator in python? name the method used to initialise the iterator object and the method used for iteration.\n",
    "used these methods to print the first five elemants of the given list [2,4,6,8,10,12,14,16,16,20]."
   ]
  },
  {
   "cell_type": "code",
   "execution_count": null,
   "id": "a8d7dd2c-eb73-4b61-a277-27a7207b5131",
   "metadata": {},
   "outputs": [],
   "source": [
    "Ans.3 An iterator is a set of countable values. iterator are object that can be iterated over, which means\n",
    "you can go trough all the values."
   ]
  },
  {
   "cell_type": "code",
   "execution_count": 1,
   "id": "96782ba7-8e34-4ff0-9cc3-0f1b725b9979",
   "metadata": {},
   "outputs": [],
   "source": [
    "l = [2,4,6,8,10,12,14,16,16,20]"
   ]
  },
  {
   "cell_type": "code",
   "execution_count": 2,
   "id": "be1ef292-a6a1-449e-8b6c-76af81626203",
   "metadata": {},
   "outputs": [
    {
     "name": "stdout",
     "output_type": "stream",
     "text": [
      "2\n",
      "4\n",
      "6\n",
      "8\n",
      "10\n",
      "12\n",
      "14\n",
      "16\n",
      "16\n",
      "20\n"
     ]
    }
   ],
   "source": [
    "for i in l:\n",
    "    print(i)"
   ]
  },
  {
   "cell_type": "code",
   "execution_count": 3,
   "id": "bcc88da7-cc2f-4fa7-b1db-213c049d5b83",
   "metadata": {},
   "outputs": [
    {
     "data": {
      "text/plain": [
       "[2, 4, 6, 8, 10, 12, 14, 16, 16, 20]"
      ]
     },
     "execution_count": 3,
     "metadata": {},
     "output_type": "execute_result"
    }
   ],
   "source": [
    "l"
   ]
  },
  {
   "cell_type": "code",
   "execution_count": 4,
   "id": "ab092dbb-a945-400a-b4b3-107e966ac9ff",
   "metadata": {},
   "outputs": [],
   "source": [
    "l1 = iter(l)"
   ]
  },
  {
   "cell_type": "code",
   "execution_count": 5,
   "id": "46d16311-db7e-4a77-8db7-bd47b7756655",
   "metadata": {},
   "outputs": [
    {
     "data": {
      "text/plain": [
       "list_iterator"
      ]
     },
     "execution_count": 5,
     "metadata": {},
     "output_type": "execute_result"
    }
   ],
   "source": [
    "type(l1)"
   ]
  },
  {
   "cell_type": "code",
   "execution_count": 6,
   "id": "41e182ee-9c06-47e6-b9e1-bfa3b3654419",
   "metadata": {},
   "outputs": [
    {
     "data": {
      "text/plain": [
       "2"
      ]
     },
     "execution_count": 6,
     "metadata": {},
     "output_type": "execute_result"
    }
   ],
   "source": [
    "next(l1)"
   ]
  },
  {
   "cell_type": "code",
   "execution_count": 7,
   "id": "b129394f-497c-4d3a-95e7-33dda03eca9c",
   "metadata": {},
   "outputs": [
    {
     "data": {
      "text/plain": [
       "4"
      ]
     },
     "execution_count": 7,
     "metadata": {},
     "output_type": "execute_result"
    }
   ],
   "source": [
    "next(l1)"
   ]
  },
  {
   "cell_type": "code",
   "execution_count": 8,
   "id": "8e115b97-857e-4117-86ad-19f41fcefd6f",
   "metadata": {},
   "outputs": [
    {
     "data": {
      "text/plain": [
       "6"
      ]
     },
     "execution_count": 8,
     "metadata": {},
     "output_type": "execute_result"
    }
   ],
   "source": [
    "next(l1)"
   ]
  },
  {
   "cell_type": "code",
   "execution_count": 9,
   "id": "ae608e82-e2e0-4517-897f-63978cde3346",
   "metadata": {},
   "outputs": [
    {
     "data": {
      "text/plain": [
       "8"
      ]
     },
     "execution_count": 9,
     "metadata": {},
     "output_type": "execute_result"
    }
   ],
   "source": [
    "next(l1)"
   ]
  },
  {
   "cell_type": "code",
   "execution_count": 10,
   "id": "1c483fcb-d814-4587-a0c7-f8fb6575ff4f",
   "metadata": {},
   "outputs": [
    {
     "data": {
      "text/plain": [
       "10"
      ]
     },
     "execution_count": 10,
     "metadata": {},
     "output_type": "execute_result"
    }
   ],
   "source": [
    "next(l1)"
   ]
  },
  {
   "cell_type": "code",
   "execution_count": 14,
   "id": "e3ccf48f-05e1-4e47-9c48-3ebd3267ad40",
   "metadata": {},
   "outputs": [],
   "source": [
    "def count_test(n):\n",
    "    count = 2\n",
    "    while count <= n:\n",
    "        yield count\n",
    "        count = count + 2"
   ]
  },
  {
   "cell_type": "code",
   "execution_count": 17,
   "id": "589f2794-f856-4f87-97b5-f365fb2fef49",
   "metadata": {},
   "outputs": [],
   "source": [
    "c = count_test(10)"
   ]
  },
  {
   "cell_type": "code",
   "execution_count": 18,
   "id": "ebdf71cf-d6b1-4ea8-8dbd-8767061359a3",
   "metadata": {},
   "outputs": [
    {
     "name": "stdout",
     "output_type": "stream",
     "text": [
      "2\n",
      "4\n",
      "6\n",
      "8\n",
      "10\n"
     ]
    }
   ],
   "source": [
    "for i in c:\n",
    "    print(i)"
   ]
  },
  {
   "cell_type": "markdown",
   "id": "6ba84708-9c8b-4622-b10d-9025b8decbc2",
   "metadata": {},
   "source": [
    "Q.4 What is generator function in python? why yield keyword is used? give an example of a generator function."
   ]
  },
  {
   "cell_type": "markdown",
   "id": "40d2af76-9be5-4c2a-9dc5-43bd22313500",
   "metadata": {},
   "source": [
    "Ans.1 Generator function is that in the normal function, we use the return keyword the return the values, and in the generator\n",
    "function, we use yield to execute our iterator.\n",
    "Yield keyword is used for returning values or object in python."
   ]
  },
  {
   "cell_type": "code",
   "execution_count": 21,
   "id": "c7d74df3-fb65-4f8b-86be-8dd958b54a34",
   "metadata": {},
   "outputs": [],
   "source": [
    "l1 = [1,2,3,4,5]"
   ]
  },
  {
   "cell_type": "code",
   "execution_count": 22,
   "id": "344872d5-5e1e-45dd-8d85-94a8197efcac",
   "metadata": {},
   "outputs": [
    {
     "data": {
      "text/plain": [
       "[1, 2, 3, 4, 5]"
      ]
     },
     "execution_count": 22,
     "metadata": {},
     "output_type": "execute_result"
    }
   ],
   "source": [
    "l"
   ]
  },
  {
   "cell_type": "code",
   "execution_count": 26,
   "id": "7a9ec0f8-bf2b-4c79-b1a3-abfa91d08487",
   "metadata": {},
   "outputs": [],
   "source": [
    "def count_test(l):\n",
    "    count = 1\n",
    "    while count <= l:\n",
    "        yield count \n",
    "        count = count + 2"
   ]
  },
  {
   "cell_type": "code",
   "execution_count": 24,
   "id": "16958b53-f23d-4676-8cc1-edc35fc0b163",
   "metadata": {},
   "outputs": [],
   "source": [
    "c = count_test(5)"
   ]
  },
  {
   "cell_type": "code",
   "execution_count": 25,
   "id": "cc219b6d-156b-4a06-8fca-eacabc9a9096",
   "metadata": {},
   "outputs": [
    {
     "name": "stdout",
     "output_type": "stream",
     "text": [
      "1\n",
      "3\n",
      "5\n"
     ]
    }
   ],
   "source": [
    "for i in c:\n",
    "    print(i)"
   ]
  },
  {
   "cell_type": "markdown",
   "id": "8c0cef6f-d2fc-4f12-b9ba-b6b8a22cf4d8",
   "metadata": {},
   "source": [
    "Q.5 Create a generator function for prime number less than 1000. use the next() method to print the first 20\n",
    "prime numbers."
   ]
  },
  {
   "cell_type": "code",
   "execution_count": 9,
   "id": "c5722037-c413-4929-b2bb-4ba8e8ec2eb5",
   "metadata": {},
   "outputs": [],
   "source": [
    "def gen_primes():\n",
    "    primes = []\n",
    "    num = 2\n",
    "    while num < 1000:\n",
    "        if all(num % i != 0 for i in primes):\n",
    "            primes.append(num)\n",
    "            yield num\n",
    "        num += 1"
   ]
  },
  {
   "cell_type": "code",
   "execution_count": 10,
   "id": "c0098517-5cb4-40d1-b777-3a7785e404ba",
   "metadata": {},
   "outputs": [
    {
     "name": "stdout",
     "output_type": "stream",
     "text": [
      "2\n",
      "3\n",
      "5\n",
      "7\n",
      "11\n",
      "13\n",
      "17\n",
      "19\n",
      "23\n",
      "29\n",
      "31\n",
      "37\n",
      "41\n",
      "43\n",
      "47\n",
      "53\n",
      "59\n",
      "61\n",
      "67\n",
      "71\n"
     ]
    }
   ],
   "source": [
    "prime_generator = gen_primes()\n",
    "for i in range(20):\n",
    "    print(next(prime_generator))"
   ]
  },
  {
   "cell_type": "markdown",
   "id": "72f35f04-e558-4d4a-aa7b-ba35e6d73669",
   "metadata": {},
   "source": [
    "Q.6 write a python programe to print the first 10 fibonacci using a while loop."
   ]
  },
  {
   "cell_type": "code",
   "execution_count": 42,
   "id": "b2593d4c-de76-4f0b-8ae5-921fb113cfb3",
   "metadata": {},
   "outputs": [
    {
     "data": {
      "text/plain": [
       "range(0, 10)"
      ]
     },
     "execution_count": 42,
     "metadata": {},
     "output_type": "execute_result"
    }
   ],
   "source": [
    "range(10)"
   ]
  },
  {
   "cell_type": "code",
   "execution_count": 44,
   "id": "698c0ae2-4e0c-4d86-a6e9-f5c1a66eaef9",
   "metadata": {},
   "outputs": [
    {
     "name": "stdout",
     "output_type": "stream",
     "text": [
      "0\n",
      "1\n",
      "2\n",
      "3\n",
      "4\n",
      "5\n",
      "6\n",
      "7\n",
      "8\n",
      "9\n"
     ]
    }
   ],
   "source": [
    "for i in range(10):\n",
    "    print(i)"
   ]
  },
  {
   "cell_type": "code",
   "execution_count": 54,
   "id": "cd14ce48-f882-4354-81f5-c2f29e50af59",
   "metadata": {},
   "outputs": [],
   "source": [
    "def test_fib(n):\n",
    "    a,b = 0,1\n",
    "    for i in range(n):\n",
    "        yield a \n",
    "        a,b = b , a+b\n",
    "            \n",
    "            "
   ]
  },
  {
   "cell_type": "code",
   "execution_count": 56,
   "id": "286b09e5-249c-4c04-ba42-c9c16a05e231",
   "metadata": {},
   "outputs": [
    {
     "name": "stdout",
     "output_type": "stream",
     "text": [
      "0\n",
      "1\n",
      "1\n",
      "2\n",
      "3\n",
      "5\n",
      "8\n",
      "13\n",
      "21\n",
      "34\n"
     ]
    }
   ],
   "source": [
    "for i in test_fib(10):\n",
    "         print(i)"
   ]
  },
  {
   "cell_type": "markdown",
   "id": "7af987b1-8a05-4a23-9e09-8d90ac4c9707",
   "metadata": {},
   "source": [
    "Q.7 Write a list comprehension to iterate through the given string: \"pwskills\".\n",
    "Expected output: ['p','w','s','k','i','l','l','s']"
   ]
  },
  {
   "cell_type": "code",
   "execution_count": 3,
   "id": "ef94363c-e5d2-4c14-937b-c0b886da0b8d",
   "metadata": {},
   "outputs": [],
   "source": [
    "l = \"pwskills\""
   ]
  },
  {
   "cell_type": "code",
   "execution_count": 4,
   "id": "4c79e295-6bf0-4474-a033-f043bc1a10b5",
   "metadata": {},
   "outputs": [
    {
     "data": {
      "text/plain": [
       "'pwskills'"
      ]
     },
     "execution_count": 4,
     "metadata": {},
     "output_type": "execute_result"
    }
   ],
   "source": [
    "l"
   ]
  },
  {
   "cell_type": "code",
   "execution_count": 6,
   "id": "7b9e4822-9f90-4b60-9ffb-737396ffaabb",
   "metadata": {},
   "outputs": [
    {
     "data": {
      "text/plain": [
       "['p', 'w', 's', 'k', 'i', 'l', 'l', 's']"
      ]
     },
     "execution_count": 6,
     "metadata": {},
     "output_type": "execute_result"
    }
   ],
   "source": [
    "[i.lower() for i in l]"
   ]
  },
  {
   "cell_type": "markdown",
   "id": "b95a72e0-e4dd-4c7b-93cf-002c2af7419d",
   "metadata": {},
   "source": [
    "Q.8 Write a python programe to check whether a given number in palindrome or not using a while loop."
   ]
  },
  {
   "cell_type": "code",
   "execution_count": 2,
   "id": "eddd2771-5f03-46ce-8fe7-abf27405fc2b",
   "metadata": {},
   "outputs": [
    {
     "name": "stdin",
     "output_type": "stream",
     "text": [
      "enter a number: 10\n"
     ]
    },
    {
     "name": "stdout",
     "output_type": "stream",
     "text": [
      "10 is a palindrome number\n"
     ]
    }
   ],
   "source": [
    "num = int(input(\"enter a number:\"))\n",
    "temp = num\n",
    "rev_num = 0\n",
    "while temp > 0:\n",
    "    rev_num = rev_num*10+temp % 10 \n",
    "    temp = temp // 10\n",
    "if num == rev_num :\n",
    "    print(num, \"is a palindrome numer\") \n",
    "else: \n",
    "    print (num, \"is a palindrome number\")\n",
    "                         \n",
    "             "
   ]
  },
  {
   "cell_type": "markdown",
   "id": "24630fb5-0532-4073-8eb1-1f2adce48036",
   "metadata": {},
   "source": [
    "Q.9 Write a code to print odd number from 1 to 100 using list comprehension."
   ]
  },
  {
   "cell_type": "code",
   "execution_count": 31,
   "id": "66938f7e-e274-44ce-80ed-e5e0ba68a1a3",
   "metadata": {},
   "outputs": [
    {
     "name": "stdout",
     "output_type": "stream",
     "text": [
      "odd number from 1 - 100 are ....\n",
      "1\n",
      "3\n",
      "5\n",
      "7\n",
      "9\n",
      "11\n",
      "13\n",
      "15\n",
      "17\n",
      "19\n",
      "21\n",
      "23\n",
      "25\n",
      "27\n",
      "29\n",
      "31\n",
      "33\n",
      "35\n",
      "37\n",
      "39\n",
      "41\n",
      "43\n",
      "45\n",
      "47\n",
      "49\n",
      "51\n",
      "53\n",
      "55\n",
      "57\n",
      "59\n",
      "61\n",
      "63\n",
      "65\n",
      "67\n",
      "69\n",
      "71\n",
      "73\n",
      "75\n",
      "77\n",
      "79\n",
      "81\n",
      "83\n",
      "85\n",
      "87\n",
      "89\n",
      "91\n",
      "93\n",
      "95\n",
      "97\n",
      "99\n"
     ]
    }
   ],
   "source": [
    "print (\"odd number from 1 - 100 are ....\")\n",
    "for i in range (1, 100+ 1,2):\n",
    "    print(i)"
   ]
  },
  {
   "cell_type": "code",
   "execution_count": 35,
   "id": "a38d02ea-42ce-4bd0-8c0f-3827f7795aa3",
   "metadata": {},
   "outputs": [
    {
     "name": "stdout",
     "output_type": "stream",
     "text": [
      "3\n",
      "6\n",
      "9\n",
      "12\n",
      "15\n",
      "18\n",
      "21\n",
      "24\n",
      "27\n",
      "30\n",
      "33\n",
      "36\n",
      "39\n",
      "42\n",
      "45\n",
      "48\n",
      "51\n",
      "54\n",
      "57\n",
      "60\n",
      "63\n",
      "66\n",
      "69\n",
      "72\n",
      "75\n",
      "78\n",
      "81\n",
      "84\n",
      "87\n",
      "90\n",
      "93\n",
      "96\n",
      "99\n"
     ]
    }
   ],
   "source": [
    "for i in range(1,100):\n",
    "    if i % 3 == 0:\n",
    "        print(i)"
   ]
  },
  {
   "cell_type": "code",
   "execution_count": 36,
   "id": "cc4e5b33-2fc1-44a7-9f5b-4fb2f2f9bd99",
   "metadata": {},
   "outputs": [
    {
     "data": {
      "text/plain": [
       "99"
      ]
     },
     "execution_count": 36,
     "metadata": {},
     "output_type": "execute_result"
    }
   ],
   "source": [
    "i"
   ]
  },
  {
   "cell_type": "code",
   "execution_count": null,
   "id": "1363c796-f8c0-4357-b695-2249df1beedc",
   "metadata": {},
   "outputs": [],
   "source": []
  }
 ],
 "metadata": {
  "kernelspec": {
   "display_name": "Python 3 (ipykernel)",
   "language": "python",
   "name": "python3"
  },
  "language_info": {
   "codemirror_mode": {
    "name": "ipython",
    "version": 3
   },
   "file_extension": ".py",
   "mimetype": "text/x-python",
   "name": "python",
   "nbconvert_exporter": "python",
   "pygments_lexer": "ipython3",
   "version": "3.10.8"
  }
 },
 "nbformat": 4,
 "nbformat_minor": 5
}
